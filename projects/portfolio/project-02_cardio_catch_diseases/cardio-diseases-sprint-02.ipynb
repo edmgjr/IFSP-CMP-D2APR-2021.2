{
  "nbformat": 4,
  "nbformat_minor": 5,
  "metadata": {
    "kernelspec": {
      "display_name": "Python 3",
      "language": "python",
      "name": "python3"
    },
    "language_info": {
      "codemirror_mode": {
        "name": "ipython",
        "version": 3
      },
      "file_extension": ".py",
      "mimetype": "text/x-python",
      "name": "python",
      "nbconvert_exporter": "python",
      "pygments_lexer": "ipython3",
      "version": "3.8.5"
    },
    "colab": {
      "name": "cardio-diseases-sprint-02.ipynb",
      "provenance": [],
      "include_colab_link": true
    }
  },
  "cells": [
    {
      "cell_type": "markdown",
      "metadata": {
        "id": "view-in-github",
        "colab_type": "text"
      },
      "source": [
        "<a href=\"https://colab.research.google.com/github/edmgjr/IFSP-CMP-D2APR-2021.2/blob/main/projects/portfolio/project-02_cardio_catch_diseases/cardio-diseases-sprint-02.ipynb\" target=\"_parent\"><img src=\"https://colab.research.google.com/assets/colab-badge.svg\" alt=\"Open In Colab\"/></a>"
      ]
    },
    {
      "cell_type": "markdown",
      "metadata": {
        "id": "about-supply"
      },
      "source": [
        "### **D2APR: Aprendizado de Máquina e Reconhecimento de Padrões** (IFSP, Campinas) <br/>\n",
        "**Prof**: Samuel Martins (Samuka) <br/>\n",
        "\n",
        "<a rel=\"license\" href=\"http://creativecommons.org/licenses/by-nc-sa/4.0/\"><img alt=\"Creative Commons License\" style=\"border-width:0\" src=\"https://i.creativecommons.org/l/by-nc-sa/4.0/88x31.png\" /></a><br />This work is licensed under a <a rel=\"license\" href=\"http://creativecommons.org/licenses/by-nc-sa/4.0/\">Creative Commons Attribution-NonCommercial-ShareAlike 4.0 International License</a>. <br/><br/>"
      ],
      "id": "about-supply"
    },
    {
      "cell_type": "markdown",
      "metadata": {
        "id": "active-inventory"
      },
      "source": [
        "#### Custom CSS style"
      ],
      "id": "active-inventory"
    },
    {
      "cell_type": "code",
      "metadata": {
        "tags": [],
        "id": "collective-spencer",
        "outputId": "114d9352-9b65-42f7-8bfa-a70046a52838",
        "colab": {
          "base_uri": "https://localhost:8080/",
          "height": 17
        }
      },
      "source": [
        "%%html\n",
        "<style>\n",
        ".dashed-box {\n",
        "    border: 1px dashed black !important;\n",
        "#    font-size: var(--jp-content-font-size1) !important;\n",
        "}\n",
        "\n",
        ".dashed-box table {\n",
        "\n",
        "}\n",
        "\n",
        ".dashed-box tr {\n",
        "    background-color: white !important;\n",
        "}\n",
        "        \n",
        ".alt-tab {\n",
        "    background-color: black;\n",
        "    color: #ffc351;\n",
        "    padding: 4px;\n",
        "    font-size: 1em;\n",
        "    font-weight: bold;\n",
        "    font-family: monospace;\n",
        "}\n",
        "// add your CSS styling here\n",
        "</style>"
      ],
      "id": "collective-spencer",
      "execution_count": 1,
      "outputs": [
        {
          "output_type": "display_data",
          "data": {
            "text/html": [
              "<style>\n",
              ".dashed-box {\n",
              "    border: 1px dashed black !important;\n",
              "#    font-size: var(--jp-content-font-size1) !important;\n",
              "}\n",
              "\n",
              ".dashed-box table {\n",
              "\n",
              "}\n",
              "\n",
              ".dashed-box tr {\n",
              "    background-color: white !important;\n",
              "}\n",
              "        \n",
              ".alt-tab {\n",
              "    background-color: black;\n",
              "    color: #ffc351;\n",
              "    padding: 4px;\n",
              "    font-size: 1em;\n",
              "    font-weight: bold;\n",
              "    font-family: monospace;\n",
              "}\n",
              "// add your CSS styling here\n",
              "</style>"
            ],
            "text/plain": [
              "<IPython.core.display.HTML object>"
            ]
          },
          "metadata": {}
        }
      ]
    },
    {
      "cell_type": "markdown",
      "metadata": {
        "id": "flexible-flower"
      },
      "source": [
        "<span style='font-size: 2.5em'><b>Cardiovascular Disease 💔</b></span><br/>\n",
        "<span style='font-size: 1.5em'>Predict cardiovascular diseases</span>\n",
        "\n",
        "<span style=\"background-color: #ffc351; padding: 4px; font-size: 1em;\"><b>Sprint #2</b></span>\n",
        "\n",
        "<img src=\"https://github.com/edmgjr/IFSP-CMP-D2APR-2021.2/blob/main/projects/portfolio/project-02_cardio_catch_diseases/imgs/cardio.png?raw=1\" width=300/>\n",
        "\n",
        "---\n",
        "\n"
      ],
      "id": "flexible-flower"
    },
    {
      "cell_type": "markdown",
      "metadata": {
        "id": "neither-innocent"
      },
      "source": [
        "## Before starting this notebook\n",
        "This jupyter notebook is designed for **experimental and teaching purposes**. <br/>\n",
        "Although it is (relatively) well organized, it aims at solving the _target problem_ by evaluating (and documenting) _different solutions_ for somes steps of the **machine learning pipeline** — see the [***Machine Learning Project Checklist by xavecoding***](https://github.com/xavecoding/IFSP-CMP-D2APR-2021.2/blob/main/cheat-sheets/machine-learning-project-checklist_by_xavecoding.pdf). <br/>\n",
        "We tried to make this notebook as literally a _notebook_. Thus, it contains notes, drafts, comments, etc.<br/>\n",
        "\n",
        "For teaching purposes, some parts of the notebook may be _overcommented_. Moreover, to simulate a real development scenario, we will divide our solution and experiments into **\"sprints\"** in which each sprint has some goals (e.g., perform _feature selection_, train more ML models, ...). <br/>\n",
        "The **sprint goal** will be stated at the beginning of the notebook.\n",
        "\n",
        "A ***final notebook*** (or any other kind of presentation) that compiles and summarizes all sprints — the target problem, solutions, and findings — should be created later.\n",
        "\n",
        "#### Conventions\n",
        "\n",
        "<ul>\n",
        "    <li>💡 indicates a tip. </li>\n",
        "    <li> ⚠️ indicates a warning message. </li>\n",
        "    <li><span class='alt-tab'>alt tab</span> indicates and an extra content (<i>e.g.</i>, slides) to explain a given concept.</li>\n",
        "</ul>\n",
        "\n",
        "---"
      ],
      "id": "neither-innocent"
    },
    {
      "cell_type": "markdown",
      "metadata": {
        "id": "sixth-somewhere"
      },
      "source": [
        "## 🎯 Sprint Goals\n",
        "- Preprocess the data\n",
        "- Evaluate on the training set: KNN, Logistic Regression, and Polynomial Logistic Regression\n",
        "---"
      ],
      "id": "sixth-somewhere"
    },
    {
      "cell_type": "markdown",
      "metadata": {
        "id": "trained-shame"
      },
      "source": [
        "### 0. Imports and default settings for plotting"
      ],
      "id": "trained-shame"
    },
    {
      "cell_type": "code",
      "metadata": {
        "id": "level-spirituality"
      },
      "source": [
        "import numpy as np\n",
        "import pandas as pd\n",
        "import matplotlib.pyplot as plt\n",
        "import seaborn as sns\n",
        "\n",
        "sns.set_theme(style=\"whitegrid\")\n",
        "\n",
        "params = {'legend.fontsize': 'x-large',\n",
        "          'figure.figsize': (15, 5),\n",
        "         'axes.labelsize': 'x-large',\n",
        "         'axes.titlesize':'x-large',\n",
        "         'xtick.labelsize':'x-large',\n",
        "         'ytick.labelsize':'x-large'}\n",
        "plt.rcParams.update(params)"
      ],
      "id": "level-spirituality",
      "execution_count": 2,
      "outputs": []
    },
    {
      "cell_type": "markdown",
      "metadata": {
        "id": "manufactured-polymer"
      },
      "source": [
        "## 🛠️ 5. Prepare the Data\n",
        "\n",
        "**Preprocessing tasks**\n",
        "- Fill in missing values (imputation)\n",
        "- Feature Scaling\n",
        "- One-Hot Encoding"
      ],
      "id": "manufactured-polymer"
    },
    {
      "cell_type": "markdown",
      "metadata": {
        "id": "reliable-executive"
      },
      "source": [
        "### 5.1. Load the cleaned training set\n",
        "Let's consider the training and testing sets already cleaned (Sprint #1)"
      ],
      "id": "reliable-executive"
    },
    {
      "cell_type": "code",
      "metadata": {
        "id": "Eik8MoyJWbqG"
      },
      "source": [
        "raw_url='https://raw.githubusercontent.com/edmgjr/IFSP-CMP-D2APR-2021.2/main/projects/portfolio/project-02_cardio_catch_diseases/datasets/cardio_clean_train.csv'"
      ],
      "id": "Eik8MoyJWbqG",
      "execution_count": 3,
      "outputs": []
    },
    {
      "cell_type": "code",
      "metadata": {
        "id": "gorgeous-jersey"
      },
      "source": [
        "cardio_train = pd.read_csv(raw_url)"
      ],
      "id": "gorgeous-jersey",
      "execution_count": 4,
      "outputs": []
    },
    {
      "cell_type": "code",
      "metadata": {
        "id": "eleven-supervision",
        "outputId": "a873772b-1160-463f-ab44-08432b8b6795",
        "colab": {
          "base_uri": "https://localhost:8080/",
          "height": 206
        }
      },
      "source": [
        "cardio_train.head()"
      ],
      "id": "eleven-supervision",
      "execution_count": 5,
      "outputs": [
        {
          "output_type": "execute_result",
          "data": {
            "text/html": [
              "<div>\n",
              "<style scoped>\n",
              "    .dataframe tbody tr th:only-of-type {\n",
              "        vertical-align: middle;\n",
              "    }\n",
              "\n",
              "    .dataframe tbody tr th {\n",
              "        vertical-align: top;\n",
              "    }\n",
              "\n",
              "    .dataframe thead th {\n",
              "        text-align: right;\n",
              "    }\n",
              "</style>\n",
              "<table border=\"1\" class=\"dataframe\">\n",
              "  <thead>\n",
              "    <tr style=\"text-align: right;\">\n",
              "      <th></th>\n",
              "      <th>age</th>\n",
              "      <th>gender</th>\n",
              "      <th>height</th>\n",
              "      <th>weight</th>\n",
              "      <th>ap_hi</th>\n",
              "      <th>ap_lo</th>\n",
              "      <th>cholesterol</th>\n",
              "      <th>gluc</th>\n",
              "      <th>smoke</th>\n",
              "      <th>alco</th>\n",
              "      <th>active</th>\n",
              "      <th>cardio</th>\n",
              "    </tr>\n",
              "  </thead>\n",
              "  <tbody>\n",
              "    <tr>\n",
              "      <th>0</th>\n",
              "      <td>21875</td>\n",
              "      <td>2</td>\n",
              "      <td>171</td>\n",
              "      <td>74.0</td>\n",
              "      <td>120</td>\n",
              "      <td>80</td>\n",
              "      <td>1</td>\n",
              "      <td>1</td>\n",
              "      <td>0</td>\n",
              "      <td>0</td>\n",
              "      <td>0</td>\n",
              "      <td>1</td>\n",
              "    </tr>\n",
              "    <tr>\n",
              "      <th>1</th>\n",
              "      <td>15302</td>\n",
              "      <td>1</td>\n",
              "      <td>162</td>\n",
              "      <td>66.0</td>\n",
              "      <td>110</td>\n",
              "      <td>80</td>\n",
              "      <td>1</td>\n",
              "      <td>1</td>\n",
              "      <td>0</td>\n",
              "      <td>0</td>\n",
              "      <td>1</td>\n",
              "      <td>0</td>\n",
              "    </tr>\n",
              "    <tr>\n",
              "      <th>2</th>\n",
              "      <td>18079</td>\n",
              "      <td>1</td>\n",
              "      <td>166</td>\n",
              "      <td>69.0</td>\n",
              "      <td>120</td>\n",
              "      <td>80</td>\n",
              "      <td>1</td>\n",
              "      <td>2</td>\n",
              "      <td>0</td>\n",
              "      <td>0</td>\n",
              "      <td>1</td>\n",
              "      <td>0</td>\n",
              "    </tr>\n",
              "    <tr>\n",
              "      <th>3</th>\n",
              "      <td>21680</td>\n",
              "      <td>1</td>\n",
              "      <td>169</td>\n",
              "      <td>65.0</td>\n",
              "      <td>120</td>\n",
              "      <td>80</td>\n",
              "      <td>1</td>\n",
              "      <td>1</td>\n",
              "      <td>0</td>\n",
              "      <td>0</td>\n",
              "      <td>0</td>\n",
              "      <td>1</td>\n",
              "    </tr>\n",
              "    <tr>\n",
              "      <th>4</th>\n",
              "      <td>14368</td>\n",
              "      <td>1</td>\n",
              "      <td>155</td>\n",
              "      <td>80.0</td>\n",
              "      <td>120</td>\n",
              "      <td>80</td>\n",
              "      <td>1</td>\n",
              "      <td>1</td>\n",
              "      <td>0</td>\n",
              "      <td>0</td>\n",
              "      <td>1</td>\n",
              "      <td>0</td>\n",
              "    </tr>\n",
              "  </tbody>\n",
              "</table>\n",
              "</div>"
            ],
            "text/plain": [
              "     age  gender  height  weight  ap_hi  ...  gluc  smoke  alco  active  cardio\n",
              "0  21875       2     171    74.0    120  ...     1      0     0       0       1\n",
              "1  15302       1     162    66.0    110  ...     1      0     0       1       0\n",
              "2  18079       1     166    69.0    120  ...     2      0     0       1       0\n",
              "3  21680       1     169    65.0    120  ...     1      0     0       0       1\n",
              "4  14368       1     155    80.0    120  ...     1      0     0       1       0\n",
              "\n",
              "[5 rows x 12 columns]"
            ]
          },
          "metadata": {},
          "execution_count": 5
        }
      ]
    },
    {
      "cell_type": "code",
      "metadata": {
        "id": "banned-salem",
        "outputId": "50a6e533-e5ed-4c42-d895-4a26a07e44c3",
        "colab": {
          "base_uri": "https://localhost:8080/"
        }
      },
      "source": [
        "# Just to remember what categorical variables are like\n",
        "for cat_attribute in ['gender', 'cholesterol', 'gluc', 'smoke', 'alco', 'active']:\n",
        "    print(cardio_train[cat_attribute].value_counts())\n",
        "    print()"
      ],
      "id": "banned-salem",
      "execution_count": 6,
      "outputs": [
        {
          "output_type": "stream",
          "name": "stdout",
          "text": [
            "1    35641\n",
            "2    19079\n",
            "Name: gender, dtype: int64\n",
            "\n",
            "1    41031\n",
            "2     7401\n",
            "3     6288\n",
            "Name: cholesterol, dtype: int64\n",
            "\n",
            "1    46543\n",
            "3     4173\n",
            "2     4004\n",
            "Name: gluc, dtype: int64\n",
            "\n",
            "0    49918\n",
            "1     4802\n",
            "Name: smoke, dtype: int64\n",
            "\n",
            "0    51793\n",
            "1     2927\n",
            "Name: alco, dtype: int64\n",
            "\n",
            "1    43963\n",
            "0    10757\n",
            "Name: active, dtype: int64\n",
            "\n"
          ]
        }
      ]
    },
    {
      "cell_type": "markdown",
      "metadata": {
        "id": "solid-acoustic"
      },
      "source": [
        "### 5.2. Separate the features and the classes (target outcome)"
      ],
      "id": "solid-acoustic"
    },
    {
      "cell_type": "code",
      "metadata": {
        "id": "bibliographic-toronto",
        "outputId": "bfd1925b-a492-4167-f67b-fdabe1e7a6c5",
        "colab": {
          "base_uri": "https://localhost:8080/"
        }
      },
      "source": [
        "cardio_train.columns"
      ],
      "id": "bibliographic-toronto",
      "execution_count": 7,
      "outputs": [
        {
          "output_type": "execute_result",
          "data": {
            "text/plain": [
              "Index(['age', 'gender', 'height', 'weight', 'ap_hi', 'ap_lo', 'cholesterol',\n",
              "       'gluc', 'smoke', 'alco', 'active', 'cardio'],\n",
              "      dtype='object')"
            ]
          },
          "metadata": {},
          "execution_count": 7
        }
      ]
    },
    {
      "cell_type": "code",
      "metadata": {
        "id": "dental-jesus"
      },
      "source": [
        "# store the target outcome into a numpy array\n",
        "y_train = cardio_train['cardio'].values"
      ],
      "id": "dental-jesus",
      "execution_count": 8,
      "outputs": []
    },
    {
      "cell_type": "code",
      "metadata": {
        "id": "forbidden-brazilian",
        "outputId": "f08998fd-a75a-4d1b-9702-82dadfb198fe",
        "colab": {
          "base_uri": "https://localhost:8080/"
        }
      },
      "source": [
        "y_train"
      ],
      "id": "forbidden-brazilian",
      "execution_count": 9,
      "outputs": [
        {
          "output_type": "execute_result",
          "data": {
            "text/plain": [
              "array([1, 0, 0, ..., 0, 1, 0])"
            ]
          },
          "metadata": {},
          "execution_count": 9
        }
      ]
    },
    {
      "cell_type": "code",
      "metadata": {
        "id": "weekly-exhaust",
        "outputId": "bbb156ac-8345-4a26-d80e-eae02053d42d",
        "colab": {
          "base_uri": "https://localhost:8080/"
        }
      },
      "source": [
        "y_train.shape"
      ],
      "id": "weekly-exhaust",
      "execution_count": 10,
      "outputs": [
        {
          "output_type": "execute_result",
          "data": {
            "text/plain": [
              "(54720,)"
            ]
          },
          "metadata": {},
          "execution_count": 10
        }
      ]
    },
    {
      "cell_type": "code",
      "metadata": {
        "id": "meaning-channel"
      },
      "source": [
        "# overwrite the dataframe with only the features  \n",
        "cardio_train = cardio_train.drop(columns=['cardio'])"
      ],
      "id": "meaning-channel",
      "execution_count": 11,
      "outputs": []
    },
    {
      "cell_type": "code",
      "metadata": {
        "id": "timely-brighton",
        "outputId": "e9d422fa-0449-47c4-fd14-ab784aaf2b43",
        "colab": {
          "base_uri": "https://localhost:8080/",
          "height": 206
        }
      },
      "source": [
        "cardio_train.head()"
      ],
      "id": "timely-brighton",
      "execution_count": 12,
      "outputs": [
        {
          "output_type": "execute_result",
          "data": {
            "text/html": [
              "<div>\n",
              "<style scoped>\n",
              "    .dataframe tbody tr th:only-of-type {\n",
              "        vertical-align: middle;\n",
              "    }\n",
              "\n",
              "    .dataframe tbody tr th {\n",
              "        vertical-align: top;\n",
              "    }\n",
              "\n",
              "    .dataframe thead th {\n",
              "        text-align: right;\n",
              "    }\n",
              "</style>\n",
              "<table border=\"1\" class=\"dataframe\">\n",
              "  <thead>\n",
              "    <tr style=\"text-align: right;\">\n",
              "      <th></th>\n",
              "      <th>age</th>\n",
              "      <th>gender</th>\n",
              "      <th>height</th>\n",
              "      <th>weight</th>\n",
              "      <th>ap_hi</th>\n",
              "      <th>ap_lo</th>\n",
              "      <th>cholesterol</th>\n",
              "      <th>gluc</th>\n",
              "      <th>smoke</th>\n",
              "      <th>alco</th>\n",
              "      <th>active</th>\n",
              "    </tr>\n",
              "  </thead>\n",
              "  <tbody>\n",
              "    <tr>\n",
              "      <th>0</th>\n",
              "      <td>21875</td>\n",
              "      <td>2</td>\n",
              "      <td>171</td>\n",
              "      <td>74.0</td>\n",
              "      <td>120</td>\n",
              "      <td>80</td>\n",
              "      <td>1</td>\n",
              "      <td>1</td>\n",
              "      <td>0</td>\n",
              "      <td>0</td>\n",
              "      <td>0</td>\n",
              "    </tr>\n",
              "    <tr>\n",
              "      <th>1</th>\n",
              "      <td>15302</td>\n",
              "      <td>1</td>\n",
              "      <td>162</td>\n",
              "      <td>66.0</td>\n",
              "      <td>110</td>\n",
              "      <td>80</td>\n",
              "      <td>1</td>\n",
              "      <td>1</td>\n",
              "      <td>0</td>\n",
              "      <td>0</td>\n",
              "      <td>1</td>\n",
              "    </tr>\n",
              "    <tr>\n",
              "      <th>2</th>\n",
              "      <td>18079</td>\n",
              "      <td>1</td>\n",
              "      <td>166</td>\n",
              "      <td>69.0</td>\n",
              "      <td>120</td>\n",
              "      <td>80</td>\n",
              "      <td>1</td>\n",
              "      <td>2</td>\n",
              "      <td>0</td>\n",
              "      <td>0</td>\n",
              "      <td>1</td>\n",
              "    </tr>\n",
              "    <tr>\n",
              "      <th>3</th>\n",
              "      <td>21680</td>\n",
              "      <td>1</td>\n",
              "      <td>169</td>\n",
              "      <td>65.0</td>\n",
              "      <td>120</td>\n",
              "      <td>80</td>\n",
              "      <td>1</td>\n",
              "      <td>1</td>\n",
              "      <td>0</td>\n",
              "      <td>0</td>\n",
              "      <td>0</td>\n",
              "    </tr>\n",
              "    <tr>\n",
              "      <th>4</th>\n",
              "      <td>14368</td>\n",
              "      <td>1</td>\n",
              "      <td>155</td>\n",
              "      <td>80.0</td>\n",
              "      <td>120</td>\n",
              "      <td>80</td>\n",
              "      <td>1</td>\n",
              "      <td>1</td>\n",
              "      <td>0</td>\n",
              "      <td>0</td>\n",
              "      <td>1</td>\n",
              "    </tr>\n",
              "  </tbody>\n",
              "</table>\n",
              "</div>"
            ],
            "text/plain": [
              "     age  gender  height  weight  ap_hi  ...  cholesterol  gluc  smoke  alco  active\n",
              "0  21875       2     171    74.0    120  ...            1     1      0     0       0\n",
              "1  15302       1     162    66.0    110  ...            1     1      0     0       1\n",
              "2  18079       1     166    69.0    120  ...            1     2      0     0       1\n",
              "3  21680       1     169    65.0    120  ...            1     1      0     0       0\n",
              "4  14368       1     155    80.0    120  ...            1     1      0     0       1\n",
              "\n",
              "[5 rows x 11 columns]"
            ]
          },
          "metadata": {},
          "execution_count": 12
        }
      ]
    },
    {
      "cell_type": "code",
      "metadata": {
        "id": "touched-applicant",
        "outputId": "8bb37e82-24b5-41b8-a609-145b4aae1561",
        "colab": {
          "base_uri": "https://localhost:8080/"
        }
      },
      "source": [
        "cardio_train.shape"
      ],
      "id": "touched-applicant",
      "execution_count": 13,
      "outputs": [
        {
          "output_type": "execute_result",
          "data": {
            "text/plain": [
              "(54720, 11)"
            ]
          },
          "metadata": {},
          "execution_count": 13
        }
      ]
    },
    {
      "cell_type": "markdown",
      "metadata": {
        "id": "dynamic-priority"
      },
      "source": [
        "### 5.3. Separate the numerical and categorical features\n",
        "Since we perform different preprocessing tasks (transformations) to _numerical features_ and _categorical ones_, let's split them into two different dataframes."
      ],
      "id": "dynamic-priority"
    },
    {
      "cell_type": "code",
      "metadata": {
        "id": "grave-thunder",
        "outputId": "406ebb13-2e91-4c75-d0bc-ec458cb8f9c9",
        "colab": {
          "base_uri": "https://localhost:8080/"
        }
      },
      "source": [
        "cardio_train.columns"
      ],
      "id": "grave-thunder",
      "execution_count": 14,
      "outputs": [
        {
          "output_type": "execute_result",
          "data": {
            "text/plain": [
              "Index(['age', 'gender', 'height', 'weight', 'ap_hi', 'ap_lo', 'cholesterol',\n",
              "       'gluc', 'smoke', 'alco', 'active'],\n",
              "      dtype='object')"
            ]
          },
          "metadata": {},
          "execution_count": 14
        }
      ]
    },
    {
      "cell_type": "code",
      "metadata": {
        "id": "cooperative-craps"
      },
      "source": [
        "# numerical variables\n",
        "num_vars = ['age', 'height', 'weight', 'ap_hi', 'ap_lo']\n",
        "\n",
        "# categorical binary variables\n",
        "bin_vars = ['gender', 'smoke', 'alco', 'active']\n",
        "\n",
        "# categorical variables\n",
        "cat_vars = ['cholesterol', 'gluc']"
      ],
      "id": "cooperative-craps",
      "execution_count": 15,
      "outputs": []
    },
    {
      "cell_type": "code",
      "metadata": {
        "id": "thousand-italy"
      },
      "source": [
        "# ## separating the features into specific dataset according to their type\n",
        "# cardio_train_num = cardio_train[num_vars]\n",
        "# cardio_train_bin = cardio_train[bin_vars]\n",
        "# cardio_train_cat = cardio_train[cat_vars]"
      ],
      "id": "thousand-italy",
      "execution_count": null,
      "outputs": []
    },
    {
      "cell_type": "markdown",
      "metadata": {
        "id": "essential-lawsuit"
      },
      "source": [
        "### 5.4. Creating Preprocessing Pipelines"
      ],
      "id": "essential-lawsuit"
    },
    {
      "cell_type": "markdown",
      "metadata": {
        "id": "earned-reach"
      },
      "source": [
        "#### **Standard Preprocessing Pipeline**\n",
        "Not suitable for polinomial-based models."
      ],
      "id": "earned-reach"
    },
    {
      "cell_type": "code",
      "metadata": {
        "id": "previous-conjunction"
      },
      "source": [
        "from sklearn.impute import SimpleImputer\n",
        "from sklearn.preprocessing import RobustScaler\n",
        "from sklearn.preprocessing import OneHotEncoder\n",
        "\n",
        "from sklearn.pipeline import Pipeline\n",
        "from sklearn.compose import ColumnTransformer\n",
        "\n",
        "num_pipeline = Pipeline([\n",
        "    ('imputer', SimpleImputer(strategy='median')),\n",
        "    ('robust_scaler', RobustScaler())\n",
        "])\n",
        "\n",
        "bin_pipeline = Pipeline([\n",
        "    ('imputer', SimpleImputer(strategy='most_frequent'))  # as the categories are numbers, we can use the SimpleImputer\n",
        "])\n",
        "\n",
        "cat_pipeline = Pipeline([\n",
        "    ('imputer', SimpleImputer(strategy='most_frequent')),  # as the categories are numbers, we can use the SimpleImputer\n",
        "    ('one-hot-encoding', OneHotEncoder(handle_unknown='ignore'))\n",
        "])\n",
        "\n",
        "\n",
        "\n",
        "# (name, transformer, columns)\n",
        "preprocessed_pipeline = ColumnTransformer([\n",
        "    ('numerical', num_pipeline, num_vars),\n",
        "    ('binary', bin_pipeline, bin_vars),\n",
        "    ('categorical', cat_pipeline, cat_vars)\n",
        "])"
      ],
      "id": "previous-conjunction",
      "execution_count": 16,
      "outputs": []
    },
    {
      "cell_type": "markdown",
      "metadata": {
        "id": "destroyed-halifax"
      },
      "source": [
        "#### **Preprocessing Pipeline for Polynomial Logistic Regression**"
      ],
      "id": "destroyed-halifax"
    },
    {
      "cell_type": "code",
      "metadata": {
        "id": "ideal-enforcement"
      },
      "source": [
        "from sklearn.impute import SimpleImputer\n",
        "from sklearn.preprocessing import PolynomialFeatures\n",
        "from sklearn.preprocessing import RobustScaler\n",
        "from sklearn.preprocessing import OneHotEncoder\n",
        "\n",
        "from sklearn.pipeline import Pipeline\n",
        "from sklearn.compose import ColumnTransformer\n",
        "\n",
        "pol_num_pipeline = Pipeline([\n",
        "    ('imputer', SimpleImputer(strategy='median')),\n",
        "    ('poly_feat_transformer', PolynomialFeatures(include_bias=False)),  # default degree = 2\n",
        "    ('robust_scaler', RobustScaler())\n",
        "])\n",
        "\n",
        "bin_pipeline = Pipeline([\n",
        "    ('imputer', SimpleImputer(strategy='most_frequent'))  # as the categories are numbers, we can use the SimpleImputer\n",
        "])\n",
        "\n",
        "cat_pipeline = Pipeline([\n",
        "    ('imputer', SimpleImputer(strategy='most_frequent')),  # as the categories are numbers, we can use the SimpleImputer\n",
        "    ('one-hot-encoding', OneHotEncoder(handle_unknown='ignore'))\n",
        "])\n",
        "\n",
        "\n",
        "# (name, transformer, columns)\n",
        "polynomial_preprocessed_pipeline = ColumnTransformer([\n",
        "    ('numerical', pol_num_pipeline, num_vars),\n",
        "    ('binary', bin_pipeline, bin_vars),\n",
        "    ('categorical', cat_pipeline, cat_vars)\n",
        "])"
      ],
      "id": "ideal-enforcement",
      "execution_count": 17,
      "outputs": []
    },
    {
      "cell_type": "markdown",
      "metadata": {
        "id": "talented-sucking"
      },
      "source": [
        "### 🏋️‍♀️ 6. Train ML Algorithms"
      ],
      "id": "talented-sucking"
    },
    {
      "cell_type": "markdown",
      "metadata": {
        "id": "increasing-raising"
      },
      "source": [
        "#### 6.1. Getting the independent (features) and classes (outcome)"
      ],
      "id": "increasing-raising"
    },
    {
      "cell_type": "code",
      "metadata": {
        "id": "f4d44d48-2475-4981-a02d-9aee5c199ef1",
        "outputId": "168b3f5b-0c98-4f19-9b1e-18ba5872a96d"
      },
      "source": [
        "cardio_train"
      ],
      "id": "f4d44d48-2475-4981-a02d-9aee5c199ef1",
      "execution_count": null,
      "outputs": [
        {
          "data": {
            "text/html": [
              "<div>\n",
              "<style scoped>\n",
              "    .dataframe tbody tr th:only-of-type {\n",
              "        vertical-align: middle;\n",
              "    }\n",
              "\n",
              "    .dataframe tbody tr th {\n",
              "        vertical-align: top;\n",
              "    }\n",
              "\n",
              "    .dataframe thead th {\n",
              "        text-align: right;\n",
              "    }\n",
              "</style>\n",
              "<table border=\"1\" class=\"dataframe\">\n",
              "  <thead>\n",
              "    <tr style=\"text-align: right;\">\n",
              "      <th></th>\n",
              "      <th>age</th>\n",
              "      <th>gender</th>\n",
              "      <th>height</th>\n",
              "      <th>weight</th>\n",
              "      <th>ap_hi</th>\n",
              "      <th>ap_lo</th>\n",
              "      <th>cholesterol</th>\n",
              "      <th>gluc</th>\n",
              "      <th>smoke</th>\n",
              "      <th>alco</th>\n",
              "      <th>active</th>\n",
              "    </tr>\n",
              "  </thead>\n",
              "  <tbody>\n",
              "    <tr>\n",
              "      <th>0</th>\n",
              "      <td>21875</td>\n",
              "      <td>2</td>\n",
              "      <td>171</td>\n",
              "      <td>74.0</td>\n",
              "      <td>120</td>\n",
              "      <td>80</td>\n",
              "      <td>1</td>\n",
              "      <td>1</td>\n",
              "      <td>0</td>\n",
              "      <td>0</td>\n",
              "      <td>0</td>\n",
              "    </tr>\n",
              "    <tr>\n",
              "      <th>1</th>\n",
              "      <td>15302</td>\n",
              "      <td>1</td>\n",
              "      <td>162</td>\n",
              "      <td>66.0</td>\n",
              "      <td>110</td>\n",
              "      <td>80</td>\n",
              "      <td>1</td>\n",
              "      <td>1</td>\n",
              "      <td>0</td>\n",
              "      <td>0</td>\n",
              "      <td>1</td>\n",
              "    </tr>\n",
              "    <tr>\n",
              "      <th>2</th>\n",
              "      <td>18079</td>\n",
              "      <td>1</td>\n",
              "      <td>166</td>\n",
              "      <td>69.0</td>\n",
              "      <td>120</td>\n",
              "      <td>80</td>\n",
              "      <td>1</td>\n",
              "      <td>2</td>\n",
              "      <td>0</td>\n",
              "      <td>0</td>\n",
              "      <td>1</td>\n",
              "    </tr>\n",
              "    <tr>\n",
              "      <th>3</th>\n",
              "      <td>21680</td>\n",
              "      <td>1</td>\n",
              "      <td>169</td>\n",
              "      <td>65.0</td>\n",
              "      <td>120</td>\n",
              "      <td>80</td>\n",
              "      <td>1</td>\n",
              "      <td>1</td>\n",
              "      <td>0</td>\n",
              "      <td>0</td>\n",
              "      <td>0</td>\n",
              "    </tr>\n",
              "    <tr>\n",
              "      <th>4</th>\n",
              "      <td>14368</td>\n",
              "      <td>1</td>\n",
              "      <td>155</td>\n",
              "      <td>80.0</td>\n",
              "      <td>120</td>\n",
              "      <td>80</td>\n",
              "      <td>1</td>\n",
              "      <td>1</td>\n",
              "      <td>0</td>\n",
              "      <td>0</td>\n",
              "      <td>1</td>\n",
              "    </tr>\n",
              "    <tr>\n",
              "      <th>...</th>\n",
              "      <td>...</td>\n",
              "      <td>...</td>\n",
              "      <td>...</td>\n",
              "      <td>...</td>\n",
              "      <td>...</td>\n",
              "      <td>...</td>\n",
              "      <td>...</td>\n",
              "      <td>...</td>\n",
              "      <td>...</td>\n",
              "      <td>...</td>\n",
              "      <td>...</td>\n",
              "    </tr>\n",
              "    <tr>\n",
              "      <th>54715</th>\n",
              "      <td>19137</td>\n",
              "      <td>2</td>\n",
              "      <td>178</td>\n",
              "      <td>99.0</td>\n",
              "      <td>150</td>\n",
              "      <td>100</td>\n",
              "      <td>1</td>\n",
              "      <td>1</td>\n",
              "      <td>0</td>\n",
              "      <td>0</td>\n",
              "      <td>1</td>\n",
              "    </tr>\n",
              "    <tr>\n",
              "      <th>54716</th>\n",
              "      <td>19649</td>\n",
              "      <td>1</td>\n",
              "      <td>170</td>\n",
              "      <td>65.0</td>\n",
              "      <td>110</td>\n",
              "      <td>70</td>\n",
              "      <td>1</td>\n",
              "      <td>1</td>\n",
              "      <td>0</td>\n",
              "      <td>0</td>\n",
              "      <td>0</td>\n",
              "    </tr>\n",
              "    <tr>\n",
              "      <th>54717</th>\n",
              "      <td>18056</td>\n",
              "      <td>1</td>\n",
              "      <td>165</td>\n",
              "      <td>67.0</td>\n",
              "      <td>120</td>\n",
              "      <td>80</td>\n",
              "      <td>1</td>\n",
              "      <td>1</td>\n",
              "      <td>0</td>\n",
              "      <td>0</td>\n",
              "      <td>1</td>\n",
              "    </tr>\n",
              "    <tr>\n",
              "      <th>54718</th>\n",
              "      <td>20321</td>\n",
              "      <td>1</td>\n",
              "      <td>161</td>\n",
              "      <td>64.0</td>\n",
              "      <td>150</td>\n",
              "      <td>90</td>\n",
              "      <td>2</td>\n",
              "      <td>1</td>\n",
              "      <td>0</td>\n",
              "      <td>0</td>\n",
              "      <td>1</td>\n",
              "    </tr>\n",
              "    <tr>\n",
              "      <th>54719</th>\n",
              "      <td>19033</td>\n",
              "      <td>2</td>\n",
              "      <td>173</td>\n",
              "      <td>60.0</td>\n",
              "      <td>120</td>\n",
              "      <td>80</td>\n",
              "      <td>1</td>\n",
              "      <td>1</td>\n",
              "      <td>1</td>\n",
              "      <td>0</td>\n",
              "      <td>1</td>\n",
              "    </tr>\n",
              "  </tbody>\n",
              "</table>\n",
              "<p>54720 rows × 11 columns</p>\n",
              "</div>"
            ],
            "text/plain": [
              "         age  gender  height  weight  ap_hi  ap_lo  cholesterol  gluc  smoke  \\\n",
              "0      21875       2     171    74.0    120     80            1     1      0   \n",
              "1      15302       1     162    66.0    110     80            1     1      0   \n",
              "2      18079       1     166    69.0    120     80            1     2      0   \n",
              "3      21680       1     169    65.0    120     80            1     1      0   \n",
              "4      14368       1     155    80.0    120     80            1     1      0   \n",
              "...      ...     ...     ...     ...    ...    ...          ...   ...    ...   \n",
              "54715  19137       2     178    99.0    150    100            1     1      0   \n",
              "54716  19649       1     170    65.0    110     70            1     1      0   \n",
              "54717  18056       1     165    67.0    120     80            1     1      0   \n",
              "54718  20321       1     161    64.0    150     90            2     1      0   \n",
              "54719  19033       2     173    60.0    120     80            1     1      1   \n",
              "\n",
              "       alco  active  \n",
              "0         0       0  \n",
              "1         0       1  \n",
              "2         0       1  \n",
              "3         0       0  \n",
              "4         0       1  \n",
              "...     ...     ...  \n",
              "54715     0       1  \n",
              "54716     0       0  \n",
              "54717     0       1  \n",
              "54718     0       1  \n",
              "54719     0       1  \n",
              "\n",
              "[54720 rows x 11 columns]"
            ]
          },
          "execution_count": 18,
          "metadata": {},
          "output_type": "execute_result"
        }
      ]
    },
    {
      "cell_type": "code",
      "metadata": {
        "id": "prescribed-aluminum"
      },
      "source": [
        "# standard pipeline (for KNN and Logistic Regression)\n",
        "X_train = preprocessed_pipeline.fit_transform(cardio_train)"
      ],
      "id": "prescribed-aluminum",
      "execution_count": 18,
      "outputs": []
    },
    {
      "cell_type": "code",
      "metadata": {
        "id": "located-sleep"
      },
      "source": [
        "# preprocessing pipeline for polynomial-based methods (Polynomial Logistic Regression)\n",
        "X_train_pol = polynomial_preprocessed_pipeline.fit_transform(cardio_train)"
      ],
      "id": "located-sleep",
      "execution_count": 19,
      "outputs": []
    },
    {
      "cell_type": "code",
      "metadata": {
        "id": "actual-revelation",
        "outputId": "1197565c-8011-4163-99d3-baf6db4fe6ae",
        "colab": {
          "base_uri": "https://localhost:8080/"
        }
      },
      "source": [
        "# we already have y_train\n",
        "y_train.shape"
      ],
      "id": "actual-revelation",
      "execution_count": 20,
      "outputs": [
        {
          "output_type": "execute_result",
          "data": {
            "text/plain": [
              "(54720,)"
            ]
          },
          "metadata": {},
          "execution_count": 20
        }
      ]
    },
    {
      "cell_type": "code",
      "metadata": {
        "id": "bdfd2012-cddc-400c-b627-bff2aa861af9",
        "outputId": "1e7bc466-e022-46c8-d6ba-098b9a7a3e41",
        "colab": {
          "base_uri": "https://localhost:8080/"
        }
      },
      "source": [
        "X_train.shape"
      ],
      "id": "bdfd2012-cddc-400c-b627-bff2aa861af9",
      "execution_count": 21,
      "outputs": [
        {
          "output_type": "execute_result",
          "data": {
            "text/plain": [
              "(54720, 15)"
            ]
          },
          "metadata": {},
          "execution_count": 21
        }
      ]
    },
    {
      "cell_type": "code",
      "metadata": {
        "id": "3f02f788-3440-4a78-a743-33693d4a266f",
        "outputId": "f4efeef1-4984-4bcd-8bb8-148630f3af79",
        "colab": {
          "base_uri": "https://localhost:8080/"
        }
      },
      "source": [
        "X_train_pol.shape"
      ],
      "id": "3f02f788-3440-4a78-a743-33693d4a266f",
      "execution_count": 22,
      "outputs": [
        {
          "output_type": "execute_result",
          "data": {
            "text/plain": [
              "(54720, 30)"
            ]
          },
          "metadata": {},
          "execution_count": 22
        }
      ]
    },
    {
      "cell_type": "markdown",
      "metadata": {
        "id": "cutting-darwin"
      },
      "source": [
        "### 6.2. Training the Models"
      ],
      "id": "cutting-darwin"
    },
    {
      "cell_type": "code",
      "metadata": {
        "id": "greenhouse-input"
      },
      "source": [
        "# printing function\n",
        "def display_scores(scores):\n",
        "    print(\"Scores:\", scores)\n",
        "    print(\"\\nMean:\", scores.mean())\n",
        "    print(\"Standard deviation:\", scores.std())"
      ],
      "id": "greenhouse-input",
      "execution_count": 23,
      "outputs": []
    },
    {
      "cell_type": "markdown",
      "metadata": {
        "id": "useful-simple"
      },
      "source": [
        "#### **KNN**"
      ],
      "id": "useful-simple"
    },
    {
      "cell_type": "markdown",
      "metadata": {
        "id": "sunset-portuguese"
      },
      "source": [
        "##### **Accuracy**"
      ],
      "id": "sunset-portuguese"
    },
    {
      "cell_type": "code",
      "metadata": {
        "id": "declared-attempt",
        "outputId": "8288c0c0-5473-4f4f-a71c-b0686361b4f3",
        "colab": {
          "base_uri": "https://localhost:8080/"
        }
      },
      "source": [
        "from sklearn.model_selection import cross_val_score\n",
        "from sklearn.neighbors import KNeighborsClassifier\n",
        "\n",
        "knn = KNeighborsClassifier()  # default hyperparameters --> k=5\n",
        "# stratified 10-fold\n",
        "knn_accs = cross_val_score(knn, X_train, y_train, cv=10, scoring='accuracy')\n",
        "\n",
        "display_scores(knn_accs)"
      ],
      "id": "declared-attempt",
      "execution_count": 24,
      "outputs": [
        {
          "output_type": "stream",
          "name": "stdout",
          "text": [
            "Scores: [0.68841374 0.69864766 0.70979532 0.70431287 0.70065789 0.69590643\n",
            " 0.69480994 0.68914474 0.70084064 0.69407895]\n",
            "\n",
            "Mean: 0.6976608187134503\n",
            "Standard deviation: 0.006273999781105242\n"
          ]
        }
      ]
    },
    {
      "cell_type": "markdown",
      "metadata": {
        "id": "seventh-slave"
      },
      "source": [
        "#### **Logistic Regression**"
      ],
      "id": "seventh-slave"
    },
    {
      "cell_type": "markdown",
      "metadata": {
        "id": "military-machinery"
      },
      "source": [
        "##### **Accuracy**"
      ],
      "id": "military-machinery"
    },
    {
      "cell_type": "code",
      "metadata": {
        "id": "fancy-feelings",
        "outputId": "73c5f5cf-f0cf-40ad-ad01-aa94dbcd4405",
        "colab": {
          "base_uri": "https://localhost:8080/"
        }
      },
      "source": [
        "from sklearn.linear_model import LogisticRegression\n",
        "\n",
        "log_reg = LogisticRegression(random_state=42)\n",
        "log_reg_accs = cross_val_score(log_reg, X_train, y_train, cv=10, scoring='accuracy')\n",
        "\n",
        "display_scores(log_reg_accs)"
      ],
      "id": "fancy-feelings",
      "execution_count": 25,
      "outputs": [
        {
          "output_type": "stream",
          "name": "stdout",
          "text": [
            "Scores: [0.72149123 0.73044591 0.73665936 0.73647661 0.73099415 0.72496345\n",
            " 0.73245614 0.71564327 0.73519737 0.72130848]\n",
            "\n",
            "Mean: 0.728563596491228\n",
            "Standard deviation: 0.006923275869454939\n"
          ]
        }
      ]
    },
    {
      "cell_type": "markdown",
      "metadata": {
        "id": "primary-introduction"
      },
      "source": [
        "#### **Polynomial Logistic Regression (degree=2)**"
      ],
      "id": "primary-introduction"
    },
    {
      "cell_type": "markdown",
      "metadata": {
        "id": "common-revelation"
      },
      "source": [
        "##### **Accuracy**"
      ],
      "id": "common-revelation"
    },
    {
      "cell_type": "code",
      "metadata": {
        "id": "heated-summary",
        "outputId": "66a5d32d-ef8e-450e-8e83-b7ba8fbe84a0",
        "colab": {
          "base_uri": "https://localhost:8080/"
        }
      },
      "source": [
        "pol_log_reg = LogisticRegression(random_state=42)\n",
        "pol_log_reg_accs = cross_val_score(pol_log_reg, X_train_pol, y_train, cv=10, scoring='accuracy')\n",
        "\n",
        "display_scores(pol_log_reg_accs)"
      ],
      "id": "heated-summary",
      "execution_count": 26,
      "outputs": [
        {
          "output_type": "stream",
          "name": "stderr",
          "text": [
            "/usr/local/lib/python3.7/dist-packages/sklearn/linear_model/_logistic.py:818: ConvergenceWarning: lbfgs failed to converge (status=1):\n",
            "STOP: TOTAL NO. of ITERATIONS REACHED LIMIT.\n",
            "\n",
            "Increase the number of iterations (max_iter) or scale the data as shown in:\n",
            "    https://scikit-learn.org/stable/modules/preprocessing.html\n",
            "Please also refer to the documentation for alternative solver options:\n",
            "    https://scikit-learn.org/stable/modules/linear_model.html#logistic-regression\n",
            "  extra_warning_msg=_LOGISTIC_SOLVER_CONVERGENCE_MSG,\n",
            "/usr/local/lib/python3.7/dist-packages/sklearn/linear_model/_logistic.py:818: ConvergenceWarning: lbfgs failed to converge (status=1):\n",
            "STOP: TOTAL NO. of ITERATIONS REACHED LIMIT.\n",
            "\n",
            "Increase the number of iterations (max_iter) or scale the data as shown in:\n",
            "    https://scikit-learn.org/stable/modules/preprocessing.html\n",
            "Please also refer to the documentation for alternative solver options:\n",
            "    https://scikit-learn.org/stable/modules/linear_model.html#logistic-regression\n",
            "  extra_warning_msg=_LOGISTIC_SOLVER_CONVERGENCE_MSG,\n",
            "/usr/local/lib/python3.7/dist-packages/sklearn/linear_model/_logistic.py:818: ConvergenceWarning: lbfgs failed to converge (status=1):\n",
            "STOP: TOTAL NO. of ITERATIONS REACHED LIMIT.\n",
            "\n",
            "Increase the number of iterations (max_iter) or scale the data as shown in:\n",
            "    https://scikit-learn.org/stable/modules/preprocessing.html\n",
            "Please also refer to the documentation for alternative solver options:\n",
            "    https://scikit-learn.org/stable/modules/linear_model.html#logistic-regression\n",
            "  extra_warning_msg=_LOGISTIC_SOLVER_CONVERGENCE_MSG,\n",
            "/usr/local/lib/python3.7/dist-packages/sklearn/linear_model/_logistic.py:818: ConvergenceWarning: lbfgs failed to converge (status=1):\n",
            "STOP: TOTAL NO. of ITERATIONS REACHED LIMIT.\n",
            "\n",
            "Increase the number of iterations (max_iter) or scale the data as shown in:\n",
            "    https://scikit-learn.org/stable/modules/preprocessing.html\n",
            "Please also refer to the documentation for alternative solver options:\n",
            "    https://scikit-learn.org/stable/modules/linear_model.html#logistic-regression\n",
            "  extra_warning_msg=_LOGISTIC_SOLVER_CONVERGENCE_MSG,\n",
            "/usr/local/lib/python3.7/dist-packages/sklearn/linear_model/_logistic.py:818: ConvergenceWarning: lbfgs failed to converge (status=1):\n",
            "STOP: TOTAL NO. of ITERATIONS REACHED LIMIT.\n",
            "\n",
            "Increase the number of iterations (max_iter) or scale the data as shown in:\n",
            "    https://scikit-learn.org/stable/modules/preprocessing.html\n",
            "Please also refer to the documentation for alternative solver options:\n",
            "    https://scikit-learn.org/stable/modules/linear_model.html#logistic-regression\n",
            "  extra_warning_msg=_LOGISTIC_SOLVER_CONVERGENCE_MSG,\n",
            "/usr/local/lib/python3.7/dist-packages/sklearn/linear_model/_logistic.py:818: ConvergenceWarning: lbfgs failed to converge (status=1):\n",
            "STOP: TOTAL NO. of ITERATIONS REACHED LIMIT.\n",
            "\n",
            "Increase the number of iterations (max_iter) or scale the data as shown in:\n",
            "    https://scikit-learn.org/stable/modules/preprocessing.html\n",
            "Please also refer to the documentation for alternative solver options:\n",
            "    https://scikit-learn.org/stable/modules/linear_model.html#logistic-regression\n",
            "  extra_warning_msg=_LOGISTIC_SOLVER_CONVERGENCE_MSG,\n",
            "/usr/local/lib/python3.7/dist-packages/sklearn/linear_model/_logistic.py:818: ConvergenceWarning: lbfgs failed to converge (status=1):\n",
            "STOP: TOTAL NO. of ITERATIONS REACHED LIMIT.\n",
            "\n",
            "Increase the number of iterations (max_iter) or scale the data as shown in:\n",
            "    https://scikit-learn.org/stable/modules/preprocessing.html\n",
            "Please also refer to the documentation for alternative solver options:\n",
            "    https://scikit-learn.org/stable/modules/linear_model.html#logistic-regression\n",
            "  extra_warning_msg=_LOGISTIC_SOLVER_CONVERGENCE_MSG,\n",
            "/usr/local/lib/python3.7/dist-packages/sklearn/linear_model/_logistic.py:818: ConvergenceWarning: lbfgs failed to converge (status=1):\n",
            "STOP: TOTAL NO. of ITERATIONS REACHED LIMIT.\n",
            "\n",
            "Increase the number of iterations (max_iter) or scale the data as shown in:\n",
            "    https://scikit-learn.org/stable/modules/preprocessing.html\n",
            "Please also refer to the documentation for alternative solver options:\n",
            "    https://scikit-learn.org/stable/modules/linear_model.html#logistic-regression\n",
            "  extra_warning_msg=_LOGISTIC_SOLVER_CONVERGENCE_MSG,\n",
            "/usr/local/lib/python3.7/dist-packages/sklearn/linear_model/_logistic.py:818: ConvergenceWarning: lbfgs failed to converge (status=1):\n",
            "STOP: TOTAL NO. of ITERATIONS REACHED LIMIT.\n",
            "\n",
            "Increase the number of iterations (max_iter) or scale the data as shown in:\n",
            "    https://scikit-learn.org/stable/modules/preprocessing.html\n",
            "Please also refer to the documentation for alternative solver options:\n",
            "    https://scikit-learn.org/stable/modules/linear_model.html#logistic-regression\n",
            "  extra_warning_msg=_LOGISTIC_SOLVER_CONVERGENCE_MSG,\n"
          ]
        },
        {
          "output_type": "stream",
          "name": "stdout",
          "text": [
            "Scores: [0.72715643 0.73300439 0.73958333 0.73976608 0.73501462 0.72642544\n",
            " 0.73464912 0.72404971 0.73921784 0.72130848]\n",
            "\n",
            "Mean: 0.7320175438596491\n",
            "Standard deviation: 0.006473633199215823\n"
          ]
        },
        {
          "output_type": "stream",
          "name": "stderr",
          "text": [
            "/usr/local/lib/python3.7/dist-packages/sklearn/linear_model/_logistic.py:818: ConvergenceWarning: lbfgs failed to converge (status=1):\n",
            "STOP: TOTAL NO. of ITERATIONS REACHED LIMIT.\n",
            "\n",
            "Increase the number of iterations (max_iter) or scale the data as shown in:\n",
            "    https://scikit-learn.org/stable/modules/preprocessing.html\n",
            "Please also refer to the documentation for alternative solver options:\n",
            "    https://scikit-learn.org/stable/modules/linear_model.html#logistic-regression\n",
            "  extra_warning_msg=_LOGISTIC_SOLVER_CONVERGENCE_MSG,\n"
          ]
        }
      ]
    }
  ]
}