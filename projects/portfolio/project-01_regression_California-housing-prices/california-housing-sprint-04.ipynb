{
  "nbformat": 4,
  "nbformat_minor": 5,
  "metadata": {
    "kernelspec": {
      "display_name": "Python 3",
      "language": "python",
      "name": "python3"
    },
    "language_info": {
      "codemirror_mode": {
        "name": "ipython",
        "version": 3
      },
      "file_extension": ".py",
      "mimetype": "text/x-python",
      "name": "python",
      "nbconvert_exporter": "python",
      "pygments_lexer": "ipython3",
      "version": "3.8.5"
    },
    "colab": {
      "name": "california-housing-sprint-04.ipynb",
      "provenance": [],
      "include_colab_link": true
    }
  },
  "cells": [
    {
      "cell_type": "markdown",
      "metadata": {
        "id": "view-in-github",
        "colab_type": "text"
      },
      "source": [
        "<a href=\"https://colab.research.google.com/github/edmgjr/IFSP-CMP-D2APR-2021.2/blob/main/projects/portfolio/project-01_regression_California-housing-prices/california-housing-sprint-04.ipynb\" target=\"_parent\"><img src=\"https://colab.research.google.com/assets/colab-badge.svg\" alt=\"Open In Colab\"/></a>"
      ]
    },
    {
      "cell_type": "markdown",
      "metadata": {
        "id": "diverse-modeling"
      },
      "source": [
        "### **D2APR: Aprendizado de Máquina e Reconhecimento de Padrões** (IFSP, Campinas) <br/>\n",
        "**Prof**: Samuel Martins (Samuka) <br/>\n",
        "\n",
        "<a rel=\"license\" href=\"http://creativecommons.org/licenses/by-nc-sa/4.0/\"><img alt=\"Creative Commons License\" style=\"border-width:0\" src=\"https://i.creativecommons.org/l/by-nc-sa/4.0/88x31.png\" /></a><br />This work is licensed under a <a rel=\"license\" href=\"http://creativecommons.org/licenses/by-nc-sa/4.0/\">Creative Commons Attribution-NonCommercial-ShareAlike 4.0 International License</a>. <br/><br/>"
      ],
      "id": "diverse-modeling"
    },
    {
      "cell_type": "markdown",
      "metadata": {
        "id": "every-enough"
      },
      "source": [
        "### Custom CSS style"
      ],
      "id": "every-enough"
    },
    {
      "cell_type": "code",
      "metadata": {
        "tags": [],
        "colab": {
          "base_uri": "https://localhost:8080/",
          "height": 0
        },
        "id": "relative-commodity",
        "outputId": "435c7cce-50b3-4bee-cc19-fa710cca2f78"
      },
      "source": [
        "%%html\n",
        "<style>\n",
        ".dashed-box {\n",
        "    border: 1px dashed black !important;\n",
        "}\n",
        ".dashed-box tr {\n",
        "  background-color: white !important;  \n",
        "}\n",
        ".alt-tab {\n",
        "    background-color: black;\n",
        "    color: #ffc351;\n",
        "    padding: 4px;\n",
        "    font-size: 1em;\n",
        "    font-weight: bold;\n",
        "    font-family: monospace;\n",
        "}\n",
        "// add your CSS styling here\n",
        "</style>"
      ],
      "id": "relative-commodity",
      "execution_count": 1,
      "outputs": [
        {
          "output_type": "display_data",
          "data": {
            "text/html": [
              "<style>\n",
              ".dashed-box {\n",
              "    border: 1px dashed black !important;\n",
              "}\n",
              ".dashed-box tr {\n",
              "  background-color: white !important;  \n",
              "}\n",
              ".alt-tab {\n",
              "    background-color: black;\n",
              "    color: #ffc351;\n",
              "    padding: 4px;\n",
              "    font-size: 1em;\n",
              "    font-weight: bold;\n",
              "    font-family: monospace;\n",
              "}\n",
              "// add your CSS styling here\n",
              "</style>"
            ],
            "text/plain": [
              "<IPython.core.display.HTML object>"
            ]
          },
          "metadata": {}
        }
      ]
    },
    {
      "cell_type": "markdown",
      "metadata": {
        "id": "worst-simpson"
      },
      "source": [
        "<span style='font-size: 2.5em'><b>California Housing 🏡</b></span><br/>\n",
        "<span style='font-size: 1.5em'>Predict the median housing price in California districts</span>\n",
        "\n",
        "<span style=\"background-color: #ffc351; padding: 4px; font-size: 1em;\"><b>Sprint 4</b></span>\n",
        "\n",
        "<img src=\"https://github.com/edmgjr/IFSP-CMP-D2APR-2021.2/blob/main/projects/portfolio/project-01_regression_California-housing-prices/imgs/california-flag.png?raw=1\" width=300/>\n",
        "\n",
        "---\n",
        "\n"
      ],
      "id": "worst-simpson"
    },
    {
      "cell_type": "markdown",
      "metadata": {
        "id": "appreciated-belief"
      },
      "source": [
        "## Before starting this notebook\n",
        "This jupyter notebook is designed for **experimental and teaching purposes**. <br/>\n",
        "Although it is (relatively) well organized, it aims at solving the _target problem_ by evaluating (and documenting) _different solutions_ for somes steps of the **machine learning pipeline** — see the ***Machine Learning Project Checklist by xavecoding***. <br/>\n",
        "We tried to make this notebook as literally a _notebook_. Thus, it contains notes, drafts, comments, etc.<br/>\n",
        "\n",
        "For teaching purposes, some parts of the notebook may be _overcommented_. Moreover, to simulate a real development scenario, we will divide our solution and experiments into **\"sprints\"** in which each sprint has some goals (e.g., perform _feature selection_, train more ML models, ...). <br/>\n",
        "The **sprint goal** will be stated at the beginning of the notebook.\n",
        "\n",
        "A ***final notebook*** (or any other kind of presentation) that compiles and summarizes all sprints — the target problem, solutions, and findings — should be created later.\n",
        "\n",
        "#### Conventions\n",
        "\n",
        "<ul>\n",
        "    <li>💡 indicates a tip. </li>\n",
        "    <li> ⚠️ indicates a warning message. </li>\n",
        "    <li><span class='alt-tab'>alt tab</span> indicates and an extra content (<i>e.g.</i>, slides) to explain a given concept.</li>\n",
        "</ul>\n",
        "\n",
        "---"
      ],
      "id": "appreciated-belief"
    },
    {
      "cell_type": "markdown",
      "metadata": {
        "id": "dangerous-storage"
      },
      "source": [
        "## 🎯 Sprint Goals\n",
        "- Refactor our codes by using the sklearn Pipelines\n",
        "- Evaluate the models in the Test Set\n",
        "- Compare the models with the baseline\n",
        "---"
      ],
      "id": "dangerous-storage"
    },
    {
      "cell_type": "markdown",
      "metadata": {
        "id": "attempted-rapid"
      },
      "source": [
        "### 0. Imports and default settings for plotting"
      ],
      "id": "attempted-rapid"
    },
    {
      "cell_type": "code",
      "metadata": {
        "id": "adult-bryan"
      },
      "source": [
        "import numpy as np\n",
        "import pandas as pd\n",
        "import matplotlib.pyplot as plt\n",
        "import seaborn as sns\n",
        "\n",
        "sns.set_theme(style=\"whitegrid\")\n",
        "\n",
        "params = {'legend.fontsize': 'x-large',\n",
        "          'figure.figsize': (15, 5),\n",
        "         'axes.labelsize': 'x-large',\n",
        "         'axes.titlesize':'x-large',\n",
        "         'xtick.labelsize':'x-large',\n",
        "         'ytick.labelsize':'x-large'}\n",
        "plt.rcParams.update(params)"
      ],
      "id": "adult-bryan",
      "execution_count": 2,
      "outputs": []
    },
    {
      "cell_type": "markdown",
      "metadata": {
        "id": "assured-personal"
      },
      "source": [
        "## 🛠️ 5. Prepare the Data"
      ],
      "id": "assured-personal"
    },
    {
      "cell_type": "markdown",
      "metadata": {
        "id": "micro-addiction"
      },
      "source": [
        "#### **Preprocessing tasks**\n",
        "- Fill in missing values (imputation)\n",
        "- Add new features\n",
        "- Feature Scaling\n",
        "- One-Hot Encoding"
      ],
      "id": "micro-addiction"
    },
    {
      "cell_type": "markdown",
      "metadata": {
        "id": "aerial-fishing"
      },
      "source": [
        "<table align=\"left\" class=\"dashed-box\">\n",
        "<tr>\n",
        "    <td><span class='alt-tab'>alt tab</span></td>\n",
        "    <td><b>Slides:</b> Scikit-Learn Design Principles - Hyperparameters vs Parameters<br/>\n",
        "        <b>Slides:</b> Scikit-Learn Design Principles - Main APIs</td>\n",
        "</tr>\n",
        "</table><br/><br/>"
      ],
      "id": "aerial-fishing"
    },
    {
      "cell_type": "markdown",
      "metadata": {
        "id": "sound-bahrain"
      },
      "source": [
        "### 5.1. Load the cleaned training set"
      ],
      "id": "sound-bahrain"
    },
    {
      "cell_type": "markdown",
      "metadata": {
        "id": "relative-secondary"
      },
      "source": [
        "Let's consider the training and testing sets already cleaned (sprint #2):\n",
        "- Drop duplicated instances (not found)\n",
        "- Drop instances with `housing_median_age` capped at 52\n",
        "- Drop instances with `median_house_value` capped at 500001.0"
      ],
      "id": "relative-secondary"
    },
    {
      "cell_type": "code",
      "metadata": {
        "id": "PxQOeD1prjQh"
      },
      "source": [
        "raw_url = 'https://raw.githubusercontent.com/edmgjr/IFSP-CMP-D2APR-2021.2/main/projects/portfolio/project-01_regression_California-housing-prices/datasets/housing_train_sprint-2.csv'"
      ],
      "id": "PxQOeD1prjQh",
      "execution_count": 3,
      "outputs": []
    },
    {
      "cell_type": "code",
      "metadata": {
        "id": "extended-transformation"
      },
      "source": [
        "# load the cleaned training set\n",
        "housing_train = pd.read_csv(raw_url)"
      ],
      "id": "extended-transformation",
      "execution_count": 4,
      "outputs": []
    },
    {
      "cell_type": "code",
      "metadata": {
        "colab": {
          "base_uri": "https://localhost:8080/",
          "height": 206
        },
        "id": "sought-temple",
        "outputId": "56eee4dc-b575-4fe9-f7b0-33c5b3df447b"
      },
      "source": [
        "housing_train.head()"
      ],
      "id": "sought-temple",
      "execution_count": 5,
      "outputs": [
        {
          "output_type": "execute_result",
          "data": {
            "text/html": [
              "<div>\n",
              "<style scoped>\n",
              "    .dataframe tbody tr th:only-of-type {\n",
              "        vertical-align: middle;\n",
              "    }\n",
              "\n",
              "    .dataframe tbody tr th {\n",
              "        vertical-align: top;\n",
              "    }\n",
              "\n",
              "    .dataframe thead th {\n",
              "        text-align: right;\n",
              "    }\n",
              "</style>\n",
              "<table border=\"1\" class=\"dataframe\">\n",
              "  <thead>\n",
              "    <tr style=\"text-align: right;\">\n",
              "      <th></th>\n",
              "      <th>longitude</th>\n",
              "      <th>latitude</th>\n",
              "      <th>housing_median_age</th>\n",
              "      <th>total_rooms</th>\n",
              "      <th>total_bedrooms</th>\n",
              "      <th>population</th>\n",
              "      <th>households</th>\n",
              "      <th>median_income</th>\n",
              "      <th>median_house_value</th>\n",
              "      <th>ocean_proximity</th>\n",
              "    </tr>\n",
              "  </thead>\n",
              "  <tbody>\n",
              "    <tr>\n",
              "      <th>0</th>\n",
              "      <td>-121.37</td>\n",
              "      <td>37.06</td>\n",
              "      <td>25.0</td>\n",
              "      <td>474.0</td>\n",
              "      <td>92.0</td>\n",
              "      <td>300.0</td>\n",
              "      <td>104.0</td>\n",
              "      <td>3.8062</td>\n",
              "      <td>340900.0</td>\n",
              "      <td>INLAND</td>\n",
              "    </tr>\n",
              "    <tr>\n",
              "      <th>1</th>\n",
              "      <td>-118.39</td>\n",
              "      <td>34.14</td>\n",
              "      <td>19.0</td>\n",
              "      <td>5076.0</td>\n",
              "      <td>1034.0</td>\n",
              "      <td>2021.0</td>\n",
              "      <td>960.0</td>\n",
              "      <td>5.5683</td>\n",
              "      <td>309200.0</td>\n",
              "      <td>&lt;1H OCEAN</td>\n",
              "    </tr>\n",
              "    <tr>\n",
              "      <th>2</th>\n",
              "      <td>-122.07</td>\n",
              "      <td>37.41</td>\n",
              "      <td>26.0</td>\n",
              "      <td>1184.0</td>\n",
              "      <td>225.0</td>\n",
              "      <td>815.0</td>\n",
              "      <td>218.0</td>\n",
              "      <td>5.7657</td>\n",
              "      <td>322300.0</td>\n",
              "      <td>NEAR BAY</td>\n",
              "    </tr>\n",
              "    <tr>\n",
              "      <th>3</th>\n",
              "      <td>-121.92</td>\n",
              "      <td>36.57</td>\n",
              "      <td>42.0</td>\n",
              "      <td>3944.0</td>\n",
              "      <td>738.0</td>\n",
              "      <td>1374.0</td>\n",
              "      <td>598.0</td>\n",
              "      <td>4.1740</td>\n",
              "      <td>394400.0</td>\n",
              "      <td>NEAR OCEAN</td>\n",
              "    </tr>\n",
              "    <tr>\n",
              "      <th>4</th>\n",
              "      <td>-118.36</td>\n",
              "      <td>33.82</td>\n",
              "      <td>36.0</td>\n",
              "      <td>1083.0</td>\n",
              "      <td>187.0</td>\n",
              "      <td>522.0</td>\n",
              "      <td>187.0</td>\n",
              "      <td>5.7765</td>\n",
              "      <td>339500.0</td>\n",
              "      <td>&lt;1H OCEAN</td>\n",
              "    </tr>\n",
              "  </tbody>\n",
              "</table>\n",
              "</div>"
            ],
            "text/plain": [
              "   longitude  latitude  ...  median_house_value  ocean_proximity\n",
              "0    -121.37     37.06  ...            340900.0           INLAND\n",
              "1    -118.39     34.14  ...            309200.0        <1H OCEAN\n",
              "2    -122.07     37.41  ...            322300.0         NEAR BAY\n",
              "3    -121.92     36.57  ...            394400.0       NEAR OCEAN\n",
              "4    -118.36     33.82  ...            339500.0        <1H OCEAN\n",
              "\n",
              "[5 rows x 10 columns]"
            ]
          },
          "metadata": {},
          "execution_count": 5
        }
      ]
    },
    {
      "cell_type": "code",
      "metadata": {
        "colab": {
          "base_uri": "https://localhost:8080/"
        },
        "id": "clear-honolulu",
        "outputId": "4b791c3e-229d-4148-c1ef-c822c3e047a4"
      },
      "source": [
        "housing_train.shape"
      ],
      "id": "clear-honolulu",
      "execution_count": 6,
      "outputs": [
        {
          "output_type": "execute_result",
          "data": {
            "text/plain": [
              "(14857, 10)"
            ]
          },
          "metadata": {},
          "execution_count": 6
        }
      ]
    },
    {
      "cell_type": "markdown",
      "metadata": {
        "id": "boxed-aluminum"
      },
      "source": [
        "### 5.2. Separate the _features_ and the _target outcome_"
      ],
      "id": "boxed-aluminum"
    },
    {
      "cell_type": "code",
      "metadata": {
        "colab": {
          "base_uri": "https://localhost:8080/"
        },
        "id": "informative-cleaning",
        "outputId": "9684d489-e4c6-48d8-ce7f-1c1423ddbc24"
      },
      "source": [
        "housing_train.columns"
      ],
      "id": "informative-cleaning",
      "execution_count": 7,
      "outputs": [
        {
          "output_type": "execute_result",
          "data": {
            "text/plain": [
              "Index(['longitude', 'latitude', 'housing_median_age', 'total_rooms',\n",
              "       'total_bedrooms', 'population', 'households', 'median_income',\n",
              "       'median_house_value', 'ocean_proximity'],\n",
              "      dtype='object')"
            ]
          },
          "metadata": {},
          "execution_count": 7
        }
      ]
    },
    {
      "cell_type": "code",
      "metadata": {
        "id": "happy-kingdom"
      },
      "source": [
        "# store the target outcome into a numpy array\n",
        "y_train = housing_train['median_house_value'].values"
      ],
      "id": "happy-kingdom",
      "execution_count": 8,
      "outputs": []
    },
    {
      "cell_type": "code",
      "metadata": {
        "colab": {
          "base_uri": "https://localhost:8080/"
        },
        "id": "copyrighted-technology",
        "outputId": "a2660f41-9124-4400-80b3-eddbdd33d475"
      },
      "source": [
        "y_train"
      ],
      "id": "copyrighted-technology",
      "execution_count": 9,
      "outputs": [
        {
          "output_type": "execute_result",
          "data": {
            "text/plain": [
              "array([340900., 309200., 322300., ..., 112500.,  88100.,  89000.])"
            ]
          },
          "metadata": {},
          "execution_count": 9
        }
      ]
    },
    {
      "cell_type": "code",
      "metadata": {
        "colab": {
          "base_uri": "https://localhost:8080/"
        },
        "id": "finished-humidity",
        "outputId": "1822492e-cfad-4795-e812-7dda39b04c20"
      },
      "source": [
        "y_train.shape"
      ],
      "id": "finished-humidity",
      "execution_count": 10,
      "outputs": [
        {
          "output_type": "execute_result",
          "data": {
            "text/plain": [
              "(14857,)"
            ]
          },
          "metadata": {},
          "execution_count": 10
        }
      ]
    },
    {
      "cell_type": "code",
      "metadata": {
        "id": "hispanic-halifax"
      },
      "source": [
        "# overwrite the dataframe with only the features  \n",
        "housing_train = housing_train.drop(columns=['median_house_value'])"
      ],
      "id": "hispanic-halifax",
      "execution_count": 11,
      "outputs": []
    },
    {
      "cell_type": "code",
      "metadata": {
        "colab": {
          "base_uri": "https://localhost:8080/",
          "height": 0
        },
        "id": "aging-department",
        "outputId": "0523474d-726b-4ca1-e38d-ff6bc7357487"
      },
      "source": [
        "housing_train.head()"
      ],
      "id": "aging-department",
      "execution_count": 12,
      "outputs": [
        {
          "output_type": "execute_result",
          "data": {
            "text/html": [
              "<div>\n",
              "<style scoped>\n",
              "    .dataframe tbody tr th:only-of-type {\n",
              "        vertical-align: middle;\n",
              "    }\n",
              "\n",
              "    .dataframe tbody tr th {\n",
              "        vertical-align: top;\n",
              "    }\n",
              "\n",
              "    .dataframe thead th {\n",
              "        text-align: right;\n",
              "    }\n",
              "</style>\n",
              "<table border=\"1\" class=\"dataframe\">\n",
              "  <thead>\n",
              "    <tr style=\"text-align: right;\">\n",
              "      <th></th>\n",
              "      <th>longitude</th>\n",
              "      <th>latitude</th>\n",
              "      <th>housing_median_age</th>\n",
              "      <th>total_rooms</th>\n",
              "      <th>total_bedrooms</th>\n",
              "      <th>population</th>\n",
              "      <th>households</th>\n",
              "      <th>median_income</th>\n",
              "      <th>ocean_proximity</th>\n",
              "    </tr>\n",
              "  </thead>\n",
              "  <tbody>\n",
              "    <tr>\n",
              "      <th>0</th>\n",
              "      <td>-121.37</td>\n",
              "      <td>37.06</td>\n",
              "      <td>25.0</td>\n",
              "      <td>474.0</td>\n",
              "      <td>92.0</td>\n",
              "      <td>300.0</td>\n",
              "      <td>104.0</td>\n",
              "      <td>3.8062</td>\n",
              "      <td>INLAND</td>\n",
              "    </tr>\n",
              "    <tr>\n",
              "      <th>1</th>\n",
              "      <td>-118.39</td>\n",
              "      <td>34.14</td>\n",
              "      <td>19.0</td>\n",
              "      <td>5076.0</td>\n",
              "      <td>1034.0</td>\n",
              "      <td>2021.0</td>\n",
              "      <td>960.0</td>\n",
              "      <td>5.5683</td>\n",
              "      <td>&lt;1H OCEAN</td>\n",
              "    </tr>\n",
              "    <tr>\n",
              "      <th>2</th>\n",
              "      <td>-122.07</td>\n",
              "      <td>37.41</td>\n",
              "      <td>26.0</td>\n",
              "      <td>1184.0</td>\n",
              "      <td>225.0</td>\n",
              "      <td>815.0</td>\n",
              "      <td>218.0</td>\n",
              "      <td>5.7657</td>\n",
              "      <td>NEAR BAY</td>\n",
              "    </tr>\n",
              "    <tr>\n",
              "      <th>3</th>\n",
              "      <td>-121.92</td>\n",
              "      <td>36.57</td>\n",
              "      <td>42.0</td>\n",
              "      <td>3944.0</td>\n",
              "      <td>738.0</td>\n",
              "      <td>1374.0</td>\n",
              "      <td>598.0</td>\n",
              "      <td>4.1740</td>\n",
              "      <td>NEAR OCEAN</td>\n",
              "    </tr>\n",
              "    <tr>\n",
              "      <th>4</th>\n",
              "      <td>-118.36</td>\n",
              "      <td>33.82</td>\n",
              "      <td>36.0</td>\n",
              "      <td>1083.0</td>\n",
              "      <td>187.0</td>\n",
              "      <td>522.0</td>\n",
              "      <td>187.0</td>\n",
              "      <td>5.7765</td>\n",
              "      <td>&lt;1H OCEAN</td>\n",
              "    </tr>\n",
              "  </tbody>\n",
              "</table>\n",
              "</div>"
            ],
            "text/plain": [
              "   longitude  latitude  ...  median_income  ocean_proximity\n",
              "0    -121.37     37.06  ...         3.8062           INLAND\n",
              "1    -118.39     34.14  ...         5.5683        <1H OCEAN\n",
              "2    -122.07     37.41  ...         5.7657         NEAR BAY\n",
              "3    -121.92     36.57  ...         4.1740       NEAR OCEAN\n",
              "4    -118.36     33.82  ...         5.7765        <1H OCEAN\n",
              "\n",
              "[5 rows x 9 columns]"
            ]
          },
          "metadata": {},
          "execution_count": 12
        }
      ]
    },
    {
      "cell_type": "code",
      "metadata": {
        "colab": {
          "base_uri": "https://localhost:8080/"
        },
        "id": "fancy-steam",
        "outputId": "7143e199-1755-481b-8b26-5a07cfca39db"
      },
      "source": [
        "housing_train.shape"
      ],
      "id": "fancy-steam",
      "execution_count": 13,
      "outputs": [
        {
          "output_type": "execute_result",
          "data": {
            "text/plain": [
              "(14857, 9)"
            ]
          },
          "metadata": {},
          "execution_count": 13
        }
      ]
    },
    {
      "cell_type": "markdown",
      "metadata": {
        "id": "rough-patrol"
      },
      "source": [
        "### 5.3. Separate the _numerical_ and _categorical_ features\n",
        "Since we perform different preprocessing tasks (transformations) to _numerical_ features and _categorical_ ones, let's split them into two different dataframes."
      ],
      "id": "rough-patrol"
    },
    {
      "cell_type": "code",
      "metadata": {
        "colab": {
          "base_uri": "https://localhost:8080/"
        },
        "id": "boolean-torture",
        "outputId": "08b60490-8799-4463-c20e-d71253a25db5"
      },
      "source": [
        "housing_train.columns"
      ],
      "id": "boolean-torture",
      "execution_count": 14,
      "outputs": [
        {
          "output_type": "execute_result",
          "data": {
            "text/plain": [
              "Index(['longitude', 'latitude', 'housing_median_age', 'total_rooms',\n",
              "       'total_bedrooms', 'population', 'households', 'median_income',\n",
              "       'ocean_proximity'],\n",
              "      dtype='object')"
            ]
          },
          "metadata": {},
          "execution_count": 14
        }
      ]
    },
    {
      "cell_type": "code",
      "metadata": {
        "colab": {
          "base_uri": "https://localhost:8080/"
        },
        "id": "suffering-basics",
        "outputId": "abead7e2-21b5-4b2a-b0bc-35ce8c9522d8"
      },
      "source": [
        "# numerical atributes\n",
        "num_attributes = housing_train.columns.drop('ocean_proximity')\n",
        "num_attributes"
      ],
      "id": "suffering-basics",
      "execution_count": 15,
      "outputs": [
        {
          "output_type": "execute_result",
          "data": {
            "text/plain": [
              "Index(['longitude', 'latitude', 'housing_median_age', 'total_rooms',\n",
              "       'total_bedrooms', 'population', 'households', 'median_income'],\n",
              "      dtype='object')"
            ]
          },
          "metadata": {},
          "execution_count": 15
        }
      ]
    },
    {
      "cell_type": "code",
      "metadata": {
        "colab": {
          "base_uri": "https://localhost:8080/"
        },
        "id": "circular-pressing",
        "outputId": "159ab337-cb84-415c-ff68-77319f46130f"
      },
      "source": [
        "# categorical attributes\n",
        "cat_attributes = ['ocean_proximity']\n",
        "cat_attributes"
      ],
      "id": "circular-pressing",
      "execution_count": 16,
      "outputs": [
        {
          "output_type": "execute_result",
          "data": {
            "text/plain": [
              "['ocean_proximity']"
            ]
          },
          "metadata": {},
          "execution_count": 16
        }
      ]
    },
    {
      "cell_type": "code",
      "metadata": {
        "id": "pretty-methodology"
      },
      "source": [
        "# separating the features\n",
        "housing_train_num = housing_train[num_attributes]\n",
        "housing_train_cat = housing_train[cat_attributes]"
      ],
      "id": "pretty-methodology",
      "execution_count": 17,
      "outputs": []
    },
    {
      "cell_type": "code",
      "metadata": {
        "colab": {
          "base_uri": "https://localhost:8080/",
          "height": 0
        },
        "id": "taken-warehouse",
        "outputId": "62d3c7f6-d553-431c-d355-d8df92dc08dd"
      },
      "source": [
        "housing_train_num.head()"
      ],
      "id": "taken-warehouse",
      "execution_count": 18,
      "outputs": [
        {
          "output_type": "execute_result",
          "data": {
            "text/html": [
              "<div>\n",
              "<style scoped>\n",
              "    .dataframe tbody tr th:only-of-type {\n",
              "        vertical-align: middle;\n",
              "    }\n",
              "\n",
              "    .dataframe tbody tr th {\n",
              "        vertical-align: top;\n",
              "    }\n",
              "\n",
              "    .dataframe thead th {\n",
              "        text-align: right;\n",
              "    }\n",
              "</style>\n",
              "<table border=\"1\" class=\"dataframe\">\n",
              "  <thead>\n",
              "    <tr style=\"text-align: right;\">\n",
              "      <th></th>\n",
              "      <th>longitude</th>\n",
              "      <th>latitude</th>\n",
              "      <th>housing_median_age</th>\n",
              "      <th>total_rooms</th>\n",
              "      <th>total_bedrooms</th>\n",
              "      <th>population</th>\n",
              "      <th>households</th>\n",
              "      <th>median_income</th>\n",
              "    </tr>\n",
              "  </thead>\n",
              "  <tbody>\n",
              "    <tr>\n",
              "      <th>0</th>\n",
              "      <td>-121.37</td>\n",
              "      <td>37.06</td>\n",
              "      <td>25.0</td>\n",
              "      <td>474.0</td>\n",
              "      <td>92.0</td>\n",
              "      <td>300.0</td>\n",
              "      <td>104.0</td>\n",
              "      <td>3.8062</td>\n",
              "    </tr>\n",
              "    <tr>\n",
              "      <th>1</th>\n",
              "      <td>-118.39</td>\n",
              "      <td>34.14</td>\n",
              "      <td>19.0</td>\n",
              "      <td>5076.0</td>\n",
              "      <td>1034.0</td>\n",
              "      <td>2021.0</td>\n",
              "      <td>960.0</td>\n",
              "      <td>5.5683</td>\n",
              "    </tr>\n",
              "    <tr>\n",
              "      <th>2</th>\n",
              "      <td>-122.07</td>\n",
              "      <td>37.41</td>\n",
              "      <td>26.0</td>\n",
              "      <td>1184.0</td>\n",
              "      <td>225.0</td>\n",
              "      <td>815.0</td>\n",
              "      <td>218.0</td>\n",
              "      <td>5.7657</td>\n",
              "    </tr>\n",
              "    <tr>\n",
              "      <th>3</th>\n",
              "      <td>-121.92</td>\n",
              "      <td>36.57</td>\n",
              "      <td>42.0</td>\n",
              "      <td>3944.0</td>\n",
              "      <td>738.0</td>\n",
              "      <td>1374.0</td>\n",
              "      <td>598.0</td>\n",
              "      <td>4.1740</td>\n",
              "    </tr>\n",
              "    <tr>\n",
              "      <th>4</th>\n",
              "      <td>-118.36</td>\n",
              "      <td>33.82</td>\n",
              "      <td>36.0</td>\n",
              "      <td>1083.0</td>\n",
              "      <td>187.0</td>\n",
              "      <td>522.0</td>\n",
              "      <td>187.0</td>\n",
              "      <td>5.7765</td>\n",
              "    </tr>\n",
              "  </tbody>\n",
              "</table>\n",
              "</div>"
            ],
            "text/plain": [
              "   longitude  latitude  ...  households  median_income\n",
              "0    -121.37     37.06  ...       104.0         3.8062\n",
              "1    -118.39     34.14  ...       960.0         5.5683\n",
              "2    -122.07     37.41  ...       218.0         5.7657\n",
              "3    -121.92     36.57  ...       598.0         4.1740\n",
              "4    -118.36     33.82  ...       187.0         5.7765\n",
              "\n",
              "[5 rows x 8 columns]"
            ]
          },
          "metadata": {},
          "execution_count": 18
        }
      ]
    },
    {
      "cell_type": "code",
      "metadata": {
        "colab": {
          "base_uri": "https://localhost:8080/",
          "height": 0
        },
        "id": "fresh-fight",
        "outputId": "f900318a-8cf8-4d29-d1bc-ecc479daf829"
      },
      "source": [
        "housing_train_cat.head()"
      ],
      "id": "fresh-fight",
      "execution_count": 19,
      "outputs": [
        {
          "output_type": "execute_result",
          "data": {
            "text/html": [
              "<div>\n",
              "<style scoped>\n",
              "    .dataframe tbody tr th:only-of-type {\n",
              "        vertical-align: middle;\n",
              "    }\n",
              "\n",
              "    .dataframe tbody tr th {\n",
              "        vertical-align: top;\n",
              "    }\n",
              "\n",
              "    .dataframe thead th {\n",
              "        text-align: right;\n",
              "    }\n",
              "</style>\n",
              "<table border=\"1\" class=\"dataframe\">\n",
              "  <thead>\n",
              "    <tr style=\"text-align: right;\">\n",
              "      <th></th>\n",
              "      <th>ocean_proximity</th>\n",
              "    </tr>\n",
              "  </thead>\n",
              "  <tbody>\n",
              "    <tr>\n",
              "      <th>0</th>\n",
              "      <td>INLAND</td>\n",
              "    </tr>\n",
              "    <tr>\n",
              "      <th>1</th>\n",
              "      <td>&lt;1H OCEAN</td>\n",
              "    </tr>\n",
              "    <tr>\n",
              "      <th>2</th>\n",
              "      <td>NEAR BAY</td>\n",
              "    </tr>\n",
              "    <tr>\n",
              "      <th>3</th>\n",
              "      <td>NEAR OCEAN</td>\n",
              "    </tr>\n",
              "    <tr>\n",
              "      <th>4</th>\n",
              "      <td>&lt;1H OCEAN</td>\n",
              "    </tr>\n",
              "  </tbody>\n",
              "</table>\n",
              "</div>"
            ],
            "text/plain": [
              "  ocean_proximity\n",
              "0          INLAND\n",
              "1       <1H OCEAN\n",
              "2        NEAR BAY\n",
              "3      NEAR OCEAN\n",
              "4       <1H OCEAN"
            ]
          },
          "metadata": {},
          "execution_count": 19
        }
      ]
    },
    {
      "cell_type": "markdown",
      "metadata": {
        "tags": [],
        "id": "posted-cleveland"
      },
      "source": [
        "### 5.4. Filling in missing values"
      ],
      "id": "posted-cleveland"
    },
    {
      "cell_type": "markdown",
      "metadata": {
        "id": "decent-equity"
      },
      "source": [
        "`sklearn.impute.SimpleImputer` <br/>\n",
        "https://scikit-learn.org/stable/modules/generated/sklearn.impute.SimpleImputer.html"
      ],
      "id": "decent-equity"
    },
    {
      "cell_type": "code",
      "metadata": {
        "colab": {
          "base_uri": "https://localhost:8080/"
        },
        "id": "complicated-today",
        "outputId": "c20b2e6b-dbcb-4cea-fdea-e7dc0c606f48"
      },
      "source": [
        "from sklearn.impute import SimpleImputer\n",
        "\n",
        "imputer = SimpleImputer(strategy='median')\n",
        "imputer.fit(housing_train_num)"
      ],
      "id": "complicated-today",
      "execution_count": 20,
      "outputs": [
        {
          "output_type": "execute_result",
          "data": {
            "text/plain": [
              "SimpleImputer(add_indicator=False, copy=True, fill_value=None,\n",
              "              missing_values=nan, strategy='median', verbose=0)"
            ]
          },
          "metadata": {},
          "execution_count": 20
        }
      ]
    },
    {
      "cell_type": "code",
      "metadata": {
        "colab": {
          "base_uri": "https://localhost:8080/"
        },
        "id": "emotional-depth",
        "outputId": "55d218fd-c1a4-4840-934c-db2349540f5f"
      },
      "source": [
        "imputer.statistics_  # computed medians"
      ],
      "id": "emotional-depth",
      "execution_count": 21,
      "outputs": [
        {
          "output_type": "execute_result",
          "data": {
            "text/plain": [
              "array([-118.45  ,   34.24  ,   27.    , 2142.    ,  441.    , 1207.    ,\n",
              "        416.    ,    3.4559])"
            ]
          },
          "metadata": {},
          "execution_count": 21
        }
      ]
    },
    {
      "cell_type": "code",
      "metadata": {
        "colab": {
          "base_uri": "https://localhost:8080/"
        },
        "id": "manual-spotlight",
        "outputId": "644e8ec7-53cb-4472-cf66-f5f376ed4348"
      },
      "source": [
        "housing_train_num.median()"
      ],
      "id": "manual-spotlight",
      "execution_count": 22,
      "outputs": [
        {
          "output_type": "execute_result",
          "data": {
            "text/plain": [
              "longitude             -118.4500\n",
              "latitude                34.2400\n",
              "housing_median_age      27.0000\n",
              "total_rooms           2142.0000\n",
              "total_bedrooms         441.0000\n",
              "population            1207.0000\n",
              "households             416.0000\n",
              "median_income            3.4559\n",
              "dtype: float64"
            ]
          },
          "metadata": {},
          "execution_count": 22
        }
      ]
    },
    {
      "cell_type": "markdown",
      "metadata": {
        "id": "colored-cooling"
      },
      "source": [
        "<table align=\"left\" class=\"dashed-box\">\n",
        "<tr>\n",
        "    <td>💡</td>\n",
        "    <td>The <code>SimpleImputer</code> finds out the <i>statistic for imputation</i> <b>for ALL features</b>.</td>\n",
        "</tr>\n",
        "<tr>\n",
        "    <td></td>\n",
        "    <td>We can save this <i>transformer</i> on the disk for future transfomations.</td>\n",
        "</tr>\n",
        "</table><br/><br/>"
      ],
      "id": "colored-cooling"
    },
    {
      "cell_type": "code",
      "metadata": {
        "colab": {
          "base_uri": "https://localhost:8080/"
        },
        "id": "designing-citizen",
        "outputId": "e6a112cf-5a33-4112-bbe5-ff76ae00209d"
      },
      "source": [
        "# filling in the missing values FOR ALL attributes\n",
        "# it generates a numpy array\n",
        "housing_train_num_imputed = imputer.transform(housing_train_num)\n",
        "housing_train_num_imputed"
      ],
      "id": "designing-citizen",
      "execution_count": 23,
      "outputs": [
        {
          "output_type": "execute_result",
          "data": {
            "text/plain": [
              "array([[-1.2137e+02,  3.7060e+01,  2.5000e+01, ...,  3.0000e+02,\n",
              "         1.0400e+02,  3.8062e+00],\n",
              "       [-1.1839e+02,  3.4140e+01,  1.9000e+01, ...,  2.0210e+03,\n",
              "         9.6000e+02,  5.5683e+00],\n",
              "       [-1.2207e+02,  3.7410e+01,  2.6000e+01, ...,  8.1500e+02,\n",
              "         2.1800e+02,  5.7657e+00],\n",
              "       ...,\n",
              "       [-1.2186e+02,  3.7310e+01,  2.4000e+01, ...,  1.8080e+03,\n",
              "         6.2500e+02,  2.2259e+00],\n",
              "       [-1.2132e+02,  3.7960e+01,  4.6000e+01, ...,  9.7500e+02,\n",
              "         3.7300e+02,  2.0398e+00],\n",
              "       [-1.1730e+02,  3.4140e+01,  3.9000e+01, ...,  8.4100e+02,\n",
              "         3.2000e+02,  1.9432e+00]])"
            ]
          },
          "metadata": {},
          "execution_count": 23
        }
      ]
    },
    {
      "cell_type": "markdown",
      "metadata": {
        "id": "civilian-royalty"
      },
      "source": [
        "### 5.5. Adding new features\n",
        "To _automate data preprocessing_ via sklearn, we will need _to create_ our **own transformer** to add the new features considered."
      ],
      "id": "civilian-royalty"
    },
    {
      "cell_type": "code",
      "metadata": {
        "id": "intended-order"
      },
      "source": [
        "# template to create an own estimation\n",
        "from sklearn.base import BaseEstimator, TransformerMixin\n",
        "\n",
        "\n",
        "class NameOfYourTransformer(BaseEstimator, TransformerMixin):\n",
        "    def __init__(self):\n",
        "        pass\n",
        "    \n",
        "    def fit(self, X, y=None):\n",
        "        return self  # nothing else to do\n",
        "    \n",
        "    def transform(self, X):\n",
        "        return None  # return the transformed data instead of None\n"
      ],
      "id": "intended-order",
      "execution_count": 24,
      "outputs": []
    },
    {
      "cell_type": "markdown",
      "metadata": {
        "id": "indirect-processing"
      },
      "source": [
        "Since our custom transformer can be executed before other transformation, we will consider that the input is a **numpy 2D array**, not a _dataframe_. <br/>\n",
        "\n",
        "This transformer will create 3 new features, based on the current ones:\n",
        "- `total_rooms`\n",
        "- `total_bedrooms`\n",
        "- `population`\n",
        "- `households`\n",
        "\n",
        "\n",
        "Thus, we need to find their column indices first because our input will be a **numpy 2D array**."
      ],
      "id": "indirect-processing"
    },
    {
      "cell_type": "code",
      "metadata": {
        "colab": {
          "base_uri": "https://localhost:8080/"
        },
        "id": "offshore-centre",
        "outputId": "0d574166-7bf4-4f1a-c00b-e30e558425f9"
      },
      "source": [
        "# get the integer index of each attribute/column:\n",
        "for index, column_name in enumerate(housing_train_num.columns):\n",
        "    print(f'{index} = {column_name}')"
      ],
      "id": "offshore-centre",
      "execution_count": 25,
      "outputs": [
        {
          "output_type": "stream",
          "name": "stdout",
          "text": [
            "0 = longitude\n",
            "1 = latitude\n",
            "2 = housing_median_age\n",
            "3 = total_rooms\n",
            "4 = total_bedrooms\n",
            "5 = population\n",
            "6 = households\n",
            "7 = median_income\n"
          ]
        }
      ]
    },
    {
      "cell_type": "code",
      "metadata": {
        "id": "aboriginal-heavy"
      },
      "source": [
        "import numpy as np\n",
        "from sklearn.base import BaseEstimator, TransformerMixin\n",
        "\n",
        "total_rooms_col_idx = 3\n",
        "total_bedrooms_col_idx = 4\n",
        "population_col_idx = 5\n",
        "households_col_idx = 6\n",
        "\n",
        "\n",
        "class HousingFeatEngineering(BaseEstimator, TransformerMixin):\n",
        "    def __init__(self):\n",
        "        pass\n",
        "    \n",
        "    def fit(self, X, y=None):\n",
        "        return self  # nothing else to do\n",
        "    \n",
        "    def transform(self, X):\n",
        "        n_rows = X.shape[0]\n",
        "        \n",
        "        # creating the new features\n",
        "        rooms_per_household = X[:, total_rooms_col_idx] / X[:, households_col_idx]\n",
        "        bedrooms_per_room = X[:, total_bedrooms_col_idx] / X[:, total_rooms_col_idx]\n",
        "        population_per_household = X[:, population_col_idx] / X[:, households_col_idx]\n",
        "        \n",
        "        # to concatenate the new arrays as columns in our feature matrix, we need to reshape first\n",
        "        rooms_per_household = rooms_per_household.reshape((n_rows, 1))\n",
        "        bedrooms_per_room = bedrooms_per_room.reshape((n_rows, 1))\n",
        "        population_per_household = population_per_household.reshape((n_rows, 1))\n",
        "        \n",
        "        # concatenating the new features into the feature matrix X\n",
        "        X_out = np.hstack((X, rooms_per_household, bedrooms_per_room, population_per_household))\n",
        "        \n",
        "        return X_out\n"
      ],
      "id": "aboriginal-heavy",
      "execution_count": 26,
      "outputs": []
    },
    {
      "cell_type": "code",
      "metadata": {
        "colab": {
          "base_uri": "https://localhost:8080/"
        },
        "id": "saving-frederick",
        "outputId": "82ae1047-e8bf-42b2-ce30-898d09abf975"
      },
      "source": [
        "feat_engineer = HousingFeatEngineering()\n",
        "\n",
        "housing_train_num_new_feats = feat_engineer.transform(housing_train_num.values)  # we need to convert it to numpy first\n",
        "housing_train_num_new_feats"
      ],
      "id": "saving-frederick",
      "execution_count": 27,
      "outputs": [
        {
          "output_type": "execute_result",
          "data": {
            "text/plain": [
              "array([[-121.37      ,   37.06      ,   25.        , ...,    4.55769231,\n",
              "           0.19409283,    2.88461538],\n",
              "       [-118.39      ,   34.14      ,   19.        , ...,    5.2875    ,\n",
              "           0.2037037 ,    2.10520833],\n",
              "       [-122.07      ,   37.41      ,   26.        , ...,    5.43119266,\n",
              "           0.19003378,    3.73853211],\n",
              "       ...,\n",
              "       [-121.86      ,   37.31      ,   24.        , ...,    3.1024    ,\n",
              "           0.3362558 ,    2.8928    ],\n",
              "       [-121.32      ,   37.96      ,   46.        , ...,    4.91152815,\n",
              "           0.19923581,    2.61394102],\n",
              "       [-117.3       ,   34.14      ,   39.        , ...,    5.565625  ,\n",
              "           0.18809657,    2.628125  ]])"
            ]
          },
          "metadata": {},
          "execution_count": 27
        }
      ]
    },
    {
      "cell_type": "code",
      "metadata": {
        "colab": {
          "base_uri": "https://localhost:8080/"
        },
        "id": "elder-effects",
        "outputId": "b17334b1-8ab6-4136-df06-f80233dee8c2"
      },
      "source": [
        "housing_train_num_new_feats.shape"
      ],
      "id": "elder-effects",
      "execution_count": 28,
      "outputs": [
        {
          "output_type": "execute_result",
          "data": {
            "text/plain": [
              "(14857, 11)"
            ]
          },
          "metadata": {},
          "execution_count": 28
        }
      ]
    },
    {
      "cell_type": "code",
      "metadata": {
        "colab": {
          "base_uri": "https://localhost:8080/"
        },
        "id": "peaceful-coating",
        "outputId": "9bfa8fd9-caff-471e-ce0d-31451ebcfc02"
      },
      "source": [
        "# show the new feats\n",
        "housing_train_num_new_feats[:, -3:]"
      ],
      "id": "peaceful-coating",
      "execution_count": 29,
      "outputs": [
        {
          "output_type": "execute_result",
          "data": {
            "text/plain": [
              "array([[4.55769231, 0.19409283, 2.88461538],\n",
              "       [5.2875    , 0.2037037 , 2.10520833],\n",
              "       [5.43119266, 0.19003378, 3.73853211],\n",
              "       ...,\n",
              "       [3.1024    , 0.3362558 , 2.8928    ],\n",
              "       [4.91152815, 0.19923581, 2.61394102],\n",
              "       [5.565625  , 0.18809657, 2.628125  ]])"
            ]
          },
          "metadata": {},
          "execution_count": 29
        }
      ]
    },
    {
      "cell_type": "markdown",
      "metadata": {
        "id": "missing-voluntary"
      },
      "source": [
        "### 5.6. Feature Scaling\n",
        "Exactly as performed in the previous sprint: **RobustScaler**. <br/>\n",
        "https://scikit-learn.org/stable/modules/generated/sklearn.preprocessing.RobustScaler.html"
      ],
      "id": "missing-voluntary"
    },
    {
      "cell_type": "code",
      "metadata": {
        "colab": {
          "base_uri": "https://localhost:8080/"
        },
        "id": "intelligent-microphone",
        "outputId": "d2381bf1-0e2e-4b81-c874-dc5d8a8b6de8"
      },
      "source": [
        "from sklearn.preprocessing import RobustScaler\n",
        "\n",
        "scaler = RobustScaler()\n",
        "scaler.fit(housing_train_num)"
      ],
      "id": "intelligent-microphone",
      "execution_count": 30,
      "outputs": [
        {
          "output_type": "execute_result",
          "data": {
            "text/plain": [
              "RobustScaler(copy=True, quantile_range=(25.0, 75.0), with_centering=True,\n",
              "             with_scaling=True)"
            ]
          },
          "metadata": {},
          "execution_count": 30
        }
      ]
    },
    {
      "cell_type": "code",
      "metadata": {
        "colab": {
          "base_uri": "https://localhost:8080/"
        },
        "id": "banned-execution",
        "outputId": "0bfc26c1-2d23-49dd-d621-566a68afdc9e"
      },
      "source": [
        "housing_train_num_scaled = scaler.transform(housing_train_num)\n",
        "housing_train_num_scaled"
      ],
      "id": "banned-execution",
      "execution_count": 31,
      "outputs": [
        {
          "output_type": "execute_result",
          "data": {
            "text/plain": [
              "array([[-0.81337047,  0.752     , -0.11111111, ..., -0.93989637,\n",
              "        -0.94545455,  0.1689414 ],\n",
              "       [ 0.01671309, -0.02666667, -0.44444444, ...,  0.84352332,\n",
              "         1.64848485,  1.01876055],\n",
              "       [-1.00835655,  0.84533333, -0.05555556, ..., -0.40621762,\n",
              "        -0.6       ,  1.1139619 ],\n",
              "       ...,\n",
              "       [-0.94986072,  0.81866667, -0.16666667, ...,  0.62279793,\n",
              "         0.63333333, -0.5931999 ],\n",
              "       [-0.7994429 ,  0.992     ,  1.05555556, ..., -0.24041451,\n",
              "        -0.13030303, -0.68295153],\n",
              "       [ 0.32033426, -0.02666667,  0.66666667, ..., -0.37927461,\n",
              "        -0.29090909, -0.72953943]])"
            ]
          },
          "metadata": {},
          "execution_count": 31
        }
      ]
    },
    {
      "cell_type": "markdown",
      "metadata": {
        "id": "acquired-kuwait"
      },
      "source": [
        "### 5.7. Categorical Variable Encoding\n",
        "Instead of using the method `.get_dummies()` from _pandas_, let's use a method from _sklearn_.\n",
        "\n",
        "`sklearn.preprocessing.OneHotEncoder` <br/>\n",
        "https://scikit-learn.org/stable/modules/generated/sklearn.preprocessing.OneHotEncoder.html"
      ],
      "id": "acquired-kuwait"
    },
    {
      "cell_type": "code",
      "metadata": {
        "colab": {
          "base_uri": "https://localhost:8080/",
          "height": 423
        },
        "id": "seasonal-directory",
        "outputId": "76264c6a-1e18-4ab5-9ebc-70e9db3b2cc4"
      },
      "source": [
        "housing_train_cat"
      ],
      "id": "seasonal-directory",
      "execution_count": 32,
      "outputs": [
        {
          "output_type": "execute_result",
          "data": {
            "text/html": [
              "<div>\n",
              "<style scoped>\n",
              "    .dataframe tbody tr th:only-of-type {\n",
              "        vertical-align: middle;\n",
              "    }\n",
              "\n",
              "    .dataframe tbody tr th {\n",
              "        vertical-align: top;\n",
              "    }\n",
              "\n",
              "    .dataframe thead th {\n",
              "        text-align: right;\n",
              "    }\n",
              "</style>\n",
              "<table border=\"1\" class=\"dataframe\">\n",
              "  <thead>\n",
              "    <tr style=\"text-align: right;\">\n",
              "      <th></th>\n",
              "      <th>ocean_proximity</th>\n",
              "    </tr>\n",
              "  </thead>\n",
              "  <tbody>\n",
              "    <tr>\n",
              "      <th>0</th>\n",
              "      <td>INLAND</td>\n",
              "    </tr>\n",
              "    <tr>\n",
              "      <th>1</th>\n",
              "      <td>&lt;1H OCEAN</td>\n",
              "    </tr>\n",
              "    <tr>\n",
              "      <th>2</th>\n",
              "      <td>NEAR BAY</td>\n",
              "    </tr>\n",
              "    <tr>\n",
              "      <th>3</th>\n",
              "      <td>NEAR OCEAN</td>\n",
              "    </tr>\n",
              "    <tr>\n",
              "      <th>4</th>\n",
              "      <td>&lt;1H OCEAN</td>\n",
              "    </tr>\n",
              "    <tr>\n",
              "      <th>...</th>\n",
              "      <td>...</td>\n",
              "    </tr>\n",
              "    <tr>\n",
              "      <th>14852</th>\n",
              "      <td>NEAR OCEAN</td>\n",
              "    </tr>\n",
              "    <tr>\n",
              "      <th>14853</th>\n",
              "      <td>&lt;1H OCEAN</td>\n",
              "    </tr>\n",
              "    <tr>\n",
              "      <th>14854</th>\n",
              "      <td>&lt;1H OCEAN</td>\n",
              "    </tr>\n",
              "    <tr>\n",
              "      <th>14855</th>\n",
              "      <td>INLAND</td>\n",
              "    </tr>\n",
              "    <tr>\n",
              "      <th>14856</th>\n",
              "      <td>INLAND</td>\n",
              "    </tr>\n",
              "  </tbody>\n",
              "</table>\n",
              "<p>14857 rows × 1 columns</p>\n",
              "</div>"
            ],
            "text/plain": [
              "      ocean_proximity\n",
              "0              INLAND\n",
              "1           <1H OCEAN\n",
              "2            NEAR BAY\n",
              "3          NEAR OCEAN\n",
              "4           <1H OCEAN\n",
              "...               ...\n",
              "14852      NEAR OCEAN\n",
              "14853       <1H OCEAN\n",
              "14854       <1H OCEAN\n",
              "14855          INLAND\n",
              "14856          INLAND\n",
              "\n",
              "[14857 rows x 1 columns]"
            ]
          },
          "metadata": {},
          "execution_count": 32
        }
      ]
    },
    {
      "cell_type": "code",
      "metadata": {
        "id": "surprised-category"
      },
      "source": [
        "from sklearn.preprocessing import OneHotEncoder\n",
        "\n",
        "encoder = OneHotEncoder(handle_unknown='ignore')\n",
        "housing_train_cat_1hot = encoder.fit_transform(housing_train_cat)"
      ],
      "id": "surprised-category",
      "execution_count": 33,
      "outputs": []
    },
    {
      "cell_type": "code",
      "metadata": {
        "colab": {
          "base_uri": "https://localhost:8080/",
          "height": 423
        },
        "id": "found-blade",
        "outputId": "3620d752-c1de-4160-c7cd-0595f28fba68"
      },
      "source": [
        "housing_train_cat"
      ],
      "id": "found-blade",
      "execution_count": 34,
      "outputs": [
        {
          "output_type": "execute_result",
          "data": {
            "text/html": [
              "<div>\n",
              "<style scoped>\n",
              "    .dataframe tbody tr th:only-of-type {\n",
              "        vertical-align: middle;\n",
              "    }\n",
              "\n",
              "    .dataframe tbody tr th {\n",
              "        vertical-align: top;\n",
              "    }\n",
              "\n",
              "    .dataframe thead th {\n",
              "        text-align: right;\n",
              "    }\n",
              "</style>\n",
              "<table border=\"1\" class=\"dataframe\">\n",
              "  <thead>\n",
              "    <tr style=\"text-align: right;\">\n",
              "      <th></th>\n",
              "      <th>ocean_proximity</th>\n",
              "    </tr>\n",
              "  </thead>\n",
              "  <tbody>\n",
              "    <tr>\n",
              "      <th>0</th>\n",
              "      <td>INLAND</td>\n",
              "    </tr>\n",
              "    <tr>\n",
              "      <th>1</th>\n",
              "      <td>&lt;1H OCEAN</td>\n",
              "    </tr>\n",
              "    <tr>\n",
              "      <th>2</th>\n",
              "      <td>NEAR BAY</td>\n",
              "    </tr>\n",
              "    <tr>\n",
              "      <th>3</th>\n",
              "      <td>NEAR OCEAN</td>\n",
              "    </tr>\n",
              "    <tr>\n",
              "      <th>4</th>\n",
              "      <td>&lt;1H OCEAN</td>\n",
              "    </tr>\n",
              "    <tr>\n",
              "      <th>...</th>\n",
              "      <td>...</td>\n",
              "    </tr>\n",
              "    <tr>\n",
              "      <th>14852</th>\n",
              "      <td>NEAR OCEAN</td>\n",
              "    </tr>\n",
              "    <tr>\n",
              "      <th>14853</th>\n",
              "      <td>&lt;1H OCEAN</td>\n",
              "    </tr>\n",
              "    <tr>\n",
              "      <th>14854</th>\n",
              "      <td>&lt;1H OCEAN</td>\n",
              "    </tr>\n",
              "    <tr>\n",
              "      <th>14855</th>\n",
              "      <td>INLAND</td>\n",
              "    </tr>\n",
              "    <tr>\n",
              "      <th>14856</th>\n",
              "      <td>INLAND</td>\n",
              "    </tr>\n",
              "  </tbody>\n",
              "</table>\n",
              "<p>14857 rows × 1 columns</p>\n",
              "</div>"
            ],
            "text/plain": [
              "      ocean_proximity\n",
              "0              INLAND\n",
              "1           <1H OCEAN\n",
              "2            NEAR BAY\n",
              "3          NEAR OCEAN\n",
              "4           <1H OCEAN\n",
              "...               ...\n",
              "14852      NEAR OCEAN\n",
              "14853       <1H OCEAN\n",
              "14854       <1H OCEAN\n",
              "14855          INLAND\n",
              "14856          INLAND\n",
              "\n",
              "[14857 rows x 1 columns]"
            ]
          },
          "metadata": {},
          "execution_count": 34
        }
      ]
    },
    {
      "cell_type": "code",
      "metadata": {
        "colab": {
          "base_uri": "https://localhost:8080/"
        },
        "id": "developed-training",
        "outputId": "6c85a753-4044-433e-a826-b9146a13b573"
      },
      "source": [
        "housing_train_cat_1hot"
      ],
      "id": "developed-training",
      "execution_count": 35,
      "outputs": [
        {
          "output_type": "execute_result",
          "data": {
            "text/plain": [
              "<14857x5 sparse matrix of type '<class 'numpy.float64'>'\n",
              "\twith 14857 stored elements in Compressed Sparse Row format>"
            ]
          },
          "metadata": {},
          "execution_count": 35
        }
      ]
    },
    {
      "cell_type": "markdown",
      "metadata": {
        "id": "textile-hybrid"
      },
      "source": [
        "<table align=\"left\" class=\"dashed-box\">\n",
        "<tr>\n",
        "    <td>💡</td>\n",
        "    <td>Notice that the output is a <i>SciPy sparse matrix</i>, instead of a <i>NumPy array</i>. This is very useful when you have categorical attributes with <b>thousands of categories</b>.</td>\n",
        "</tr>\n",
        "<tr>\n",
        "    <td></td>\n",
        "    <td>After one-hot encoding, we get a matrix with thousands of columns, and the matrix is <i>full of 0s</i> except for <i>a single <b>1</b> per row</i>.</td>\n",
        "</tr>\n",
        "<tr>\n",
        "    <td></td>\n",
        "    <td>Using up tons of memory mostly to store zeros would be very wasteful, so instead a sparse matrix only stores the location of the nonzero elements.</td>\n",
        "</tr>\n",
        "</table><br/><br/>\n"
      ],
      "id": "textile-hybrid"
    },
    {
      "cell_type": "code",
      "metadata": {
        "colab": {
          "base_uri": "https://localhost:8080/"
        },
        "id": "fleet-divide",
        "outputId": "468bd114-7d80-4314-a9b6-a08567289c81"
      },
      "source": [
        "# converting to NumPy array\n",
        "housing_train_cat_1hot.toarray()"
      ],
      "id": "fleet-divide",
      "execution_count": 36,
      "outputs": [
        {
          "output_type": "execute_result",
          "data": {
            "text/plain": [
              "array([[0., 1., 0., 0., 0.],\n",
              "       [1., 0., 0., 0., 0.],\n",
              "       [0., 0., 0., 1., 0.],\n",
              "       ...,\n",
              "       [1., 0., 0., 0., 0.],\n",
              "       [0., 1., 0., 0., 0.],\n",
              "       [0., 1., 0., 0., 0.]])"
            ]
          },
          "metadata": {},
          "execution_count": 36
        }
      ]
    },
    {
      "cell_type": "code",
      "metadata": {
        "colab": {
          "base_uri": "https://localhost:8080/"
        },
        "id": "silent-memorabilia",
        "outputId": "01c4ac80-cd56-4d5b-840d-f5307e5c1f14"
      },
      "source": [
        "# getting the list of categories\n",
        "encoder.categories_"
      ],
      "id": "silent-memorabilia",
      "execution_count": 37,
      "outputs": [
        {
          "output_type": "execute_result",
          "data": {
            "text/plain": [
              "[array(['<1H OCEAN', 'INLAND', 'ISLAND', 'NEAR BAY', 'NEAR OCEAN'],\n",
              "       dtype=object)]"
            ]
          },
          "metadata": {},
          "execution_count": 37
        }
      ]
    },
    {
      "cell_type": "markdown",
      "metadata": {
        "id": "normal-firewall"
      },
      "source": [
        "### 5.8. Creating Preprocessing `Pipelines`\n",
        "https://scikit-learn.org/stable/modules/generated/sklearn.pipeline.Pipeline.html"
      ],
      "id": "normal-firewall"
    },
    {
      "cell_type": "markdown",
      "metadata": {
        "id": "thermal-garlic"
      },
      "source": [
        "<table align=\"left\" class=\"dashed-box\">\n",
        "<tr>\n",
        "    <td><span class='alt-tab'>alt tab</span></td>\n",
        "    <td><b>Slides:</b> Scikit-Learn Design Principles - Pipelines<br/></td>\n",
        "</tr>\n",
        "</table><br/><br/>"
      ],
      "id": "thermal-garlic"
    },
    {
      "cell_type": "markdown",
      "metadata": {
        "id": "illegal-reason"
      },
      "source": [
        "Let's create a **Preprocessing `Pipeline`**."
      ],
      "id": "illegal-reason"
    },
    {
      "cell_type": "code",
      "metadata": {
        "id": "damaged-manner"
      },
      "source": [
        "from sklearn.pipeline import Pipeline"
      ],
      "id": "damaged-manner",
      "execution_count": 38,
      "outputs": []
    },
    {
      "cell_type": "markdown",
      "metadata": {
        "id": "occasional-coalition"
      },
      "source": [
        "#### Pipeline for numerical data"
      ],
      "id": "occasional-coalition"
    },
    {
      "cell_type": "code",
      "metadata": {
        "id": "legislative-football"
      },
      "source": [
        "from sklearn.impute import SimpleImputer\n",
        "from sklearn.preprocessing import RobustScaler\n",
        "\n",
        "num_pipeline = Pipeline([\n",
        "    ('imputer', SimpleImputer(strategy='median')),\n",
        "    ('feat_engineering', HousingFeatEngineering()),\n",
        "    ('robust_scaler', RobustScaler())\n",
        "])"
      ],
      "id": "legislative-football",
      "execution_count": 39,
      "outputs": []
    },
    {
      "cell_type": "code",
      "metadata": {
        "id": "unlikely-subsection"
      },
      "source": [
        "housing_train_num_preprocessed = num_pipeline.fit_transform(housing_train_num)"
      ],
      "id": "unlikely-subsection",
      "execution_count": 40,
      "outputs": []
    },
    {
      "cell_type": "code",
      "metadata": {
        "colab": {
          "base_uri": "https://localhost:8080/"
        },
        "id": "metric-butler",
        "outputId": "e11bbd5a-8071-421d-fe1b-26955e0cc3ef"
      },
      "source": [
        "housing_train_num_preprocessed"
      ],
      "id": "metric-butler",
      "execution_count": 41,
      "outputs": [
        {
          "output_type": "execute_result",
          "data": {
            "text/plain": [
              "array([[-0.81337047,  0.752     , -0.11111111, ..., -0.41720345,\n",
              "        -0.15307229,  0.03593627],\n",
              "       [ 0.01671309, -0.02666667, -0.44444444, ...,  0.05044793,\n",
              "        -0.00235622, -0.88393775],\n",
              "       [-1.00835655,  0.84533333, -0.05555556, ...,  0.14252434,\n",
              "        -0.21672549,  1.04374832],\n",
              "       ...,\n",
              "       [-0.94986072,  0.81866667, -0.16666667, ..., -1.34973604,\n",
              "         2.07630238,  0.04559594],\n",
              "       [-0.7994429 ,  0.992     ,  1.05555556, ..., -0.19046999,\n",
              "        -0.07242097, -0.2835198 ],\n",
              "       [ 0.32033426, -0.02666667,  0.66666667, ...,  0.22866686,\n",
              "        -0.24710446, -0.26677954]])"
            ]
          },
          "metadata": {},
          "execution_count": 41
        }
      ]
    },
    {
      "cell_type": "code",
      "metadata": {
        "colab": {
          "base_uri": "https://localhost:8080/"
        },
        "id": "curious-accreditation",
        "outputId": "6e646fa1-3e09-4d24-9e65-61188365693d"
      },
      "source": [
        "housing_train_num_preprocessed.shape"
      ],
      "id": "curious-accreditation",
      "execution_count": 42,
      "outputs": [
        {
          "output_type": "execute_result",
          "data": {
            "text/plain": [
              "(14857, 11)"
            ]
          },
          "metadata": {},
          "execution_count": 42
        }
      ]
    },
    {
      "cell_type": "markdown",
      "metadata": {
        "id": "confident-poland"
      },
      "source": [
        "#### Pipeline for categorical data"
      ],
      "id": "confident-poland"
    },
    {
      "cell_type": "code",
      "metadata": {
        "id": "necessary-briefing"
      },
      "source": [
        "from sklearn.preprocessing import OneHotEncoder\n",
        "\n",
        "cat_pipeline = Pipeline([\n",
        "    ('one-hot-encoding', OneHotEncoder(handle_unknown='ignore'))\n",
        "])"
      ],
      "id": "necessary-briefing",
      "execution_count": 43,
      "outputs": []
    },
    {
      "cell_type": "code",
      "metadata": {
        "id": "north-adjustment"
      },
      "source": [
        "housing_train_cat_preprocessed = cat_pipeline.fit_transform(housing_train_cat)"
      ],
      "id": "north-adjustment",
      "execution_count": 44,
      "outputs": []
    },
    {
      "cell_type": "code",
      "metadata": {
        "colab": {
          "base_uri": "https://localhost:8080/"
        },
        "id": "assured-transition",
        "outputId": "88d5c2e8-56c1-4f4b-b5cb-942703aebf29"
      },
      "source": [
        "housing_train_cat_preprocessed.toarray()"
      ],
      "id": "assured-transition",
      "execution_count": 45,
      "outputs": [
        {
          "output_type": "execute_result",
          "data": {
            "text/plain": [
              "array([[0., 1., 0., 0., 0.],\n",
              "       [1., 0., 0., 0., 0.],\n",
              "       [0., 0., 0., 1., 0.],\n",
              "       ...,\n",
              "       [1., 0., 0., 0., 0.],\n",
              "       [0., 1., 0., 0., 0.],\n",
              "       [0., 1., 0., 0., 0.]])"
            ]
          },
          "metadata": {},
          "execution_count": 45
        }
      ]
    },
    {
      "cell_type": "code",
      "metadata": {
        "colab": {
          "base_uri": "https://localhost:8080/"
        },
        "id": "better-pierre",
        "outputId": "2e98b618-87a2-498c-e725-de5c379fa377"
      },
      "source": [
        "housing_train_cat_1hot"
      ],
      "id": "better-pierre",
      "execution_count": 46,
      "outputs": [
        {
          "output_type": "execute_result",
          "data": {
            "text/plain": [
              "<14857x5 sparse matrix of type '<class 'numpy.float64'>'\n",
              "\twith 14857 stored elements in Compressed Sparse Row format>"
            ]
          },
          "metadata": {},
          "execution_count": 46
        }
      ]
    },
    {
      "cell_type": "code",
      "metadata": {
        "colab": {
          "base_uri": "https://localhost:8080/"
        },
        "id": "developmental-surfing",
        "outputId": "2145c639-8741-4e41-bc24-75d7ee697aef"
      },
      "source": [
        "np.all(housing_train_cat_preprocessed.toarray() == housing_train_cat_1hot)"
      ],
      "id": "developmental-surfing",
      "execution_count": 47,
      "outputs": [
        {
          "output_type": "execute_result",
          "data": {
            "text/plain": [
              "True"
            ]
          },
          "metadata": {},
          "execution_count": 47
        }
      ]
    },
    {
      "cell_type": "markdown",
      "metadata": {
        "id": "practical-photography"
      },
      "source": [
        "### 5.9. Putting it all by `ColumnTransformer`\n",
        "https://scikit-learn.org/stable/modules/generated/sklearn.compose.ColumnTransformer.html"
      ],
      "id": "practical-photography"
    },
    {
      "cell_type": "markdown",
      "metadata": {
        "id": "initial-courage"
      },
      "source": [
        "Applies _transformers_ to **columns** of an array or pandas DataFrame. <br/>\n",
        "This **estimator** allows _different columns_ or _column subsets_ of the input to be **transformed *separately*** and the _features generated_ by each transformer will be _concatenated_ to form a **single feature space**. <br/>\n",
        "\n",
        "This is useful for _heterogeneous or columnar data_, to combine several feature extraction mechanisms or transformations into a single transformer."
      ],
      "id": "initial-courage"
    },
    {
      "cell_type": "code",
      "metadata": {
        "colab": {
          "base_uri": "https://localhost:8080/",
          "height": 423
        },
        "id": "intense-charge",
        "outputId": "03a023a5-b138-4507-810c-6af7a5bd8a05"
      },
      "source": [
        "housing_train"
      ],
      "id": "intense-charge",
      "execution_count": 48,
      "outputs": [
        {
          "output_type": "execute_result",
          "data": {
            "text/html": [
              "<div>\n",
              "<style scoped>\n",
              "    .dataframe tbody tr th:only-of-type {\n",
              "        vertical-align: middle;\n",
              "    }\n",
              "\n",
              "    .dataframe tbody tr th {\n",
              "        vertical-align: top;\n",
              "    }\n",
              "\n",
              "    .dataframe thead th {\n",
              "        text-align: right;\n",
              "    }\n",
              "</style>\n",
              "<table border=\"1\" class=\"dataframe\">\n",
              "  <thead>\n",
              "    <tr style=\"text-align: right;\">\n",
              "      <th></th>\n",
              "      <th>longitude</th>\n",
              "      <th>latitude</th>\n",
              "      <th>housing_median_age</th>\n",
              "      <th>total_rooms</th>\n",
              "      <th>total_bedrooms</th>\n",
              "      <th>population</th>\n",
              "      <th>households</th>\n",
              "      <th>median_income</th>\n",
              "      <th>ocean_proximity</th>\n",
              "    </tr>\n",
              "  </thead>\n",
              "  <tbody>\n",
              "    <tr>\n",
              "      <th>0</th>\n",
              "      <td>-121.37</td>\n",
              "      <td>37.06</td>\n",
              "      <td>25.0</td>\n",
              "      <td>474.0</td>\n",
              "      <td>92.0</td>\n",
              "      <td>300.0</td>\n",
              "      <td>104.0</td>\n",
              "      <td>3.8062</td>\n",
              "      <td>INLAND</td>\n",
              "    </tr>\n",
              "    <tr>\n",
              "      <th>1</th>\n",
              "      <td>-118.39</td>\n",
              "      <td>34.14</td>\n",
              "      <td>19.0</td>\n",
              "      <td>5076.0</td>\n",
              "      <td>1034.0</td>\n",
              "      <td>2021.0</td>\n",
              "      <td>960.0</td>\n",
              "      <td>5.5683</td>\n",
              "      <td>&lt;1H OCEAN</td>\n",
              "    </tr>\n",
              "    <tr>\n",
              "      <th>2</th>\n",
              "      <td>-122.07</td>\n",
              "      <td>37.41</td>\n",
              "      <td>26.0</td>\n",
              "      <td>1184.0</td>\n",
              "      <td>225.0</td>\n",
              "      <td>815.0</td>\n",
              "      <td>218.0</td>\n",
              "      <td>5.7657</td>\n",
              "      <td>NEAR BAY</td>\n",
              "    </tr>\n",
              "    <tr>\n",
              "      <th>3</th>\n",
              "      <td>-121.92</td>\n",
              "      <td>36.57</td>\n",
              "      <td>42.0</td>\n",
              "      <td>3944.0</td>\n",
              "      <td>738.0</td>\n",
              "      <td>1374.0</td>\n",
              "      <td>598.0</td>\n",
              "      <td>4.1740</td>\n",
              "      <td>NEAR OCEAN</td>\n",
              "    </tr>\n",
              "    <tr>\n",
              "      <th>4</th>\n",
              "      <td>-118.36</td>\n",
              "      <td>33.82</td>\n",
              "      <td>36.0</td>\n",
              "      <td>1083.0</td>\n",
              "      <td>187.0</td>\n",
              "      <td>522.0</td>\n",
              "      <td>187.0</td>\n",
              "      <td>5.7765</td>\n",
              "      <td>&lt;1H OCEAN</td>\n",
              "    </tr>\n",
              "    <tr>\n",
              "      <th>...</th>\n",
              "      <td>...</td>\n",
              "      <td>...</td>\n",
              "      <td>...</td>\n",
              "      <td>...</td>\n",
              "      <td>...</td>\n",
              "      <td>...</td>\n",
              "      <td>...</td>\n",
              "      <td>...</td>\n",
              "      <td>...</td>\n",
              "    </tr>\n",
              "    <tr>\n",
              "      <th>14852</th>\n",
              "      <td>-124.14</td>\n",
              "      <td>41.06</td>\n",
              "      <td>32.0</td>\n",
              "      <td>1020.0</td>\n",
              "      <td>215.0</td>\n",
              "      <td>421.0</td>\n",
              "      <td>198.0</td>\n",
              "      <td>3.0208</td>\n",
              "      <td>NEAR OCEAN</td>\n",
              "    </tr>\n",
              "    <tr>\n",
              "      <th>14853</th>\n",
              "      <td>-118.22</td>\n",
              "      <td>33.98</td>\n",
              "      <td>32.0</td>\n",
              "      <td>2643.0</td>\n",
              "      <td>737.0</td>\n",
              "      <td>2784.0</td>\n",
              "      <td>711.0</td>\n",
              "      <td>2.5352</td>\n",
              "      <td>&lt;1H OCEAN</td>\n",
              "    </tr>\n",
              "    <tr>\n",
              "      <th>14854</th>\n",
              "      <td>-121.86</td>\n",
              "      <td>37.31</td>\n",
              "      <td>24.0</td>\n",
              "      <td>1939.0</td>\n",
              "      <td>652.0</td>\n",
              "      <td>1808.0</td>\n",
              "      <td>625.0</td>\n",
              "      <td>2.2259</td>\n",
              "      <td>&lt;1H OCEAN</td>\n",
              "    </tr>\n",
              "    <tr>\n",
              "      <th>14855</th>\n",
              "      <td>-121.32</td>\n",
              "      <td>37.96</td>\n",
              "      <td>46.0</td>\n",
              "      <td>1832.0</td>\n",
              "      <td>365.0</td>\n",
              "      <td>975.0</td>\n",
              "      <td>373.0</td>\n",
              "      <td>2.0398</td>\n",
              "      <td>INLAND</td>\n",
              "    </tr>\n",
              "    <tr>\n",
              "      <th>14856</th>\n",
              "      <td>-117.30</td>\n",
              "      <td>34.14</td>\n",
              "      <td>39.0</td>\n",
              "      <td>1781.0</td>\n",
              "      <td>335.0</td>\n",
              "      <td>841.0</td>\n",
              "      <td>320.0</td>\n",
              "      <td>1.9432</td>\n",
              "      <td>INLAND</td>\n",
              "    </tr>\n",
              "  </tbody>\n",
              "</table>\n",
              "<p>14857 rows × 9 columns</p>\n",
              "</div>"
            ],
            "text/plain": [
              "       longitude  latitude  ...  median_income  ocean_proximity\n",
              "0        -121.37     37.06  ...         3.8062           INLAND\n",
              "1        -118.39     34.14  ...         5.5683        <1H OCEAN\n",
              "2        -122.07     37.41  ...         5.7657         NEAR BAY\n",
              "3        -121.92     36.57  ...         4.1740       NEAR OCEAN\n",
              "4        -118.36     33.82  ...         5.7765        <1H OCEAN\n",
              "...          ...       ...  ...            ...              ...\n",
              "14852    -124.14     41.06  ...         3.0208       NEAR OCEAN\n",
              "14853    -118.22     33.98  ...         2.5352        <1H OCEAN\n",
              "14854    -121.86     37.31  ...         2.2259        <1H OCEAN\n",
              "14855    -121.32     37.96  ...         2.0398           INLAND\n",
              "14856    -117.30     34.14  ...         1.9432           INLAND\n",
              "\n",
              "[14857 rows x 9 columns]"
            ]
          },
          "metadata": {},
          "execution_count": 48
        }
      ]
    },
    {
      "cell_type": "code",
      "metadata": {
        "colab": {
          "base_uri": "https://localhost:8080/"
        },
        "id": "annual-geology",
        "outputId": "39b5070f-4288-4b82-dd45-2dbc31a7df3d"
      },
      "source": [
        "num_attributes"
      ],
      "id": "annual-geology",
      "execution_count": 49,
      "outputs": [
        {
          "output_type": "execute_result",
          "data": {
            "text/plain": [
              "Index(['longitude', 'latitude', 'housing_median_age', 'total_rooms',\n",
              "       'total_bedrooms', 'population', 'households', 'median_income'],\n",
              "      dtype='object')"
            ]
          },
          "metadata": {},
          "execution_count": 49
        }
      ]
    },
    {
      "cell_type": "code",
      "metadata": {
        "colab": {
          "base_uri": "https://localhost:8080/"
        },
        "id": "dirty-matrix",
        "outputId": "eafebbdd-efee-45c5-b4a0-2b0923ae9aba"
      },
      "source": [
        "cat_attributes"
      ],
      "id": "dirty-matrix",
      "execution_count": 50,
      "outputs": [
        {
          "output_type": "execute_result",
          "data": {
            "text/plain": [
              "['ocean_proximity']"
            ]
          },
          "metadata": {},
          "execution_count": 50
        }
      ]
    },
    {
      "cell_type": "code",
      "metadata": {
        "colab": {
          "base_uri": "https://localhost:8080/",
          "height": 206
        },
        "id": "explicit-colleague",
        "outputId": "58077258-f0e5-4a27-8322-d8ce105d6ab8"
      },
      "source": [
        "housing_train.head()"
      ],
      "id": "explicit-colleague",
      "execution_count": 51,
      "outputs": [
        {
          "output_type": "execute_result",
          "data": {
            "text/html": [
              "<div>\n",
              "<style scoped>\n",
              "    .dataframe tbody tr th:only-of-type {\n",
              "        vertical-align: middle;\n",
              "    }\n",
              "\n",
              "    .dataframe tbody tr th {\n",
              "        vertical-align: top;\n",
              "    }\n",
              "\n",
              "    .dataframe thead th {\n",
              "        text-align: right;\n",
              "    }\n",
              "</style>\n",
              "<table border=\"1\" class=\"dataframe\">\n",
              "  <thead>\n",
              "    <tr style=\"text-align: right;\">\n",
              "      <th></th>\n",
              "      <th>longitude</th>\n",
              "      <th>latitude</th>\n",
              "      <th>housing_median_age</th>\n",
              "      <th>total_rooms</th>\n",
              "      <th>total_bedrooms</th>\n",
              "      <th>population</th>\n",
              "      <th>households</th>\n",
              "      <th>median_income</th>\n",
              "      <th>ocean_proximity</th>\n",
              "    </tr>\n",
              "  </thead>\n",
              "  <tbody>\n",
              "    <tr>\n",
              "      <th>0</th>\n",
              "      <td>-121.37</td>\n",
              "      <td>37.06</td>\n",
              "      <td>25.0</td>\n",
              "      <td>474.0</td>\n",
              "      <td>92.0</td>\n",
              "      <td>300.0</td>\n",
              "      <td>104.0</td>\n",
              "      <td>3.8062</td>\n",
              "      <td>INLAND</td>\n",
              "    </tr>\n",
              "    <tr>\n",
              "      <th>1</th>\n",
              "      <td>-118.39</td>\n",
              "      <td>34.14</td>\n",
              "      <td>19.0</td>\n",
              "      <td>5076.0</td>\n",
              "      <td>1034.0</td>\n",
              "      <td>2021.0</td>\n",
              "      <td>960.0</td>\n",
              "      <td>5.5683</td>\n",
              "      <td>&lt;1H OCEAN</td>\n",
              "    </tr>\n",
              "    <tr>\n",
              "      <th>2</th>\n",
              "      <td>-122.07</td>\n",
              "      <td>37.41</td>\n",
              "      <td>26.0</td>\n",
              "      <td>1184.0</td>\n",
              "      <td>225.0</td>\n",
              "      <td>815.0</td>\n",
              "      <td>218.0</td>\n",
              "      <td>5.7657</td>\n",
              "      <td>NEAR BAY</td>\n",
              "    </tr>\n",
              "    <tr>\n",
              "      <th>3</th>\n",
              "      <td>-121.92</td>\n",
              "      <td>36.57</td>\n",
              "      <td>42.0</td>\n",
              "      <td>3944.0</td>\n",
              "      <td>738.0</td>\n",
              "      <td>1374.0</td>\n",
              "      <td>598.0</td>\n",
              "      <td>4.1740</td>\n",
              "      <td>NEAR OCEAN</td>\n",
              "    </tr>\n",
              "    <tr>\n",
              "      <th>4</th>\n",
              "      <td>-118.36</td>\n",
              "      <td>33.82</td>\n",
              "      <td>36.0</td>\n",
              "      <td>1083.0</td>\n",
              "      <td>187.0</td>\n",
              "      <td>522.0</td>\n",
              "      <td>187.0</td>\n",
              "      <td>5.7765</td>\n",
              "      <td>&lt;1H OCEAN</td>\n",
              "    </tr>\n",
              "  </tbody>\n",
              "</table>\n",
              "</div>"
            ],
            "text/plain": [
              "   longitude  latitude  ...  median_income  ocean_proximity\n",
              "0    -121.37     37.06  ...         3.8062           INLAND\n",
              "1    -118.39     34.14  ...         5.5683        <1H OCEAN\n",
              "2    -122.07     37.41  ...         5.7657         NEAR BAY\n",
              "3    -121.92     36.57  ...         4.1740       NEAR OCEAN\n",
              "4    -118.36     33.82  ...         5.7765        <1H OCEAN\n",
              "\n",
              "[5 rows x 9 columns]"
            ]
          },
          "metadata": {},
          "execution_count": 51
        }
      ]
    },
    {
      "cell_type": "code",
      "metadata": {
        "id": "earlier-brush"
      },
      "source": [
        "from sklearn.impute import SimpleImputer\n",
        "from sklearn.preprocessing import RobustScaler\n",
        "from sklearn.preprocessing import OneHotEncoder\n",
        "\n",
        "from sklearn.pipeline import Pipeline\n",
        "from sklearn.compose import ColumnTransformer\n",
        "\n",
        "num_pipeline = Pipeline([\n",
        "    ('imputer', SimpleImputer(strategy='median')),\n",
        "    ('feat_engineering', HousingFeatEngineering()),\n",
        "    ('robust_scaler', RobustScaler())\n",
        "])\n",
        "\n",
        "cat_pipeline = Pipeline([\n",
        "    ('one-hot-encoding', OneHotEncoder(handle_unknown='ignore'))\n",
        "])\n",
        "\n",
        "\n",
        "# (name, transformer, columns)\n",
        "preprocessed_pipeline = ColumnTransformer([\n",
        "    ('numerical', num_pipeline, num_attributes),\n",
        "    ('categorical', cat_pipeline, cat_attributes)\n",
        "])"
      ],
      "id": "earlier-brush",
      "execution_count": 52,
      "outputs": []
    },
    {
      "cell_type": "markdown",
      "metadata": {
        "id": "sound-immune"
      },
      "source": [
        "<table align=\"left\" class=\"dashed-box\">\n",
        "<tr>\n",
        "    <td>⚠️</td>\n",
        "    <td><b>BE CAREFUL</b>.</td>\n",
        "</tr>\n",
        "<tr>\n",
        "    <td></td>\n",
        "    <td>When performing the pipeline <i>\"numerical\"</i>, <code>ColumnTransformer</code> first <i>selects/filters</i> the columns passed by the list <code>num_attributes</code>. We then have a <i>new dataframe</i> with <b>new indices</b> that will be processed.</td>\n",
        "</tr>\n",
        "<tr>\n",
        "    <td></td>\n",
        "    <td>When generating new features, our custom transformer <code>HousingFeatEngineering()</code> assumes a given values for the indices of <code>total_rooms</code>, <code>total_bedrooms</code>, etc.</td>\n",
        "</tr>\n",
        "<tr>\n",
        "    <td></td>\n",
        "    <td>These considered indices <b>MUST MATCH EXACTLY</b> with the <i>corresponding columns</i> of the numpy array or dataframe passed as input. For our case, this matching is true.</td>\n",
        "</tr>\n",
        "<tr>\n",
        "    <td></td>\n",
        "    <td>But, <b>BE CAREFUL!!!</b></td>\n",
        "</tr>\n",
        "</table><br/><br/>"
      ],
      "id": "sound-immune"
    },
    {
      "cell_type": "code",
      "metadata": {
        "id": "funky-wealth"
      },
      "source": [
        "housing_train_pre_npy = preprocessed_pipeline.fit_transform(housing_train)"
      ],
      "id": "funky-wealth",
      "execution_count": 53,
      "outputs": []
    },
    {
      "cell_type": "code",
      "metadata": {
        "colab": {
          "base_uri": "https://localhost:8080/"
        },
        "id": "alleged-express",
        "outputId": "9e246595-6e74-44e9-d3db-316e34839901"
      },
      "source": [
        "housing_train_pre_npy"
      ],
      "id": "alleged-express",
      "execution_count": 54,
      "outputs": [
        {
          "output_type": "execute_result",
          "data": {
            "text/plain": [
              "array([[-0.81337047,  0.752     , -0.11111111, ...,  0.        ,\n",
              "         0.        ,  0.        ],\n",
              "       [ 0.01671309, -0.02666667, -0.44444444, ...,  0.        ,\n",
              "         0.        ,  0.        ],\n",
              "       [-1.00835655,  0.84533333, -0.05555556, ...,  0.        ,\n",
              "         1.        ,  0.        ],\n",
              "       ...,\n",
              "       [-0.94986072,  0.81866667, -0.16666667, ...,  0.        ,\n",
              "         0.        ,  0.        ],\n",
              "       [-0.7994429 ,  0.992     ,  1.05555556, ...,  0.        ,\n",
              "         0.        ,  0.        ],\n",
              "       [ 0.32033426, -0.02666667,  0.66666667, ...,  0.        ,\n",
              "         0.        ,  0.        ]])"
            ]
          },
          "metadata": {},
          "execution_count": 54
        }
      ]
    },
    {
      "cell_type": "code",
      "metadata": {
        "colab": {
          "base_uri": "https://localhost:8080/"
        },
        "id": "material-protein",
        "outputId": "9d8f6d39-d8c0-4fc9-92f6-9f85bd99dd2e"
      },
      "source": [
        "housing_train_pre_npy.shape"
      ],
      "id": "material-protein",
      "execution_count": 55,
      "outputs": [
        {
          "output_type": "execute_result",
          "data": {
            "text/plain": [
              "(14857, 16)"
            ]
          },
          "metadata": {},
          "execution_count": 55
        }
      ]
    },
    {
      "cell_type": "code",
      "metadata": {
        "colab": {
          "base_uri": "https://localhost:8080/"
        },
        "id": "tribal-andrew",
        "outputId": "a70e7a23-015b-4072-b64a-406a4a9ef1bc"
      },
      "source": [
        "preprocessed_pipeline.named_transformers_"
      ],
      "id": "tribal-andrew",
      "execution_count": 56,
      "outputs": [
        {
          "output_type": "execute_result",
          "data": {
            "text/plain": [
              "{'categorical': Pipeline(memory=None,\n",
              "          steps=[('one-hot-encoding',\n",
              "                  OneHotEncoder(categories='auto', drop=None,\n",
              "                                dtype=<class 'numpy.float64'>,\n",
              "                                handle_unknown='ignore', sparse=True))],\n",
              "          verbose=False), 'numerical': Pipeline(memory=None,\n",
              "          steps=[('imputer',\n",
              "                  SimpleImputer(add_indicator=False, copy=True, fill_value=None,\n",
              "                                missing_values=nan, strategy='median',\n",
              "                                verbose=0)),\n",
              "                 ('feat_engineering', HousingFeatEngineering()),\n",
              "                 ('robust_scaler',\n",
              "                  RobustScaler(copy=True, quantile_range=(25.0, 75.0),\n",
              "                               with_centering=True, with_scaling=True))],\n",
              "          verbose=False)}"
            ]
          },
          "metadata": {},
          "execution_count": 56
        }
      ]
    },
    {
      "cell_type": "code",
      "metadata": {
        "colab": {
          "base_uri": "https://localhost:8080/"
        },
        "id": "commercial-tragedy",
        "outputId": "bc31ca46-1279-4378-aaae-e6b02df24a70"
      },
      "source": [
        "preprocessed_pipeline.transformers_"
      ],
      "id": "commercial-tragedy",
      "execution_count": 57,
      "outputs": [
        {
          "output_type": "execute_result",
          "data": {
            "text/plain": [
              "[('numerical', Pipeline(memory=None,\n",
              "           steps=[('imputer',\n",
              "                   SimpleImputer(add_indicator=False, copy=True, fill_value=None,\n",
              "                                 missing_values=nan, strategy='median',\n",
              "                                 verbose=0)),\n",
              "                  ('feat_engineering', HousingFeatEngineering()),\n",
              "                  ('robust_scaler',\n",
              "                   RobustScaler(copy=True, quantile_range=(25.0, 75.0),\n",
              "                                with_centering=True, with_scaling=True))],\n",
              "           verbose=False), Index(['longitude', 'latitude', 'housing_median_age', 'total_rooms',\n",
              "         'total_bedrooms', 'population', 'households', 'median_income'],\n",
              "        dtype='object')),\n",
              " ('categorical', Pipeline(memory=None,\n",
              "           steps=[('one-hot-encoding',\n",
              "                   OneHotEncoder(categories='auto', drop=None,\n",
              "                                 dtype=<class 'numpy.float64'>,\n",
              "                                 handle_unknown='ignore', sparse=True))],\n",
              "           verbose=False), ['ocean_proximity'])]"
            ]
          },
          "metadata": {},
          "execution_count": 57
        }
      ]
    },
    {
      "cell_type": "markdown",
      "metadata": {
        "id": "continued-element"
      },
      "source": [
        "### 5.10. Saving the Preprocessed Pipeline"
      ],
      "id": "continued-element"
    },
    {
      "cell_type": "code",
      "metadata": {
        "colab": {
          "base_uri": "https://localhost:8080/"
        },
        "id": "rotary-teaching",
        "outputId": "212d3083-ab92-42af-98a1-1146b813b9db"
      },
      "source": [
        "import joblib\n",
        "\n",
        "!mkdir models\n",
        "joblib.dump(preprocessed_pipeline, '/content/models/preprocessed_pipeline.pkl')"
      ],
      "id": "rotary-teaching",
      "execution_count": 58,
      "outputs": [
        {
          "output_type": "execute_result",
          "data": {
            "text/plain": [
              "['/content/models/preprocessed_pipeline.pkl']"
            ]
          },
          "metadata": {},
          "execution_count": 58
        }
      ]
    },
    {
      "cell_type": "code",
      "metadata": {
        "id": "planned-posting"
      },
      "source": [
        "# to load the pipeline\n",
        "loaded_preprocessed_pipeline = joblib.load('/content/models/preprocessed_pipeline.pkl')"
      ],
      "id": "planned-posting",
      "execution_count": 59,
      "outputs": []
    },
    {
      "cell_type": "code",
      "metadata": {
        "colab": {
          "base_uri": "https://localhost:8080/"
        },
        "id": "wound-funds",
        "outputId": "2b4d0c9b-148b-4e2d-d4eb-a7be2d926aa5"
      },
      "source": [
        "housing_train_pre_npy_2 = loaded_preprocessed_pipeline.transform(housing_train)\n",
        "housing_train_pre_npy_2"
      ],
      "id": "wound-funds",
      "execution_count": 60,
      "outputs": [
        {
          "output_type": "execute_result",
          "data": {
            "text/plain": [
              "array([[-0.81337047,  0.752     , -0.11111111, ...,  0.        ,\n",
              "         0.        ,  0.        ],\n",
              "       [ 0.01671309, -0.02666667, -0.44444444, ...,  0.        ,\n",
              "         0.        ,  0.        ],\n",
              "       [-1.00835655,  0.84533333, -0.05555556, ...,  0.        ,\n",
              "         1.        ,  0.        ],\n",
              "       ...,\n",
              "       [-0.94986072,  0.81866667, -0.16666667, ...,  0.        ,\n",
              "         0.        ,  0.        ],\n",
              "       [-0.7994429 ,  0.992     ,  1.05555556, ...,  0.        ,\n",
              "         0.        ,  0.        ],\n",
              "       [ 0.32033426, -0.02666667,  0.66666667, ...,  0.        ,\n",
              "         0.        ,  0.        ]])"
            ]
          },
          "metadata": {},
          "execution_count": 60
        }
      ]
    },
    {
      "cell_type": "code",
      "metadata": {
        "colab": {
          "base_uri": "https://localhost:8080/"
        },
        "id": "guided-elephant",
        "outputId": "341874f6-db83-4482-96ce-2100895a2177"
      },
      "source": [
        "np.all(housing_train_pre_npy == housing_train_pre_npy_2)"
      ],
      "id": "guided-elephant",
      "execution_count": 61,
      "outputs": [
        {
          "output_type": "execute_result",
          "data": {
            "text/plain": [
              "True"
            ]
          },
          "metadata": {},
          "execution_count": 61
        }
      ]
    },
    {
      "cell_type": "markdown",
      "metadata": {
        "id": "orange-integral"
      },
      "source": [
        "### 5.11. Saving the Preprocessed Training Set"
      ],
      "id": "orange-integral"
    },
    {
      "cell_type": "code",
      "metadata": {
        "id": "recorded-stylus"
      },
      "source": [
        "!mkdir datasets\n",
        "np.save('./datasets/housing_train_pre_numpy_sprint-4.npy', housing_train_pre_npy)"
      ],
      "id": "recorded-stylus",
      "execution_count": 62,
      "outputs": []
    },
    {
      "cell_type": "markdown",
      "metadata": {
        "id": "brave-client"
      },
      "source": [
        "## 🏋️‍♀️ 6. Train ML Algorithms"
      ],
      "id": "brave-client"
    },
    {
      "cell_type": "markdown",
      "metadata": {
        "id": "hawaiian-right"
      },
      "source": [
        "### 6.1. Getting the independent (features) and dependent variables (outcome)"
      ],
      "id": "hawaiian-right"
    },
    {
      "cell_type": "code",
      "metadata": {
        "id": "stretch-damage"
      },
      "source": [
        "X_train = housing_train_pre_npy\n",
        "# we already have y_train"
      ],
      "id": "stretch-damage",
      "execution_count": 63,
      "outputs": []
    },
    {
      "cell_type": "code",
      "metadata": {
        "colab": {
          "base_uri": "https://localhost:8080/"
        },
        "id": "unique-inspiration",
        "outputId": "bc66c53b-e565-4ef7-f772-3cdcc3e26f6f"
      },
      "source": [
        "X_train.shape"
      ],
      "id": "unique-inspiration",
      "execution_count": 64,
      "outputs": [
        {
          "output_type": "execute_result",
          "data": {
            "text/plain": [
              "(14857, 16)"
            ]
          },
          "metadata": {},
          "execution_count": 64
        }
      ]
    },
    {
      "cell_type": "code",
      "metadata": {
        "colab": {
          "base_uri": "https://localhost:8080/"
        },
        "id": "latest-dynamics",
        "outputId": "f6f89355-5e37-48e6-a6b4-8f28e7e49a2b"
      },
      "source": [
        "y_train.shape"
      ],
      "id": "latest-dynamics",
      "execution_count": 65,
      "outputs": [
        {
          "output_type": "execute_result",
          "data": {
            "text/plain": [
              "(14857,)"
            ]
          },
          "metadata": {},
          "execution_count": 65
        }
      ]
    },
    {
      "cell_type": "markdown",
      "metadata": {
        "id": "concrete-gilbert"
      },
      "source": [
        "### 6.2. Training the Models"
      ],
      "id": "concrete-gilbert"
    },
    {
      "cell_type": "markdown",
      "metadata": {
        "id": "resident-penguin"
      },
      "source": [
        "<h3 style=\"color: #ff5757 !important\"><b>Cross-validation</b></h3>"
      ],
      "id": "resident-penguin"
    },
    {
      "cell_type": "markdown",
      "metadata": {
        "id": "fundamental-midwest"
      },
      "source": [
        "#### **→ Linear Regression**"
      ],
      "id": "fundamental-midwest"
    },
    {
      "cell_type": "code",
      "metadata": {
        "id": "printable-angola"
      },
      "source": [
        "from sklearn.model_selection import cross_val_score\n",
        "from sklearn.linear_model import LinearRegression\n",
        "\n",
        "lin_reg = LinearRegression()  # default parameters\n",
        "lin_scores = cross_val_score(lin_reg, X_train, y_train, scoring=\"neg_mean_squared_error\", cv=10)\n",
        "\n",
        "lin_rmse_scores = np.sqrt(-lin_scores)"
      ],
      "id": "printable-angola",
      "execution_count": 66,
      "outputs": []
    },
    {
      "cell_type": "code",
      "metadata": {
        "id": "suspended-crystal"
      },
      "source": [
        "# printing function\n",
        "def display_scores(scores):\n",
        "    print(\"Scores:\", scores)\n",
        "    print(\"Mean:\", scores.mean())\n",
        "    print(\"Standard deviation:\", scores.std())"
      ],
      "id": "suspended-crystal",
      "execution_count": 67,
      "outputs": []
    },
    {
      "cell_type": "code",
      "metadata": {
        "colab": {
          "base_uri": "https://localhost:8080/"
        },
        "id": "completed-formation",
        "outputId": "323d2d0e-0791-4079-de19-0ffe8998eb79"
      },
      "source": [
        "display_scores(lin_rmse_scores)"
      ],
      "id": "completed-formation",
      "execution_count": 68,
      "outputs": [
        {
          "output_type": "stream",
          "name": "stdout",
          "text": [
            "Scores: [58883.49218279 55293.5735956  55181.52250607 57775.16025404\n",
            " 60155.15922657 59588.9688012  57781.68607191 59995.21362185\n",
            " 59923.51235138 59132.12479715]\n",
            "Mean: 58371.04134085788\n",
            "Standard deviation: 1757.9144371007449\n"
          ]
        }
      ]
    },
    {
      "cell_type": "markdown",
      "metadata": {
        "id": "minute-egypt"
      },
      "source": [
        "<br/>\n",
        "\n",
        "We have exactly the results of Sprint #3.\n",
        "- **Linear Regression:** \\\\$58,371.04 ± \\$1,757.91"
      ],
      "id": "minute-egypt"
    },
    {
      "cell_type": "markdown",
      "metadata": {
        "id": "advance-webmaster"
      },
      "source": [
        "#### Training the final model\n",
        "After cross-validation, we can train our models by using the **entire** _training set_."
      ],
      "id": "advance-webmaster"
    },
    {
      "cell_type": "code",
      "metadata": {
        "colab": {
          "base_uri": "https://localhost:8080/"
        },
        "id": "secondary-commonwealth",
        "outputId": "b12278e8-a696-40fa-ec99-d367eee53d88"
      },
      "source": [
        "lin_reg = LinearRegression()\n",
        "lin_reg.fit(X_train, y_train)"
      ],
      "id": "secondary-commonwealth",
      "execution_count": 69,
      "outputs": [
        {
          "output_type": "execute_result",
          "data": {
            "text/plain": [
              "LinearRegression(copy_X=True, fit_intercept=True, n_jobs=None, normalize=False)"
            ]
          },
          "metadata": {},
          "execution_count": 69
        }
      ]
    },
    {
      "cell_type": "code",
      "metadata": {
        "colab": {
          "base_uri": "https://localhost:8080/"
        },
        "id": "featured-direction",
        "outputId": "2407da42-e4fd-4efe-c349-136990ecd6b6"
      },
      "source": [
        "### saving the model\n",
        "import joblib\n",
        "joblib.dump(lin_reg, './models/linear_regression_sprint-04.pkl')"
      ],
      "id": "featured-direction",
      "execution_count": 70,
      "outputs": [
        {
          "output_type": "execute_result",
          "data": {
            "text/plain": [
              "['./models/linear_regression_sprint-04.pkl']"
            ]
          },
          "metadata": {},
          "execution_count": 70
        }
      ]
    },
    {
      "cell_type": "markdown",
      "metadata": {
        "id": "guilty-madison"
      },
      "source": [
        "## 🔬🧪 7. Evaluation on the Test Set"
      ],
      "id": "guilty-madison"
    },
    {
      "cell_type": "markdown",
      "metadata": {
        "id": "normal-departure"
      },
      "source": [
        "<table align=\"left\" class=\"dashed-box\">\n",
        "<tr>\n",
        "    <td>⚠️</td>\n",
        "    <td>We should to evaluate <b>many other</b> <i>quick-and-dirty models</i> before any evaluation on the test set.</td>\n",
        "</tr>\n",
        "<tr>\n",
        "    <td></td>\n",
        "    <td>The strategy is to select the <i>most promising models</i> and <i>fine-tune them</i> (e.g., perform grid-search to find the best hyperparameters and/or try ensemble methods. The selected models could then be evaluated in the test set.</td>\n",
        "</tr>\n",
        "<tr>\n",
        "    <td></td>\n",
        "    <td>We opted for evaluating our single linear regression model just to complete the end-to-end pipeline in these early sprints. We will perform the above strategy in the next sprints.</td>\n",
        "</tr>\n",
        "</table><br/><br/>"
      ],
      "id": "normal-departure"
    },
    {
      "cell_type": "markdown",
      "metadata": {
        "id": "accomplished-suicide"
      },
      "source": [
        "### 7.1. Prepare the Data"
      ],
      "id": "accomplished-suicide"
    },
    {
      "cell_type": "code",
      "metadata": {
        "colab": {
          "base_uri": "https://localhost:8080/",
          "height": 423
        },
        "id": "dressed-equilibrium",
        "outputId": "c1a8c98f-6f15-43a6-a34b-4473802da370"
      },
      "source": [
        "### Load the testing set\n",
        "raw_url = 'https://raw.githubusercontent.com/edmgjr/IFSP-CMP-D2APR-2021.2/main/projects/portfolio/project-01_regression_California-housing-prices/datasets/housing_test_sprint-2.csv'\n",
        "housing_test = pd.read_csv(raw_url)\n",
        "housing_test"
      ],
      "id": "dressed-equilibrium",
      "execution_count": 74,
      "outputs": [
        {
          "output_type": "execute_result",
          "data": {
            "text/html": [
              "<div>\n",
              "<style scoped>\n",
              "    .dataframe tbody tr th:only-of-type {\n",
              "        vertical-align: middle;\n",
              "    }\n",
              "\n",
              "    .dataframe tbody tr th {\n",
              "        vertical-align: top;\n",
              "    }\n",
              "\n",
              "    .dataframe thead th {\n",
              "        text-align: right;\n",
              "    }\n",
              "</style>\n",
              "<table border=\"1\" class=\"dataframe\">\n",
              "  <thead>\n",
              "    <tr style=\"text-align: right;\">\n",
              "      <th></th>\n",
              "      <th>longitude</th>\n",
              "      <th>latitude</th>\n",
              "      <th>housing_median_age</th>\n",
              "      <th>total_rooms</th>\n",
              "      <th>total_bedrooms</th>\n",
              "      <th>population</th>\n",
              "      <th>households</th>\n",
              "      <th>median_income</th>\n",
              "      <th>median_house_value</th>\n",
              "      <th>ocean_proximity</th>\n",
              "    </tr>\n",
              "  </thead>\n",
              "  <tbody>\n",
              "    <tr>\n",
              "      <th>0</th>\n",
              "      <td>-118.25</td>\n",
              "      <td>34.00</td>\n",
              "      <td>41.0</td>\n",
              "      <td>1768.0</td>\n",
              "      <td>475.0</td>\n",
              "      <td>1721.0</td>\n",
              "      <td>474.0</td>\n",
              "      <td>1.3030</td>\n",
              "      <td>90400.0</td>\n",
              "      <td>&lt;1H OCEAN</td>\n",
              "    </tr>\n",
              "    <tr>\n",
              "      <th>1</th>\n",
              "      <td>-118.20</td>\n",
              "      <td>33.99</td>\n",
              "      <td>35.0</td>\n",
              "      <td>1705.0</td>\n",
              "      <td>523.0</td>\n",
              "      <td>2252.0</td>\n",
              "      <td>508.0</td>\n",
              "      <td>2.3421</td>\n",
              "      <td>154200.0</td>\n",
              "      <td>&lt;1H OCEAN</td>\n",
              "    </tr>\n",
              "    <tr>\n",
              "      <th>2</th>\n",
              "      <td>-121.39</td>\n",
              "      <td>39.61</td>\n",
              "      <td>22.0</td>\n",
              "      <td>2828.0</td>\n",
              "      <td>610.0</td>\n",
              "      <td>986.0</td>\n",
              "      <td>391.0</td>\n",
              "      <td>2.8871</td>\n",
              "      <td>94700.0</td>\n",
              "      <td>INLAND</td>\n",
              "    </tr>\n",
              "    <tr>\n",
              "      <th>3</th>\n",
              "      <td>-118.46</td>\n",
              "      <td>34.00</td>\n",
              "      <td>39.0</td>\n",
              "      <td>4098.0</td>\n",
              "      <td>1100.0</td>\n",
              "      <td>2054.0</td>\n",
              "      <td>1053.0</td>\n",
              "      <td>2.9180</td>\n",
              "      <td>345600.0</td>\n",
              "      <td>&lt;1H OCEAN</td>\n",
              "    </tr>\n",
              "    <tr>\n",
              "      <th>4</th>\n",
              "      <td>-121.03</td>\n",
              "      <td>39.14</td>\n",
              "      <td>10.0</td>\n",
              "      <td>3138.0</td>\n",
              "      <td>524.0</td>\n",
              "      <td>1275.0</td>\n",
              "      <td>511.0</td>\n",
              "      <td>4.0775</td>\n",
              "      <td>164500.0</td>\n",
              "      <td>INLAND</td>\n",
              "    </tr>\n",
              "    <tr>\n",
              "      <th>...</th>\n",
              "      <td>...</td>\n",
              "      <td>...</td>\n",
              "      <td>...</td>\n",
              "      <td>...</td>\n",
              "      <td>...</td>\n",
              "      <td>...</td>\n",
              "      <td>...</td>\n",
              "      <td>...</td>\n",
              "      <td>...</td>\n",
              "      <td>...</td>\n",
              "    </tr>\n",
              "    <tr>\n",
              "      <th>3710</th>\n",
              "      <td>-122.05</td>\n",
              "      <td>37.36</td>\n",
              "      <td>34.0</td>\n",
              "      <td>2400.0</td>\n",
              "      <td>419.0</td>\n",
              "      <td>1017.0</td>\n",
              "      <td>384.0</td>\n",
              "      <td>4.1369</td>\n",
              "      <td>316900.0</td>\n",
              "      <td>&lt;1H OCEAN</td>\n",
              "    </tr>\n",
              "    <tr>\n",
              "      <th>3711</th>\n",
              "      <td>-118.16</td>\n",
              "      <td>34.02</td>\n",
              "      <td>42.0</td>\n",
              "      <td>814.0</td>\n",
              "      <td>216.0</td>\n",
              "      <td>773.0</td>\n",
              "      <td>208.0</td>\n",
              "      <td>2.5313</td>\n",
              "      <td>156900.0</td>\n",
              "      <td>&lt;1H OCEAN</td>\n",
              "    </tr>\n",
              "    <tr>\n",
              "      <th>3712</th>\n",
              "      <td>-120.65</td>\n",
              "      <td>35.27</td>\n",
              "      <td>15.0</td>\n",
              "      <td>2365.0</td>\n",
              "      <td>538.0</td>\n",
              "      <td>1446.0</td>\n",
              "      <td>490.0</td>\n",
              "      <td>2.5129</td>\n",
              "      <td>225900.0</td>\n",
              "      <td>NEAR OCEAN</td>\n",
              "    </tr>\n",
              "    <tr>\n",
              "      <th>3713</th>\n",
              "      <td>-118.32</td>\n",
              "      <td>33.94</td>\n",
              "      <td>37.0</td>\n",
              "      <td>2740.0</td>\n",
              "      <td>504.0</td>\n",
              "      <td>1468.0</td>\n",
              "      <td>479.0</td>\n",
              "      <td>4.5368</td>\n",
              "      <td>168800.0</td>\n",
              "      <td>&lt;1H OCEAN</td>\n",
              "    </tr>\n",
              "    <tr>\n",
              "      <th>3714</th>\n",
              "      <td>-118.53</td>\n",
              "      <td>34.45</td>\n",
              "      <td>10.0</td>\n",
              "      <td>5509.0</td>\n",
              "      <td>969.0</td>\n",
              "      <td>3002.0</td>\n",
              "      <td>959.0</td>\n",
              "      <td>5.5981</td>\n",
              "      <td>220100.0</td>\n",
              "      <td>&lt;1H OCEAN</td>\n",
              "    </tr>\n",
              "  </tbody>\n",
              "</table>\n",
              "<p>3715 rows × 10 columns</p>\n",
              "</div>"
            ],
            "text/plain": [
              "      longitude  latitude  ...  median_house_value  ocean_proximity\n",
              "0       -118.25     34.00  ...             90400.0        <1H OCEAN\n",
              "1       -118.20     33.99  ...            154200.0        <1H OCEAN\n",
              "2       -121.39     39.61  ...             94700.0           INLAND\n",
              "3       -118.46     34.00  ...            345600.0        <1H OCEAN\n",
              "4       -121.03     39.14  ...            164500.0           INLAND\n",
              "...         ...       ...  ...                 ...              ...\n",
              "3710    -122.05     37.36  ...            316900.0        <1H OCEAN\n",
              "3711    -118.16     34.02  ...            156900.0        <1H OCEAN\n",
              "3712    -120.65     35.27  ...            225900.0       NEAR OCEAN\n",
              "3713    -118.32     33.94  ...            168800.0        <1H OCEAN\n",
              "3714    -118.53     34.45  ...            220100.0        <1H OCEAN\n",
              "\n",
              "[3715 rows x 10 columns]"
            ]
          },
          "metadata": {},
          "execution_count": 74
        }
      ]
    },
    {
      "cell_type": "code",
      "metadata": {
        "colab": {
          "base_uri": "https://localhost:8080/"
        },
        "id": "round-connection",
        "outputId": "03814212-328b-4646-c347-f865a0616359"
      },
      "source": [
        "### Separate the _features_ and the _target outcome_\n",
        "y_test = housing_test['median_house_value'].values\n",
        "y_test"
      ],
      "id": "round-connection",
      "execution_count": 75,
      "outputs": [
        {
          "output_type": "execute_result",
          "data": {
            "text/plain": [
              "array([ 90400., 154200.,  94700., ..., 225900., 168800., 220100.])"
            ]
          },
          "metadata": {},
          "execution_count": 75
        }
      ]
    },
    {
      "cell_type": "code",
      "metadata": {
        "colab": {
          "base_uri": "https://localhost:8080/",
          "height": 423
        },
        "id": "mature-homeless",
        "outputId": "22d24916-07bd-4bd7-b713-e2c31f705b34"
      },
      "source": [
        "housing_test = housing_test.drop(columns=['median_house_value'])\n",
        "housing_test"
      ],
      "id": "mature-homeless",
      "execution_count": 76,
      "outputs": [
        {
          "output_type": "execute_result",
          "data": {
            "text/html": [
              "<div>\n",
              "<style scoped>\n",
              "    .dataframe tbody tr th:only-of-type {\n",
              "        vertical-align: middle;\n",
              "    }\n",
              "\n",
              "    .dataframe tbody tr th {\n",
              "        vertical-align: top;\n",
              "    }\n",
              "\n",
              "    .dataframe thead th {\n",
              "        text-align: right;\n",
              "    }\n",
              "</style>\n",
              "<table border=\"1\" class=\"dataframe\">\n",
              "  <thead>\n",
              "    <tr style=\"text-align: right;\">\n",
              "      <th></th>\n",
              "      <th>longitude</th>\n",
              "      <th>latitude</th>\n",
              "      <th>housing_median_age</th>\n",
              "      <th>total_rooms</th>\n",
              "      <th>total_bedrooms</th>\n",
              "      <th>population</th>\n",
              "      <th>households</th>\n",
              "      <th>median_income</th>\n",
              "      <th>ocean_proximity</th>\n",
              "    </tr>\n",
              "  </thead>\n",
              "  <tbody>\n",
              "    <tr>\n",
              "      <th>0</th>\n",
              "      <td>-118.25</td>\n",
              "      <td>34.00</td>\n",
              "      <td>41.0</td>\n",
              "      <td>1768.0</td>\n",
              "      <td>475.0</td>\n",
              "      <td>1721.0</td>\n",
              "      <td>474.0</td>\n",
              "      <td>1.3030</td>\n",
              "      <td>&lt;1H OCEAN</td>\n",
              "    </tr>\n",
              "    <tr>\n",
              "      <th>1</th>\n",
              "      <td>-118.20</td>\n",
              "      <td>33.99</td>\n",
              "      <td>35.0</td>\n",
              "      <td>1705.0</td>\n",
              "      <td>523.0</td>\n",
              "      <td>2252.0</td>\n",
              "      <td>508.0</td>\n",
              "      <td>2.3421</td>\n",
              "      <td>&lt;1H OCEAN</td>\n",
              "    </tr>\n",
              "    <tr>\n",
              "      <th>2</th>\n",
              "      <td>-121.39</td>\n",
              "      <td>39.61</td>\n",
              "      <td>22.0</td>\n",
              "      <td>2828.0</td>\n",
              "      <td>610.0</td>\n",
              "      <td>986.0</td>\n",
              "      <td>391.0</td>\n",
              "      <td>2.8871</td>\n",
              "      <td>INLAND</td>\n",
              "    </tr>\n",
              "    <tr>\n",
              "      <th>3</th>\n",
              "      <td>-118.46</td>\n",
              "      <td>34.00</td>\n",
              "      <td>39.0</td>\n",
              "      <td>4098.0</td>\n",
              "      <td>1100.0</td>\n",
              "      <td>2054.0</td>\n",
              "      <td>1053.0</td>\n",
              "      <td>2.9180</td>\n",
              "      <td>&lt;1H OCEAN</td>\n",
              "    </tr>\n",
              "    <tr>\n",
              "      <th>4</th>\n",
              "      <td>-121.03</td>\n",
              "      <td>39.14</td>\n",
              "      <td>10.0</td>\n",
              "      <td>3138.0</td>\n",
              "      <td>524.0</td>\n",
              "      <td>1275.0</td>\n",
              "      <td>511.0</td>\n",
              "      <td>4.0775</td>\n",
              "      <td>INLAND</td>\n",
              "    </tr>\n",
              "    <tr>\n",
              "      <th>...</th>\n",
              "      <td>...</td>\n",
              "      <td>...</td>\n",
              "      <td>...</td>\n",
              "      <td>...</td>\n",
              "      <td>...</td>\n",
              "      <td>...</td>\n",
              "      <td>...</td>\n",
              "      <td>...</td>\n",
              "      <td>...</td>\n",
              "    </tr>\n",
              "    <tr>\n",
              "      <th>3710</th>\n",
              "      <td>-122.05</td>\n",
              "      <td>37.36</td>\n",
              "      <td>34.0</td>\n",
              "      <td>2400.0</td>\n",
              "      <td>419.0</td>\n",
              "      <td>1017.0</td>\n",
              "      <td>384.0</td>\n",
              "      <td>4.1369</td>\n",
              "      <td>&lt;1H OCEAN</td>\n",
              "    </tr>\n",
              "    <tr>\n",
              "      <th>3711</th>\n",
              "      <td>-118.16</td>\n",
              "      <td>34.02</td>\n",
              "      <td>42.0</td>\n",
              "      <td>814.0</td>\n",
              "      <td>216.0</td>\n",
              "      <td>773.0</td>\n",
              "      <td>208.0</td>\n",
              "      <td>2.5313</td>\n",
              "      <td>&lt;1H OCEAN</td>\n",
              "    </tr>\n",
              "    <tr>\n",
              "      <th>3712</th>\n",
              "      <td>-120.65</td>\n",
              "      <td>35.27</td>\n",
              "      <td>15.0</td>\n",
              "      <td>2365.0</td>\n",
              "      <td>538.0</td>\n",
              "      <td>1446.0</td>\n",
              "      <td>490.0</td>\n",
              "      <td>2.5129</td>\n",
              "      <td>NEAR OCEAN</td>\n",
              "    </tr>\n",
              "    <tr>\n",
              "      <th>3713</th>\n",
              "      <td>-118.32</td>\n",
              "      <td>33.94</td>\n",
              "      <td>37.0</td>\n",
              "      <td>2740.0</td>\n",
              "      <td>504.0</td>\n",
              "      <td>1468.0</td>\n",
              "      <td>479.0</td>\n",
              "      <td>4.5368</td>\n",
              "      <td>&lt;1H OCEAN</td>\n",
              "    </tr>\n",
              "    <tr>\n",
              "      <th>3714</th>\n",
              "      <td>-118.53</td>\n",
              "      <td>34.45</td>\n",
              "      <td>10.0</td>\n",
              "      <td>5509.0</td>\n",
              "      <td>969.0</td>\n",
              "      <td>3002.0</td>\n",
              "      <td>959.0</td>\n",
              "      <td>5.5981</td>\n",
              "      <td>&lt;1H OCEAN</td>\n",
              "    </tr>\n",
              "  </tbody>\n",
              "</table>\n",
              "<p>3715 rows × 9 columns</p>\n",
              "</div>"
            ],
            "text/plain": [
              "      longitude  latitude  ...  median_income  ocean_proximity\n",
              "0       -118.25     34.00  ...         1.3030        <1H OCEAN\n",
              "1       -118.20     33.99  ...         2.3421        <1H OCEAN\n",
              "2       -121.39     39.61  ...         2.8871           INLAND\n",
              "3       -118.46     34.00  ...         2.9180        <1H OCEAN\n",
              "4       -121.03     39.14  ...         4.0775           INLAND\n",
              "...         ...       ...  ...            ...              ...\n",
              "3710    -122.05     37.36  ...         4.1369        <1H OCEAN\n",
              "3711    -118.16     34.02  ...         2.5313        <1H OCEAN\n",
              "3712    -120.65     35.27  ...         2.5129       NEAR OCEAN\n",
              "3713    -118.32     33.94  ...         4.5368        <1H OCEAN\n",
              "3714    -118.53     34.45  ...         5.5981        <1H OCEAN\n",
              "\n",
              "[3715 rows x 9 columns]"
            ]
          },
          "metadata": {},
          "execution_count": 76
        }
      ]
    },
    {
      "cell_type": "code",
      "metadata": {
        "id": "liquid-discretion"
      },
      "source": [
        "### Preprocess the Test Set\n",
        "import joblib\n",
        "preprocessed_pipeline = joblib.load('./models/preprocessed_pipeline.pkl')\n",
        "\n",
        "# preprocess the test set\n",
        "X_test = preprocessed_pipeline.transform(housing_test)"
      ],
      "id": "liquid-discretion",
      "execution_count": 77,
      "outputs": []
    },
    {
      "cell_type": "code",
      "metadata": {
        "colab": {
          "base_uri": "https://localhost:8080/"
        },
        "id": "scientific-judgment",
        "outputId": "e9e66bb1-497a-423f-ce04-4ad751caf22d"
      },
      "source": [
        "X_test"
      ],
      "id": "scientific-judgment",
      "execution_count": 78,
      "outputs": [
        {
          "output_type": "execute_result",
          "data": {
            "text/plain": [
              "array([[ 0.05571031, -0.064     ,  0.77777778, ...,  0.        ,\n",
              "         0.        ,  0.        ],\n",
              "       [ 0.06963788, -0.06666667,  0.44444444, ...,  0.        ,\n",
              "         0.        ,  0.        ],\n",
              "       [-0.8189415 ,  1.432     , -0.27777778, ...,  0.        ,\n",
              "         0.        ,  0.        ],\n",
              "       ...,\n",
              "       [-0.61281337,  0.27466667, -0.66666667, ...,  0.        ,\n",
              "         0.        ,  1.        ],\n",
              "       [ 0.0362117 , -0.08      ,  0.55555556, ...,  0.        ,\n",
              "         0.        ,  0.        ],\n",
              "       [-0.02228412,  0.056     , -0.94444444, ...,  0.        ,\n",
              "         0.        ,  0.        ]])"
            ]
          },
          "metadata": {},
          "execution_count": 78
        }
      ]
    },
    {
      "cell_type": "markdown",
      "metadata": {
        "id": "insured-writer"
      },
      "source": [
        "### 7.2. Prediction"
      ],
      "id": "insured-writer"
    },
    {
      "cell_type": "code",
      "metadata": {
        "id": "sacred-procedure"
      },
      "source": [
        "### loading the trained model\n",
        "lin_reg = joblib.load('./models/linear_regression_sprint-04.pkl')"
      ],
      "id": "sacred-procedure",
      "execution_count": 79,
      "outputs": []
    },
    {
      "cell_type": "code",
      "metadata": {
        "id": "actual-outdoors"
      },
      "source": [
        "### evaluation\n",
        "y_test_pred = lin_reg.predict(X_test)"
      ],
      "id": "actual-outdoors",
      "execution_count": 80,
      "outputs": []
    },
    {
      "cell_type": "markdown",
      "metadata": {
        "id": "worst-cooking"
      },
      "source": [
        "### 7.3. Prediction"
      ],
      "id": "worst-cooking"
    },
    {
      "cell_type": "markdown",
      "metadata": {
        "id": "diagnostic-latvia"
      },
      "source": [
        "#### RMSE"
      ],
      "id": "diagnostic-latvia"
    },
    {
      "cell_type": "code",
      "metadata": {
        "colab": {
          "base_uri": "https://localhost:8080/"
        },
        "id": "automotive-feeding",
        "outputId": "e0be08e9-79a1-45a3-94ae-7ef96eab9451"
      },
      "source": [
        "### computing the final score\n",
        "from sklearn.metrics import mean_squared_error\n",
        "\n",
        "lin_rmse_test = mean_squared_error(y_test, y_test_pred, squared=False)\n",
        "print(f'RMSE Lin. Reg. in the Test Set: {lin_rmse_test}')"
      ],
      "id": "automotive-feeding",
      "execution_count": 81,
      "outputs": [
        {
          "output_type": "stream",
          "name": "stdout",
          "text": [
            "RMSE Lin. Reg. in the Test Set: 59439.637136249235\n"
          ]
        }
      ]
    },
    {
      "cell_type": "markdown",
      "metadata": {
        "id": "ruled-shore"
      },
      "source": [
        "By using our linear regression, the **RMSE** for the Test Set -- which has never been seen/used before -- is **\\\\$ 59,439.63**. <br/>\n",
        "This error is _slightly higher_ than the _cross-validation error score_ **\\\\$58,371.04 ± \\$1,757.91**, which tends to be common specially when fine-tunning the hyperparameters.\n",
        "\n",
        "We need now to compare solution with the _current baseline_."
      ],
      "id": "ruled-shore"
    },
    {
      "cell_type": "markdown",
      "metadata": {
        "id": "widespread-likelihood"
      },
      "source": [
        "#### Confidence Interval for Squared Errors\n",
        "In some cases, such a _point estimate_ of the **generalization error** will not be quite enough to convince you to launch: what if it is just _0.1%_ better than the model currently in production? <br/>\n",
        "You might want to have an idea of how precise this estimate is.\n",
        "\n",
        "For this, you can compute a ***95% confidence interval*** for the generalization error."
      ],
      "id": "widespread-likelihood"
    },
    {
      "cell_type": "markdown",
      "metadata": {
        "id": "automotive-messaging"
      },
      "source": [
        "https://github.com/xavecoding/IFSP-CMP-D1AED-2021.1/blob/main/data_distributions/data_distributions.ipynb"
      ],
      "id": "automotive-messaging"
    },
    {
      "cell_type": "markdown",
      "metadata": {
        "id": "forbidden-warrant"
      },
      "source": [
        "<img src='https://github.com/edmgjr/IFSP-CMP-D2APR-2021.2/blob/main/projects/portfolio/project-01_regression_California-housing-prices/imgs/confidence_interval.png?raw=1' />"
      ],
      "id": "forbidden-warrant"
    },
    {
      "cell_type": "code",
      "metadata": {
        "id": "collectible-python"
      },
      "source": [
        "confidence_level = 0.95\n",
        "n = len(y_test)  # the number of testing examples/instances"
      ],
      "id": "collectible-python",
      "execution_count": 82,
      "outputs": []
    },
    {
      "cell_type": "code",
      "metadata": {
        "colab": {
          "base_uri": "https://localhost:8080/"
        },
        "id": "russian-custody",
        "outputId": "3cc462b2-4a44-452d-db61-317bb4083191"
      },
      "source": [
        "squared_errors = (y_test_pred - y_test) ** 2\n",
        "squared_errors"
      ],
      "id": "russian-custody",
      "execution_count": 83,
      "outputs": [
        {
          "output_type": "execute_result",
          "data": {
            "text/plain": [
              "array([7.28223723e+08, 9.24591190e+07, 2.47612106e+06, ...,\n",
              "       1.47810096e+09, 5.52327814e+09, 1.45189841e+09])"
            ]
          },
          "metadata": {},
          "execution_count": 83
        }
      ]
    },
    {
      "cell_type": "code",
      "metadata": {
        "colab": {
          "base_uri": "https://localhost:8080/"
        },
        "id": "controversial-witness",
        "outputId": "435f84f7-e449-4fef-b3b0-d2765dc1f10c"
      },
      "source": [
        "standard_error = squared_errors.std() / np.sqrt(n)\n",
        "standard_error"
      ],
      "id": "controversial-witness",
      "execution_count": 84,
      "outputs": [
        {
          "output_type": "execute_result",
          "data": {
            "text/plain": [
              "186474509.66524738"
            ]
          },
          "metadata": {},
          "execution_count": 84
        }
      ]
    },
    {
      "cell_type": "code",
      "metadata": {
        "colab": {
          "base_uri": "https://localhost:8080/"
        },
        "id": "endangered-denver",
        "outputId": "54b67a7f-5936-4858-dcc8-9bcecd16f108"
      },
      "source": [
        "## alternatively\n",
        "from scipy import stats\n",
        "stats.sem(squared_errors, ddof=0)"
      ],
      "id": "endangered-denver",
      "execution_count": 85,
      "outputs": [
        {
          "output_type": "execute_result",
          "data": {
            "text/plain": [
              "186474509.66524738"
            ]
          },
          "metadata": {},
          "execution_count": 85
        }
      ]
    },
    {
      "cell_type": "code",
      "metadata": {
        "colab": {
          "base_uri": "https://localhost:8080/"
        },
        "id": "married-consolidation",
        "outputId": "57a19d19-4883-4d42-fa69-deab5f1af3c5"
      },
      "source": [
        "from scipy.stats import norm\n",
        "\n",
        "# alpha ==> confidence level\n",
        "# loc ==> sample mean\n",
        "# scale ==> standard error\n",
        "\n",
        "confidence_interval_squared_errors = norm.interval(alpha=confidence_level, loc=squared_errors.mean(), scale=standard_error)\n",
        "confidence_interval_squared_errors"
      ],
      "id": "married-consolidation",
      "execution_count": 86,
      "outputs": [
        {
          "output_type": "execute_result",
          "data": {
            "text/plain": [
              "(3167587139.9103284, 3898553785.8676305)"
            ]
          },
          "metadata": {},
          "execution_count": 86
        }
      ]
    },
    {
      "cell_type": "code",
      "metadata": {
        "colab": {
          "base_uri": "https://localhost:8080/"
        },
        "id": "suspended-liberal",
        "outputId": "cff22bca-05af-4782-efeb-1892c3e59cd7"
      },
      "source": [
        "# using the sqrt to keep the erros in the same units\n",
        "np.sqrt(confidence_interval_squared_errors)"
      ],
      "id": "suspended-liberal",
      "execution_count": 87,
      "outputs": [
        {
          "output_type": "execute_result",
          "data": {
            "text/plain": [
              "array([56281.32141226, 62438.39993039])"
            ]
          },
          "metadata": {},
          "execution_count": 87
        }
      ]
    },
    {
      "cell_type": "markdown",
      "metadata": {
        "id": "apart-waste"
      },
      "source": [
        "Therefore, we have 95% of confidence that the interval \\[\\\\$56,281.32, \\\\$62,438.39]\\] contains the population generalization error mean."
      ],
      "id": "apart-waste"
    },
    {
      "cell_type": "markdown",
      "metadata": {
        "id": "valued-princeton"
      },
      "source": [
        "### 7.4. Comparing our model with the Baseline\n",
        "Let's first recover the description of the **baseline** from Sprint #1."
      ],
      "id": "valued-princeton"
    },
    {
      "cell_type": "markdown",
      "metadata": {
        "id": "dried-canal"
      },
      "source": [
        "#### **Baseline:**\n",
        "Currently, the **district housing prices** are estimated ***manually by experts***: a team gathers up-to-date information about a district and finds out the _median housing price_. \n",
        "This is _costly_ and _time-consuming_, and their **estimates are not great**; they often realize that **their estimates were off by more than 20%**."
      ],
      "id": "dried-canal"
    },
    {
      "cell_type": "markdown",
      "metadata": {
        "id": "balanced-married"
      },
      "source": [
        "Note that this description is a bit vague. We only have an approximation: their estimates were off by more than 20%. <br/>\n",
        "We do not have a concrete **error** for the baseline. <br/>\n",
        "\n",
        "To overcome this, we will consider that the baseline estimates final housing prices between **20% and 25% more** than they actually are. "
      ],
      "id": "balanced-married"
    },
    {
      "cell_type": "code",
      "metadata": {
        "id": "opponent-trinity"
      },
      "source": [
        "np.random.seed(42)"
      ],
      "id": "opponent-trinity",
      "execution_count": 88,
      "outputs": []
    },
    {
      "cell_type": "code",
      "metadata": {
        "id": "curious-layout"
      },
      "source": [
        "y_test_pred_baseline = []\n",
        "\n",
        "for true_housing_price in y_test:\n",
        "    error_rate = 1 + np.random.randint(20, 26) / 100\n",
        "    y_test_pred_baseline.append(true_housing_price * error_rate)"
      ],
      "id": "curious-layout",
      "execution_count": 89,
      "outputs": []
    },
    {
      "cell_type": "markdown",
      "metadata": {
        "id": "single-roads"
      },
      "source": [
        "#### RMSE"
      ],
      "id": "single-roads"
    },
    {
      "cell_type": "code",
      "metadata": {
        "colab": {
          "base_uri": "https://localhost:8080/"
        },
        "id": "descending-structure",
        "outputId": "9a732efc-963b-4fb8-e0e6-5bc843ba7cc8"
      },
      "source": [
        "baseline_rmse_test = mean_squared_error(y_test, y_test_pred_baseline, squared=False)\n",
        "print(f'RMSE Baseline in the Test Set: {baseline_rmse_test}')"
      ],
      "id": "descending-structure",
      "execution_count": 90,
      "outputs": [
        {
          "output_type": "stream",
          "name": "stdout",
          "text": [
            "RMSE Baseline in the Test Set: 47911.00494166016\n"
          ]
        }
      ]
    },
    {
      "cell_type": "markdown",
      "metadata": {
        "id": "recorded-attitude"
      },
      "source": [
        "### Discussion"
      ],
      "id": "recorded-attitude"
    },
    {
      "cell_type": "markdown",
      "metadata": {
        "id": "martial-commissioner"
      },
      "source": [
        "The final performance of our linear regression model (**\\\\$ 59,439.63**) is not better than the experts’ price estimates (**\\\\$47,911.00**), which were often off by about 20%. Therefore, it is not prepared to launch in production. We need to find a better model.\n",
        "\n",
        "We may follow some strategies to find a better model than our current one:\n",
        "- Evaluate many other different models/algorithms (_e.g.,_ Polynomial regression, KNN regression, SVM regression, ...)\n",
        "- Apply some feature selection method;\n",
        "- Perform fine-tunning to find the best hyperparaments\n",
        "- Try ensemble methods\n",
        "\n",
        "After all, a model with a score similar to the baseline might be enough. Even though it is not more accurate (or with a lower error) than the baseline, the fact that the model is automatic will frees up some time for the experts so they can work on more interesting and productive tasks."
      ],
      "id": "martial-commissioner"
    }
  ]
}