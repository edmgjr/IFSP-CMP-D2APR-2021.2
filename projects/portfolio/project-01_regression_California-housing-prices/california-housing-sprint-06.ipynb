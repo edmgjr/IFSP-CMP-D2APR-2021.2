{
  "nbformat": 4,
  "nbformat_minor": 5,
  "metadata": {
    "kernelspec": {
      "display_name": "Python 3",
      "language": "python",
      "name": "python3"
    },
    "language_info": {
      "codemirror_mode": {
        "name": "ipython",
        "version": 3
      },
      "file_extension": ".py",
      "mimetype": "text/x-python",
      "name": "python",
      "nbconvert_exporter": "python",
      "pygments_lexer": "ipython3",
      "version": "3.8.5"
    },
    "colab": {
      "name": "california-housing-sprint-06.ipynb",
      "provenance": [],
      "include_colab_link": true
    }
  },
  "cells": [
    {
      "cell_type": "markdown",
      "metadata": {
        "id": "view-in-github",
        "colab_type": "text"
      },
      "source": [
        "<a href=\"https://colab.research.google.com/github/edmgjr/IFSP-CMP-D2APR-2021.2/blob/main/projects/portfolio/project-01_regression_California-housing-prices/california-housing-sprint-06.ipynb\" target=\"_parent\"><img src=\"https://colab.research.google.com/assets/colab-badge.svg\" alt=\"Open In Colab\"/></a>"
      ]
    },
    {
      "cell_type": "markdown",
      "metadata": {
        "id": "connected-jerusalem"
      },
      "source": [
        "### **D2APR: Aprendizado de Máquina e Reconhecimento de Padrões** (IFSP, Campinas) <br/>\n",
        "**Prof. Dr.**: Samuel Martins (Samuka) <br/>\n",
        "\n",
        "<a rel=\"license\" href=\"http://creativecommons.org/licenses/by-nc-sa/4.0/\"><img alt=\"Creative Commons License\" style=\"border-width:0\" src=\"https://i.creativecommons.org/l/by-nc-sa/4.0/88x31.png\" /></a><br />This work is licensed under a <a rel=\"license\" href=\"http://creativecommons.org/licenses/by-nc-sa/4.0/\">Creative Commons Attribution-NonCommercial-ShareAlike 4.0 International License</a>. <br/><br/>"
      ],
      "id": "connected-jerusalem"
    },
    {
      "cell_type": "markdown",
      "metadata": {
        "id": "removable-tragedy"
      },
      "source": [
        "### Custom CSS style"
      ],
      "id": "removable-tragedy"
    },
    {
      "cell_type": "code",
      "metadata": {
        "tags": [],
        "id": "selective-terrain",
        "outputId": "76862670-ba4f-4af6-ca44-ccc0d446ba45",
        "colab": {
          "base_uri": "https://localhost:8080/",
          "height": 17
        }
      },
      "source": [
        "%%html\n",
        "<style>\n",
        ".dashed-box {\n",
        "    border: 1px dashed black !important;\n",
        "}\n",
        ".dashed-box tr {\n",
        "  background-color: white !important;  \n",
        "}\n",
        ".alt-tab {\n",
        "    background-color: black;\n",
        "    color: #ffc351;\n",
        "    padding: 4px;\n",
        "    font-size: 1em;\n",
        "    font-weight: bold;\n",
        "    font-family: monospace;\n",
        "}\n",
        "// add your CSS styling here\n",
        "</style>"
      ],
      "id": "selective-terrain",
      "execution_count": 1,
      "outputs": [
        {
          "output_type": "display_data",
          "data": {
            "text/html": [
              "<style>\n",
              ".dashed-box {\n",
              "    border: 1px dashed black !important;\n",
              "}\n",
              ".dashed-box tr {\n",
              "  background-color: white !important;  \n",
              "}\n",
              ".alt-tab {\n",
              "    background-color: black;\n",
              "    color: #ffc351;\n",
              "    padding: 4px;\n",
              "    font-size: 1em;\n",
              "    font-weight: bold;\n",
              "    font-family: monospace;\n",
              "}\n",
              "// add your CSS styling here\n",
              "</style>"
            ],
            "text/plain": [
              "<IPython.core.display.HTML object>"
            ]
          },
          "metadata": {}
        }
      ]
    },
    {
      "cell_type": "markdown",
      "metadata": {
        "id": "american-cradle"
      },
      "source": [
        "<span style='font-size: 2.5em'><b>California Housing 🏡</b></span><br/>\n",
        "<span style='font-size: 1.5em'>Predict the median housing price in California districts</span>\n",
        "\n",
        "<span style=\"background-color: #ffc351; padding: 4px; font-size: 1em;\"><b>Sprint 6</b></span>\n",
        "\n",
        "<img src=\"https://github.com/edmgjr/IFSP-CMP-D2APR-2021.2/blob/main/projects/portfolio/project-01_regression_California-housing-prices/imgs/california-flag.png?raw=1\" width=300/>\n",
        "\n",
        "---\n",
        "\n"
      ],
      "id": "american-cradle"
    },
    {
      "cell_type": "markdown",
      "metadata": {
        "id": "united-chart"
      },
      "source": [
        "## Before starting this notebook\n",
        "This jupyter notebook is designed for **experimental and teaching purposes**. <br/>\n",
        "Although it is (relatively) well organized, it aims at solving the _target problem_ by evaluating (and documenting) _different solutions_ for somes steps of the **machine learning pipeline** — see the ***Machine Learning Project Checklist by xavecoding***. <br/>\n",
        "We tried to make this notebook as literally a _notebook_. Thus, it contains notes, drafts, comments, etc.<br/>\n",
        "\n",
        "For teaching purposes, some parts of the notebook may be _overcommented_. Moreover, to simulate a real development scenario, we will divide our solution and experiments into **\"sprints\"** in which each sprint has some goals (e.g., perform _feature selection_, train more ML models, ...). <br/>\n",
        "The **sprint goal** will be stated at the beginning of the notebook.\n",
        "\n",
        "A ***final notebook*** (or any other kind of presentation) that compiles and summarizes all sprints — the target problem, solutions, and findings — should be created later.\n",
        "\n",
        "#### Conventions\n",
        "\n",
        "<ul>\n",
        "    <li>💡 indicates a tip. </li>\n",
        "    <li> ⚠️ indicates a warning message. </li>\n",
        "    <li><span class='alt-tab'>alt tab</span> indicates and an extra content (<i>e.g.</i>, slides) to explain a given concept.</li>\n",
        "</ul>\n",
        "\n",
        "---"
      ],
      "id": "united-chart"
    },
    {
      "cell_type": "markdown",
      "metadata": {
        "id": "relevant-karaoke"
      },
      "source": [
        "## 🎯 Sprint Goals\n",
        "- Fine-tune the _hyperparameters_ of the Polynomial Regression models form Sprint #5.\n",
        "---"
      ],
      "id": "relevant-karaoke"
    },
    {
      "cell_type": "markdown",
      "metadata": {
        "id": "vocational-national"
      },
      "source": [
        "### 0. Imports and default settings for plotting"
      ],
      "id": "vocational-national"
    },
    {
      "cell_type": "code",
      "metadata": {
        "id": "progressive-causing"
      },
      "source": [
        "import numpy as np\n",
        "import pandas as pd\n",
        "import matplotlib.pyplot as plt\n",
        "import seaborn as sns\n",
        "\n",
        "sns.set_theme(style=\"whitegrid\")\n",
        "\n",
        "params = {'legend.fontsize': 'x-large',\n",
        "          'figure.figsize': (15, 5),\n",
        "         'axes.labelsize': 'x-large',\n",
        "         'axes.titlesize':'x-large',\n",
        "         'xtick.labelsize':'x-large',\n",
        "         'ytick.labelsize':'x-large'}\n",
        "plt.rcParams.update(params)"
      ],
      "id": "progressive-causing",
      "execution_count": 2,
      "outputs": []
    },
    {
      "cell_type": "markdown",
      "metadata": {
        "id": "assisted-payday"
      },
      "source": [
        "## 🛠️ 5. Prepare the Data"
      ],
      "id": "assisted-payday"
    },
    {
      "cell_type": "markdown",
      "metadata": {
        "id": "abroad-sixth"
      },
      "source": [
        "We will consider the same two scenarios for **Polynomial Regression** from Sprint #5 in this sprint:\n",
        "1. Use _only_ the `median_income`.\n",
        "2. Use _all features_ except those that generated the aggregate features (`total_rooms`, `total_bedrooms`, `population`, `household`)."
      ],
      "id": "abroad-sixth"
    },
    {
      "cell_type": "markdown",
      "metadata": {
        "id": "settled-illinois"
      },
      "source": [
        "### 5.1. Load the cleaned training set"
      ],
      "id": "settled-illinois"
    },
    {
      "cell_type": "markdown",
      "metadata": {
        "id": "suffering-prevention"
      },
      "source": [
        "Let's consider the training and testing sets already cleaned (sprint #2):\n",
        "- Drop duplicated instances (no found)\n",
        "- Drop instances with `housing_median_age` capped at 52\n",
        "- Drop instances with `median_house_value` capped at 500001.0"
      ],
      "id": "suffering-prevention"
    },
    {
      "cell_type": "code",
      "metadata": {
        "id": "NrQTGGVqhYSN"
      },
      "source": [
        "raw_url = 'https://raw.githubusercontent.com/edmgjr/IFSP-CMP-D2APR-2021.2/main/projects/portfolio/project-01_regression_California-housing-prices/datasets/housing_train_sprint-2.csv'"
      ],
      "id": "NrQTGGVqhYSN",
      "execution_count": 3,
      "outputs": []
    },
    {
      "cell_type": "code",
      "metadata": {
        "id": "hollywood-notice"
      },
      "source": [
        "# load the cleaned training set\n",
        "housing_train = pd.read_csv(raw_url)"
      ],
      "id": "hollywood-notice",
      "execution_count": 4,
      "outputs": []
    },
    {
      "cell_type": "code",
      "metadata": {
        "id": "australian-selection",
        "outputId": "a90b3bf7-42fb-4134-eff2-888c870823db",
        "colab": {
          "base_uri": "https://localhost:8080/",
          "height": 206
        }
      },
      "source": [
        "housing_train.head()"
      ],
      "id": "australian-selection",
      "execution_count": 5,
      "outputs": [
        {
          "output_type": "execute_result",
          "data": {
            "text/html": [
              "<div>\n",
              "<style scoped>\n",
              "    .dataframe tbody tr th:only-of-type {\n",
              "        vertical-align: middle;\n",
              "    }\n",
              "\n",
              "    .dataframe tbody tr th {\n",
              "        vertical-align: top;\n",
              "    }\n",
              "\n",
              "    .dataframe thead th {\n",
              "        text-align: right;\n",
              "    }\n",
              "</style>\n",
              "<table border=\"1\" class=\"dataframe\">\n",
              "  <thead>\n",
              "    <tr style=\"text-align: right;\">\n",
              "      <th></th>\n",
              "      <th>longitude</th>\n",
              "      <th>latitude</th>\n",
              "      <th>housing_median_age</th>\n",
              "      <th>total_rooms</th>\n",
              "      <th>total_bedrooms</th>\n",
              "      <th>population</th>\n",
              "      <th>households</th>\n",
              "      <th>median_income</th>\n",
              "      <th>median_house_value</th>\n",
              "      <th>ocean_proximity</th>\n",
              "    </tr>\n",
              "  </thead>\n",
              "  <tbody>\n",
              "    <tr>\n",
              "      <th>0</th>\n",
              "      <td>-121.37</td>\n",
              "      <td>37.06</td>\n",
              "      <td>25.0</td>\n",
              "      <td>474.0</td>\n",
              "      <td>92.0</td>\n",
              "      <td>300.0</td>\n",
              "      <td>104.0</td>\n",
              "      <td>3.8062</td>\n",
              "      <td>340900.0</td>\n",
              "      <td>INLAND</td>\n",
              "    </tr>\n",
              "    <tr>\n",
              "      <th>1</th>\n",
              "      <td>-118.39</td>\n",
              "      <td>34.14</td>\n",
              "      <td>19.0</td>\n",
              "      <td>5076.0</td>\n",
              "      <td>1034.0</td>\n",
              "      <td>2021.0</td>\n",
              "      <td>960.0</td>\n",
              "      <td>5.5683</td>\n",
              "      <td>309200.0</td>\n",
              "      <td>&lt;1H OCEAN</td>\n",
              "    </tr>\n",
              "    <tr>\n",
              "      <th>2</th>\n",
              "      <td>-122.07</td>\n",
              "      <td>37.41</td>\n",
              "      <td>26.0</td>\n",
              "      <td>1184.0</td>\n",
              "      <td>225.0</td>\n",
              "      <td>815.0</td>\n",
              "      <td>218.0</td>\n",
              "      <td>5.7657</td>\n",
              "      <td>322300.0</td>\n",
              "      <td>NEAR BAY</td>\n",
              "    </tr>\n",
              "    <tr>\n",
              "      <th>3</th>\n",
              "      <td>-121.92</td>\n",
              "      <td>36.57</td>\n",
              "      <td>42.0</td>\n",
              "      <td>3944.0</td>\n",
              "      <td>738.0</td>\n",
              "      <td>1374.0</td>\n",
              "      <td>598.0</td>\n",
              "      <td>4.1740</td>\n",
              "      <td>394400.0</td>\n",
              "      <td>NEAR OCEAN</td>\n",
              "    </tr>\n",
              "    <tr>\n",
              "      <th>4</th>\n",
              "      <td>-118.36</td>\n",
              "      <td>33.82</td>\n",
              "      <td>36.0</td>\n",
              "      <td>1083.0</td>\n",
              "      <td>187.0</td>\n",
              "      <td>522.0</td>\n",
              "      <td>187.0</td>\n",
              "      <td>5.7765</td>\n",
              "      <td>339500.0</td>\n",
              "      <td>&lt;1H OCEAN</td>\n",
              "    </tr>\n",
              "  </tbody>\n",
              "</table>\n",
              "</div>"
            ],
            "text/plain": [
              "   longitude  latitude  ...  median_house_value  ocean_proximity\n",
              "0    -121.37     37.06  ...            340900.0           INLAND\n",
              "1    -118.39     34.14  ...            309200.0        <1H OCEAN\n",
              "2    -122.07     37.41  ...            322300.0         NEAR BAY\n",
              "3    -121.92     36.57  ...            394400.0       NEAR OCEAN\n",
              "4    -118.36     33.82  ...            339500.0        <1H OCEAN\n",
              "\n",
              "[5 rows x 10 columns]"
            ]
          },
          "metadata": {},
          "execution_count": 5
        }
      ]
    },
    {
      "cell_type": "code",
      "metadata": {
        "id": "literary-oasis",
        "outputId": "97594d6b-21f8-4ad4-a5a7-940fa68c25b2",
        "colab": {
          "base_uri": "https://localhost:8080/"
        }
      },
      "source": [
        "housing_train.shape"
      ],
      "id": "literary-oasis",
      "execution_count": 6,
      "outputs": [
        {
          "output_type": "execute_result",
          "data": {
            "text/plain": [
              "(14857, 10)"
            ]
          },
          "metadata": {},
          "execution_count": 6
        }
      ]
    },
    {
      "cell_type": "markdown",
      "metadata": {
        "id": "potential-doctor"
      },
      "source": [
        "### 5.2. Separate the _features_ and the _target outcome_"
      ],
      "id": "potential-doctor"
    },
    {
      "cell_type": "code",
      "metadata": {
        "id": "pretty-latex"
      },
      "source": [
        "# store the target outcome into a numpy array\n",
        "y_train = housing_train['median_house_value'].values\n",
        "\n",
        "# overwrite the dataframe with only the features  \n",
        "housing_train = housing_train.drop(columns=['median_house_value'])"
      ],
      "id": "pretty-latex",
      "execution_count": 7,
      "outputs": []
    },
    {
      "cell_type": "markdown",
      "metadata": {
        "id": "becoming-praise"
      },
      "source": [
        "### 5.3. Pipelines"
      ],
      "id": "becoming-praise"
    },
    {
      "cell_type": "markdown",
      "metadata": {
        "id": "tested-catholic"
      },
      "source": [
        "For the sake of simplicity, let's include the **Polynomial Regression** objects (`PolynomialFeatures()` + `LinearRegression()`) into our **pipeline**. So, it is no longer _just_ dedicated to preprocessing."
      ],
      "id": "tested-catholic"
    },
    {
      "cell_type": "markdown",
      "metadata": {
        "id": "caroline-archives"
      },
      "source": [
        "#### **Scenario 1**"
      ],
      "id": "caroline-archives"
    },
    {
      "cell_type": "code",
      "metadata": {
        "id": "chief-compilation"
      },
      "source": [
        "# pipeline for numerical\n",
        "from sklearn.pipeline import Pipeline\n",
        "from sklearn.compose import ColumnTransformer\n",
        "\n",
        "from sklearn.impute import SimpleImputer\n",
        "from sklearn.preprocessing import RobustScaler\n",
        "from sklearn.preprocessing import PolynomialFeatures\n",
        "from sklearn.linear_model import LinearRegression\n",
        "\n",
        "attributes_scenario_1 = ['median_income']\n",
        "\n",
        "pipeline_scenario_1 = Pipeline([\n",
        "    ('imputer', SimpleImputer()),   # let's evaluate the mean and median inputation\n",
        "    ('poly', PolynomialFeatures()), \n",
        "    ('scaler', RobustScaler())\n",
        "])\n",
        "\n",
        "# we will just use the ColumnTransformer because it automaticaly filters the required columns for us before performing the pipeline.\n",
        "# (name, transformer, columns)\n",
        "preprocessed_pipeline_scenario_1 = ColumnTransformer([\n",
        "    (\"numerical\", pipeline_scenario_1, attributes_scenario_1)\n",
        "])\n",
        "\n",
        "\n",
        "# full pipeline: preprocessing + model training/prediction\n",
        "full_pipeline_scenario_1 = Pipeline([\n",
        "        ('preprocessing', preprocessed_pipeline_scenario_1),\n",
        "        ('lin_regression', LinearRegression())\n",
        "])"
      ],
      "id": "chief-compilation",
      "execution_count": 8,
      "outputs": []
    },
    {
      "cell_type": "markdown",
      "metadata": {
        "id": "important-georgia"
      },
      "source": [
        "#### **Scenario 2**"
      ],
      "id": "important-georgia"
    },
    {
      "cell_type": "code",
      "metadata": {
        "id": "wireless-investor"
      },
      "source": [
        "#### feature engineering method from the Sprint #4\n",
        "import numpy as np\n",
        "from sklearn.base import BaseEstimator, TransformerMixin\n",
        "\n",
        "# our 3 new features are based on some the features: totalrooms, \n",
        "# column index\n",
        "rooms_col_idx, bedrooms_col_idx, population_col_idx, households_col_idx = 3, 4, 5, 6\n",
        "\n",
        "class HousingFeatEngineering(BaseEstimator, TransformerMixin):\n",
        "    def __init__(self):\n",
        "        pass\n",
        "    \n",
        "    def fit(self, X, y=None):\n",
        "        return self  # nothing else to do\n",
        "    \n",
        "    def transform(self, X):\n",
        "        n_rows = X.shape[0]\n",
        "        \n",
        "        # creating the new features\n",
        "        rooms_per_household = X[:, rooms_col_idx] / X[:, households_col_idx]\n",
        "        population_per_household = X[:, population_col_idx] / X[:, households_col_idx]\n",
        "        bedrooms_per_room = X[:, bedrooms_col_idx] / X[:, rooms_col_idx]\n",
        "                \n",
        "        # to concatenate the new array as columns in our feature matrix, we need to reshape them first\n",
        "        rooms_per_household = rooms_per_household.reshape((n_rows, 1))\n",
        "        population_per_household = population_per_household.reshape((n_rows, 1))\n",
        "        bedrooms_per_room = bedrooms_per_room.reshape((n_rows, 1))\n",
        "        \n",
        "        # concatenating the new features into the feature matrix\n",
        "        X_out = np.hstack((X, rooms_per_household, population_per_household, bedrooms_per_room))\n",
        "        \n",
        "        return X_out"
      ],
      "id": "wireless-investor",
      "execution_count": 9,
      "outputs": []
    },
    {
      "cell_type": "code",
      "metadata": {
        "id": "electric-hepatitis"
      },
      "source": [
        "import numpy as np\n",
        "from sklearn.base import BaseEstimator, TransformerMixin\n",
        "\n",
        "# our 3 new features are based on some the features: totalrooms, \n",
        "# column index\n",
        "rooms_col_idx, bedrooms_col_idx, population_col_idx, households_col_idx = 3, 4, 5, 6\n",
        "\n",
        "class DropFeatures(BaseEstimator, TransformerMixin):\n",
        "    def __init__(self, verbose=False):\n",
        "        self.verbose = verbose\n",
        "    \n",
        "    def fit(self, X, y=None):\n",
        "        return self  # nothing else to do\n",
        "    \n",
        "    def transform(self, X):\n",
        "        X_out = np.delete(X, [rooms_col_idx, bedrooms_col_idx, population_col_idx, households_col_idx], axis=1)\n",
        "        \n",
        "        # for debugging\n",
        "        if self.verbose:\n",
        "            np.set_printoptions(suppress=True)\n",
        "            print('X[:5]')\n",
        "            print(X[:5])\n",
        "            print('\\nX_out[:5]')\n",
        "            print(X_out[:5])\n",
        "        \n",
        "        return X_out"
      ],
      "id": "electric-hepatitis",
      "execution_count": 10,
      "outputs": []
    },
    {
      "cell_type": "code",
      "metadata": {
        "id": "occupational-rochester"
      },
      "source": [
        "# pipeline for numerical\n",
        "from sklearn.pipeline import Pipeline\n",
        "from sklearn.compose import ColumnTransformer\n",
        "\n",
        "from sklearn.impute import SimpleImputer\n",
        "from sklearn.preprocessing import RobustScaler\n",
        "from sklearn.preprocessing import PolynomialFeatures\n",
        "from sklearn.linear_model import LinearRegression\n",
        "\n",
        "attributes_scenario_2 = housing_train.columns.drop('ocean_proximity')\n",
        "\n",
        "pipeline_scenario_2 = Pipeline([\n",
        "    ('imputer', SimpleImputer()),  # let's evaluate the mean and median inputation\n",
        "    ('feat_engineering', HousingFeatEngineering()),\n",
        "    ('drop_features', DropFeatures(verbose=False)),\n",
        "    ('poly', PolynomialFeatures()),\n",
        "    ('scaler', RobustScaler())\n",
        "])\n",
        "\n",
        "# we will just use the ColumnTransformer because it automaticaly filters the required columns for us before performing the pipeline.\n",
        "# (name, transformer, columns)\n",
        "preprocessed_pipeline_scenario_2 = ColumnTransformer([\n",
        "    (\"numerical\", pipeline_scenario_2, attributes_scenario_2)\n",
        "])\n",
        "\n",
        "# full pipeline: preprocessing + model training/prediction\n",
        "full_pipeline_scenario_2 = Pipeline([\n",
        "        ('preprocessing', preprocessed_pipeline_scenario_2),\n",
        "        ('lin_regression', LinearRegression())\n",
        "])"
      ],
      "id": "occupational-rochester",
      "execution_count": 11,
      "outputs": []
    },
    {
      "cell_type": "markdown",
      "metadata": {
        "id": "listed-permission"
      },
      "source": [
        "## 🏋️‍♀️ 6. Train ML Algorithms"
      ],
      "id": "listed-permission"
    },
    {
      "cell_type": "markdown",
      "metadata": {
        "id": "active-cradle"
      },
      "source": [
        "### 6.1. Grid-Search (fine-tunning)\n",
        "https://scikit-learn.org/stable/modules/generated/sklearn.model_selection.GridSearchCV.html"
      ],
      "id": "active-cradle"
    },
    {
      "cell_type": "markdown",
      "metadata": {
        "id": "better-rescue"
      },
      "source": [
        "### **Scenario 1**"
      ],
      "id": "better-rescue"
    },
    {
      "cell_type": "markdown",
      "metadata": {
        "id": "soviet-staff"
      },
      "source": [
        "#### **Finding out the hyperparameter key names**"
      ],
      "id": "soviet-staff"
    },
    {
      "cell_type": "code",
      "metadata": {
        "id": "foreign-demonstration",
        "outputId": "6d0d9a97-5e28-46fd-d12f-fe5004de8124",
        "colab": {
          "base_uri": "https://localhost:8080/"
        }
      },
      "source": [
        "full_pipeline_scenario_1.get_params()"
      ],
      "id": "foreign-demonstration",
      "execution_count": 12,
      "outputs": [
        {
          "output_type": "execute_result",
          "data": {
            "text/plain": [
              "{'lin_regression': LinearRegression(copy_X=True, fit_intercept=True, n_jobs=None, normalize=False),\n",
              " 'lin_regression__copy_X': True,\n",
              " 'lin_regression__fit_intercept': True,\n",
              " 'lin_regression__n_jobs': None,\n",
              " 'lin_regression__normalize': False,\n",
              " 'memory': None,\n",
              " 'preprocessing': ColumnTransformer(n_jobs=None, remainder='drop', sparse_threshold=0.3,\n",
              "                   transformer_weights=None,\n",
              "                   transformers=[('numerical',\n",
              "                                  Pipeline(memory=None,\n",
              "                                           steps=[('imputer',\n",
              "                                                   SimpleImputer(add_indicator=False,\n",
              "                                                                 copy=True,\n",
              "                                                                 fill_value=None,\n",
              "                                                                 missing_values=nan,\n",
              "                                                                 strategy='mean',\n",
              "                                                                 verbose=0)),\n",
              "                                                  ('poly',\n",
              "                                                   PolynomialFeatures(degree=2,\n",
              "                                                                      include_bias=True,\n",
              "                                                                      interaction_only=False,\n",
              "                                                                      order='C')),\n",
              "                                                  ('scaler',\n",
              "                                                   RobustScaler(copy=True,\n",
              "                                                                quantile_range=(25.0,\n",
              "                                                                                75.0),\n",
              "                                                                with_centering=True,\n",
              "                                                                with_scaling=True))],\n",
              "                                           verbose=False),\n",
              "                                  ['median_income'])],\n",
              "                   verbose=False),\n",
              " 'preprocessing__n_jobs': None,\n",
              " 'preprocessing__numerical': Pipeline(memory=None,\n",
              "          steps=[('imputer',\n",
              "                  SimpleImputer(add_indicator=False, copy=True, fill_value=None,\n",
              "                                missing_values=nan, strategy='mean',\n",
              "                                verbose=0)),\n",
              "                 ('poly',\n",
              "                  PolynomialFeatures(degree=2, include_bias=True,\n",
              "                                     interaction_only=False, order='C')),\n",
              "                 ('scaler',\n",
              "                  RobustScaler(copy=True, quantile_range=(25.0, 75.0),\n",
              "                               with_centering=True, with_scaling=True))],\n",
              "          verbose=False),\n",
              " 'preprocessing__numerical__imputer': SimpleImputer(add_indicator=False, copy=True, fill_value=None,\n",
              "               missing_values=nan, strategy='mean', verbose=0),\n",
              " 'preprocessing__numerical__imputer__add_indicator': False,\n",
              " 'preprocessing__numerical__imputer__copy': True,\n",
              " 'preprocessing__numerical__imputer__fill_value': None,\n",
              " 'preprocessing__numerical__imputer__missing_values': nan,\n",
              " 'preprocessing__numerical__imputer__strategy': 'mean',\n",
              " 'preprocessing__numerical__imputer__verbose': 0,\n",
              " 'preprocessing__numerical__memory': None,\n",
              " 'preprocessing__numerical__poly': PolynomialFeatures(degree=2, include_bias=True, interaction_only=False,\n",
              "                    order='C'),\n",
              " 'preprocessing__numerical__poly__degree': 2,\n",
              " 'preprocessing__numerical__poly__include_bias': True,\n",
              " 'preprocessing__numerical__poly__interaction_only': False,\n",
              " 'preprocessing__numerical__poly__order': 'C',\n",
              " 'preprocessing__numerical__scaler': RobustScaler(copy=True, quantile_range=(25.0, 75.0), with_centering=True,\n",
              "              with_scaling=True),\n",
              " 'preprocessing__numerical__scaler__copy': True,\n",
              " 'preprocessing__numerical__scaler__quantile_range': (25.0, 75.0),\n",
              " 'preprocessing__numerical__scaler__with_centering': True,\n",
              " 'preprocessing__numerical__scaler__with_scaling': True,\n",
              " 'preprocessing__numerical__steps': [('imputer',\n",
              "   SimpleImputer(add_indicator=False, copy=True, fill_value=None,\n",
              "                 missing_values=nan, strategy='mean', verbose=0)),\n",
              "  ('poly',\n",
              "   PolynomialFeatures(degree=2, include_bias=True, interaction_only=False,\n",
              "                      order='C')),\n",
              "  ('scaler',\n",
              "   RobustScaler(copy=True, quantile_range=(25.0, 75.0), with_centering=True,\n",
              "                with_scaling=True))],\n",
              " 'preprocessing__numerical__verbose': False,\n",
              " 'preprocessing__remainder': 'drop',\n",
              " 'preprocessing__sparse_threshold': 0.3,\n",
              " 'preprocessing__transformer_weights': None,\n",
              " 'preprocessing__transformers': [('numerical', Pipeline(memory=None,\n",
              "            steps=[('imputer',\n",
              "                    SimpleImputer(add_indicator=False, copy=True, fill_value=None,\n",
              "                                  missing_values=nan, strategy='mean',\n",
              "                                  verbose=0)),\n",
              "                   ('poly',\n",
              "                    PolynomialFeatures(degree=2, include_bias=True,\n",
              "                                       interaction_only=False, order='C')),\n",
              "                   ('scaler',\n",
              "                    RobustScaler(copy=True, quantile_range=(25.0, 75.0),\n",
              "                                 with_centering=True, with_scaling=True))],\n",
              "            verbose=False), ['median_income'])],\n",
              " 'preprocessing__verbose': False,\n",
              " 'steps': [('preprocessing',\n",
              "   ColumnTransformer(n_jobs=None, remainder='drop', sparse_threshold=0.3,\n",
              "                     transformer_weights=None,\n",
              "                     transformers=[('numerical',\n",
              "                                    Pipeline(memory=None,\n",
              "                                             steps=[('imputer',\n",
              "                                                     SimpleImputer(add_indicator=False,\n",
              "                                                                   copy=True,\n",
              "                                                                   fill_value=None,\n",
              "                                                                   missing_values=nan,\n",
              "                                                                   strategy='mean',\n",
              "                                                                   verbose=0)),\n",
              "                                                    ('poly',\n",
              "                                                     PolynomialFeatures(degree=2,\n",
              "                                                                        include_bias=True,\n",
              "                                                                        interaction_only=False,\n",
              "                                                                        order='C')),\n",
              "                                                    ('scaler',\n",
              "                                                     RobustScaler(copy=True,\n",
              "                                                                  quantile_range=(25.0,\n",
              "                                                                                  75.0),\n",
              "                                                                  with_centering=True,\n",
              "                                                                  with_scaling=True))],\n",
              "                                             verbose=False),\n",
              "                                    ['median_income'])],\n",
              "                     verbose=False)),\n",
              "  ('lin_regression',\n",
              "   LinearRegression(copy_X=True, fit_intercept=True, n_jobs=None, normalize=False))],\n",
              " 'verbose': False}"
            ]
          },
          "metadata": {},
          "execution_count": 12
        }
      ]
    },
    {
      "cell_type": "markdown",
      "metadata": {
        "id": "legislative-president"
      },
      "source": [
        "#### **Grid-search**"
      ],
      "id": "legislative-president"
    },
    {
      "cell_type": "code",
      "metadata": {
        "id": "personal-session",
        "outputId": "9af6eb17-54b7-4ab2-f9de-8638ec92eeba",
        "colab": {
          "base_uri": "https://localhost:8080/"
        }
      },
      "source": [
        "from sklearn.model_selection import GridSearchCV\n",
        "\n",
        "# search space\n",
        "param_grid_scenario_1 = [\n",
        "    {\n",
        "    'preprocessing__numerical__imputer__strategy': ['mean', 'median'],\n",
        "    'preprocessing__numerical__poly__degree': [2, 3, 10, 20, 30],\n",
        "    'preprocessing__numerical__poly__include_bias': [False, True],\n",
        "    'preprocessing__numerical__poly__interaction_only': [False, True]\n",
        "    }\n",
        "]\n",
        "\n",
        "grid_search_scenario_1 = GridSearchCV(full_pipeline_scenario_1, param_grid_scenario_1, cv=5, scoring='neg_mean_squared_error', return_train_score=True, verbose=1)\n",
        "grid_search_scenario_1.fit(housing_train, y_train)"
      ],
      "id": "personal-session",
      "execution_count": 13,
      "outputs": [
        {
          "output_type": "stream",
          "name": "stdout",
          "text": [
            "Fitting 5 folds for each of 40 candidates, totalling 200 fits\n"
          ]
        },
        {
          "output_type": "stream",
          "name": "stderr",
          "text": [
            "[Parallel(n_jobs=1)]: Using backend SequentialBackend with 1 concurrent workers.\n",
            "[Parallel(n_jobs=1)]: Done 200 out of 200 | elapsed:    8.2s finished\n"
          ]
        },
        {
          "output_type": "execute_result",
          "data": {
            "text/plain": [
              "GridSearchCV(cv=5, error_score=nan,\n",
              "             estimator=Pipeline(memory=None,\n",
              "                                steps=[('preprocessing',\n",
              "                                        ColumnTransformer(n_jobs=None,\n",
              "                                                          remainder='drop',\n",
              "                                                          sparse_threshold=0.3,\n",
              "                                                          transformer_weights=None,\n",
              "                                                          transformers=[('numerical',\n",
              "                                                                         Pipeline(memory=None,\n",
              "                                                                                  steps=[('imputer',\n",
              "                                                                                          SimpleImputer(add_indicator=False,\n",
              "                                                                                                        copy=True,\n",
              "                                                                                                        fill_value=None,\n",
              "                                                                                                        missing_values=nan,\n",
              "                                                                                                        strategy='mean',\n",
              "                                                                                                        verbose...\n",
              "             param_grid=[{'preprocessing__numerical__imputer__strategy': ['mean',\n",
              "                                                                          'median'],\n",
              "                          'preprocessing__numerical__poly__degree': [2, 3, 10,\n",
              "                                                                     20, 30],\n",
              "                          'preprocessing__numerical__poly__include_bias': [False,\n",
              "                                                                           True],\n",
              "                          'preprocessing__numerical__poly__interaction_only': [False,\n",
              "                                                                               True]}],\n",
              "             pre_dispatch='2*n_jobs', refit=True, return_train_score=True,\n",
              "             scoring='neg_mean_squared_error', verbose=1)"
            ]
          },
          "metadata": {},
          "execution_count": 13
        }
      ]
    },
    {
      "cell_type": "code",
      "metadata": {
        "id": "lucky-ivory",
        "outputId": "a60e56f9-015e-4678-8795-5fb9701b1375",
        "colab": {
          "base_uri": "https://localhost:8080/"
        }
      },
      "source": [
        "cvres = grid_search_scenario_1.cv_results_\n",
        "\n",
        "# (approximated) RMSE\n",
        "for mean_score, params in zip(cvres[\"mean_test_score\"], cvres[\"params\"]):\n",
        "    print(np.sqrt(-mean_score), params)"
      ],
      "id": "lucky-ivory",
      "execution_count": 14,
      "outputs": [
        {
          "output_type": "stream",
          "name": "stdout",
          "text": [
            "71691.10772210758 {'preprocessing__numerical__imputer__strategy': 'mean', 'preprocessing__numerical__poly__degree': 2, 'preprocessing__numerical__poly__include_bias': False, 'preprocessing__numerical__poly__interaction_only': False}\n",
            "71676.82921015851 {'preprocessing__numerical__imputer__strategy': 'mean', 'preprocessing__numerical__poly__degree': 2, 'preprocessing__numerical__poly__include_bias': False, 'preprocessing__numerical__poly__interaction_only': True}\n",
            "71691.10772210758 {'preprocessing__numerical__imputer__strategy': 'mean', 'preprocessing__numerical__poly__degree': 2, 'preprocessing__numerical__poly__include_bias': True, 'preprocessing__numerical__poly__interaction_only': False}\n",
            "71676.82921015851 {'preprocessing__numerical__imputer__strategy': 'mean', 'preprocessing__numerical__poly__degree': 2, 'preprocessing__numerical__poly__include_bias': True, 'preprocessing__numerical__poly__interaction_only': True}\n",
            "71456.56128983348 {'preprocessing__numerical__imputer__strategy': 'mean', 'preprocessing__numerical__poly__degree': 3, 'preprocessing__numerical__poly__include_bias': False, 'preprocessing__numerical__poly__interaction_only': False}\n",
            "71676.82921015851 {'preprocessing__numerical__imputer__strategy': 'mean', 'preprocessing__numerical__poly__degree': 3, 'preprocessing__numerical__poly__include_bias': False, 'preprocessing__numerical__poly__interaction_only': True}\n",
            "71456.56128983348 {'preprocessing__numerical__imputer__strategy': 'mean', 'preprocessing__numerical__poly__degree': 3, 'preprocessing__numerical__poly__include_bias': True, 'preprocessing__numerical__poly__interaction_only': False}\n",
            "71676.82921015851 {'preprocessing__numerical__imputer__strategy': 'mean', 'preprocessing__numerical__poly__degree': 3, 'preprocessing__numerical__poly__include_bias': True, 'preprocessing__numerical__poly__interaction_only': True}\n",
            "71298.70981489206 {'preprocessing__numerical__imputer__strategy': 'mean', 'preprocessing__numerical__poly__degree': 10, 'preprocessing__numerical__poly__include_bias': False, 'preprocessing__numerical__poly__interaction_only': False}\n",
            "71676.82921015851 {'preprocessing__numerical__imputer__strategy': 'mean', 'preprocessing__numerical__poly__degree': 10, 'preprocessing__numerical__poly__include_bias': False, 'preprocessing__numerical__poly__interaction_only': True}\n",
            "71298.70981489195 {'preprocessing__numerical__imputer__strategy': 'mean', 'preprocessing__numerical__poly__degree': 10, 'preprocessing__numerical__poly__include_bias': True, 'preprocessing__numerical__poly__interaction_only': False}\n",
            "71676.82921015851 {'preprocessing__numerical__imputer__strategy': 'mean', 'preprocessing__numerical__poly__degree': 10, 'preprocessing__numerical__poly__include_bias': True, 'preprocessing__numerical__poly__interaction_only': True}\n",
            "72655.16315344835 {'preprocessing__numerical__imputer__strategy': 'mean', 'preprocessing__numerical__poly__degree': 20, 'preprocessing__numerical__poly__include_bias': False, 'preprocessing__numerical__poly__interaction_only': False}\n",
            "71676.82921015851 {'preprocessing__numerical__imputer__strategy': 'mean', 'preprocessing__numerical__poly__degree': 20, 'preprocessing__numerical__poly__include_bias': False, 'preprocessing__numerical__poly__interaction_only': True}\n",
            "72654.64527697088 {'preprocessing__numerical__imputer__strategy': 'mean', 'preprocessing__numerical__poly__degree': 20, 'preprocessing__numerical__poly__include_bias': True, 'preprocessing__numerical__poly__interaction_only': False}\n",
            "71676.82921015851 {'preprocessing__numerical__imputer__strategy': 'mean', 'preprocessing__numerical__poly__degree': 20, 'preprocessing__numerical__poly__include_bias': True, 'preprocessing__numerical__poly__interaction_only': True}\n",
            "80106.7704378381 {'preprocessing__numerical__imputer__strategy': 'mean', 'preprocessing__numerical__poly__degree': 30, 'preprocessing__numerical__poly__include_bias': False, 'preprocessing__numerical__poly__interaction_only': False}\n",
            "71676.82921015851 {'preprocessing__numerical__imputer__strategy': 'mean', 'preprocessing__numerical__poly__degree': 30, 'preprocessing__numerical__poly__include_bias': False, 'preprocessing__numerical__poly__interaction_only': True}\n",
            "77283.34490995533 {'preprocessing__numerical__imputer__strategy': 'mean', 'preprocessing__numerical__poly__degree': 30, 'preprocessing__numerical__poly__include_bias': True, 'preprocessing__numerical__poly__interaction_only': False}\n",
            "71676.82921015851 {'preprocessing__numerical__imputer__strategy': 'mean', 'preprocessing__numerical__poly__degree': 30, 'preprocessing__numerical__poly__include_bias': True, 'preprocessing__numerical__poly__interaction_only': True}\n",
            "71691.10772210758 {'preprocessing__numerical__imputer__strategy': 'median', 'preprocessing__numerical__poly__degree': 2, 'preprocessing__numerical__poly__include_bias': False, 'preprocessing__numerical__poly__interaction_only': False}\n",
            "71676.82921015851 {'preprocessing__numerical__imputer__strategy': 'median', 'preprocessing__numerical__poly__degree': 2, 'preprocessing__numerical__poly__include_bias': False, 'preprocessing__numerical__poly__interaction_only': True}\n",
            "71691.10772210758 {'preprocessing__numerical__imputer__strategy': 'median', 'preprocessing__numerical__poly__degree': 2, 'preprocessing__numerical__poly__include_bias': True, 'preprocessing__numerical__poly__interaction_only': False}\n",
            "71676.82921015851 {'preprocessing__numerical__imputer__strategy': 'median', 'preprocessing__numerical__poly__degree': 2, 'preprocessing__numerical__poly__include_bias': True, 'preprocessing__numerical__poly__interaction_only': True}\n",
            "71456.56128983348 {'preprocessing__numerical__imputer__strategy': 'median', 'preprocessing__numerical__poly__degree': 3, 'preprocessing__numerical__poly__include_bias': False, 'preprocessing__numerical__poly__interaction_only': False}\n",
            "71676.82921015851 {'preprocessing__numerical__imputer__strategy': 'median', 'preprocessing__numerical__poly__degree': 3, 'preprocessing__numerical__poly__include_bias': False, 'preprocessing__numerical__poly__interaction_only': True}\n",
            "71456.56128983348 {'preprocessing__numerical__imputer__strategy': 'median', 'preprocessing__numerical__poly__degree': 3, 'preprocessing__numerical__poly__include_bias': True, 'preprocessing__numerical__poly__interaction_only': False}\n",
            "71676.82921015851 {'preprocessing__numerical__imputer__strategy': 'median', 'preprocessing__numerical__poly__degree': 3, 'preprocessing__numerical__poly__include_bias': True, 'preprocessing__numerical__poly__interaction_only': True}\n",
            "71298.70981489206 {'preprocessing__numerical__imputer__strategy': 'median', 'preprocessing__numerical__poly__degree': 10, 'preprocessing__numerical__poly__include_bias': False, 'preprocessing__numerical__poly__interaction_only': False}\n",
            "71676.82921015851 {'preprocessing__numerical__imputer__strategy': 'median', 'preprocessing__numerical__poly__degree': 10, 'preprocessing__numerical__poly__include_bias': False, 'preprocessing__numerical__poly__interaction_only': True}\n",
            "71298.70981489195 {'preprocessing__numerical__imputer__strategy': 'median', 'preprocessing__numerical__poly__degree': 10, 'preprocessing__numerical__poly__include_bias': True, 'preprocessing__numerical__poly__interaction_only': False}\n",
            "71676.82921015851 {'preprocessing__numerical__imputer__strategy': 'median', 'preprocessing__numerical__poly__degree': 10, 'preprocessing__numerical__poly__include_bias': True, 'preprocessing__numerical__poly__interaction_only': True}\n",
            "72655.16315344835 {'preprocessing__numerical__imputer__strategy': 'median', 'preprocessing__numerical__poly__degree': 20, 'preprocessing__numerical__poly__include_bias': False, 'preprocessing__numerical__poly__interaction_only': False}\n",
            "71676.82921015851 {'preprocessing__numerical__imputer__strategy': 'median', 'preprocessing__numerical__poly__degree': 20, 'preprocessing__numerical__poly__include_bias': False, 'preprocessing__numerical__poly__interaction_only': True}\n",
            "72654.64527697088 {'preprocessing__numerical__imputer__strategy': 'median', 'preprocessing__numerical__poly__degree': 20, 'preprocessing__numerical__poly__include_bias': True, 'preprocessing__numerical__poly__interaction_only': False}\n",
            "71676.82921015851 {'preprocessing__numerical__imputer__strategy': 'median', 'preprocessing__numerical__poly__degree': 20, 'preprocessing__numerical__poly__include_bias': True, 'preprocessing__numerical__poly__interaction_only': True}\n",
            "80106.7704378381 {'preprocessing__numerical__imputer__strategy': 'median', 'preprocessing__numerical__poly__degree': 30, 'preprocessing__numerical__poly__include_bias': False, 'preprocessing__numerical__poly__interaction_only': False}\n",
            "71676.82921015851 {'preprocessing__numerical__imputer__strategy': 'median', 'preprocessing__numerical__poly__degree': 30, 'preprocessing__numerical__poly__include_bias': False, 'preprocessing__numerical__poly__interaction_only': True}\n",
            "77283.34490995533 {'preprocessing__numerical__imputer__strategy': 'median', 'preprocessing__numerical__poly__degree': 30, 'preprocessing__numerical__poly__include_bias': True, 'preprocessing__numerical__poly__interaction_only': False}\n",
            "71676.82921015851 {'preprocessing__numerical__imputer__strategy': 'median', 'preprocessing__numerical__poly__degree': 30, 'preprocessing__numerical__poly__include_bias': True, 'preprocessing__numerical__poly__interaction_only': True}\n"
          ]
        }
      ]
    },
    {
      "cell_type": "code",
      "metadata": {
        "id": "balanced-starter",
        "outputId": "76e0a625-0445-4f0d-b743-44a6e5eef77d",
        "colab": {
          "base_uri": "https://localhost:8080/"
        }
      },
      "source": [
        "# best params\n",
        "grid_search_scenario_1.best_params_"
      ],
      "id": "balanced-starter",
      "execution_count": 15,
      "outputs": [
        {
          "output_type": "execute_result",
          "data": {
            "text/plain": [
              "{'preprocessing__numerical__imputer__strategy': 'mean',\n",
              " 'preprocessing__numerical__poly__degree': 10,\n",
              " 'preprocessing__numerical__poly__include_bias': True,\n",
              " 'preprocessing__numerical__poly__interaction_only': False}"
            ]
          },
          "metadata": {},
          "execution_count": 15
        }
      ]
    },
    {
      "cell_type": "code",
      "metadata": {
        "id": "sorted-plasma",
        "outputId": "40389486-5a93-4a53-b9f7-4cb0750e08cd",
        "colab": {
          "base_uri": "https://localhost:8080/"
        }
      },
      "source": [
        "# best estimator\n",
        "# if refit=True, it returns a model trained with the full training set with the best hyperparameters\n",
        "best_model = grid_search_scenario_1.best_estimator_\n",
        "best_model"
      ],
      "id": "sorted-plasma",
      "execution_count": 16,
      "outputs": [
        {
          "output_type": "execute_result",
          "data": {
            "text/plain": [
              "Pipeline(memory=None,\n",
              "         steps=[('preprocessing',\n",
              "                 ColumnTransformer(n_jobs=None, remainder='drop',\n",
              "                                   sparse_threshold=0.3,\n",
              "                                   transformer_weights=None,\n",
              "                                   transformers=[('numerical',\n",
              "                                                  Pipeline(memory=None,\n",
              "                                                           steps=[('imputer',\n",
              "                                                                   SimpleImputer(add_indicator=False,\n",
              "                                                                                 copy=True,\n",
              "                                                                                 fill_value=None,\n",
              "                                                                                 missing_values=nan,\n",
              "                                                                                 strategy='mean',\n",
              "                                                                                 verbose=0)),\n",
              "                                                                  ('poly',\n",
              "                                                                   PolynomialFeatures(degree=10,\n",
              "                                                                                      include_bias=True,\n",
              "                                                                                      interaction_only=False,\n",
              "                                                                                      order='C')),\n",
              "                                                                  ('scaler',\n",
              "                                                                   RobustScaler(copy=True,\n",
              "                                                                                quantile_range=(25.0,\n",
              "                                                                                                75.0),\n",
              "                                                                                with_centering=True,\n",
              "                                                                                with_scaling=True))],\n",
              "                                                           verbose=False),\n",
              "                                                  ['median_income'])],\n",
              "                                   verbose=False)),\n",
              "                ('lin_regression',\n",
              "                 LinearRegression(copy_X=True, fit_intercept=True, n_jobs=None,\n",
              "                                  normalize=False))],\n",
              "         verbose=False)"
            ]
          },
          "metadata": {},
          "execution_count": 16
        }
      ]
    },
    {
      "cell_type": "code",
      "metadata": {
        "id": "union-battery",
        "outputId": "7b8970dc-1bb8-40ef-ac64-245e72625e97",
        "colab": {
          "base_uri": "https://localhost:8080/"
        }
      },
      "source": [
        "# get the (approximated) RMSE\n",
        "np.sqrt(-grid_search_scenario_1.best_score_)"
      ],
      "id": "union-battery",
      "execution_count": 18,
      "outputs": [
        {
          "output_type": "execute_result",
          "data": {
            "text/plain": [
              "71298.70981489195"
            ]
          },
          "metadata": {},
          "execution_count": 18
        }
      ]
    },
    {
      "cell_type": "code",
      "metadata": {
        "id": "recorded-locking",
        "outputId": "a19ea19c-ab98-465c-b18f-c19b88a66200",
        "colab": {
          "base_uri": "https://localhost:8080/"
        }
      },
      "source": [
        "# get the approximated RMSE and its standard deviation\n",
        "best_index = grid_search_scenario_1.best_index_\n",
        "best_score = np.sqrt(-grid_search_scenario_1.cv_results_['mean_test_score'][best_index])\n",
        "best_score_std = np.sqrt(grid_search_scenario_1.cv_results_['std_test_score'][best_index])\n",
        "\n",
        "print(f'Best score: {best_score} +- {best_score_std}')"
      ],
      "id": "recorded-locking",
      "execution_count": 17,
      "outputs": [
        {
          "output_type": "stream",
          "name": "stdout",
          "text": [
            "Best score: 71298.70981489195 +- 11036.554801121469\n"
          ]
        }
      ]
    },
    {
      "cell_type": "markdown",
      "metadata": {
        "id": "photographic-wright"
      },
      "source": [
        "<br/>\n",
        "\n",
        "The **cross validation score** from **the best model** (\\\\$71,298.70 ± \\\\$11,036.55) is _slightly better_ than the score of Scenario 1 without fine-tunning (\\\\$71,671.86 ± \\$1,479.30) from Sprint #5, its results are more unstable (see its _standard deviation_). <br/>\n",
        "Moreover, its **cross validation score** keeps being _considerably higher_ than that of `Linear Regression` from the previous Sprint (\\\\$58,371.04 ± \\$1,757.91)."
      ],
      "id": "photographic-wright"
    },
    {
      "cell_type": "markdown",
      "metadata": {
        "id": "completed-salad"
      },
      "source": [
        "<table align=\"left\" class=\"dashed-box\">\n",
        "<tr>\n",
        "    <td>💡</td>\n",
        "    <td>Mathematically, the correct way to estimate the <b>cross-validation RMSE</b> and its <b>standard deviation</b> is to apply the <i>square root</i> for the each split <i>negative MSE score</i>, and then compute the <i>mean</i> and <i>std</i> with these new scores.</td>\n",
        "</tr>\n",
        "<tr>\n",
        "    <td></td>\n",
        "    <td>For that, we need to 'debug' the _cross validation results.</td>\n",
        "</tr>\n",
        "</table><br/><br/>"
      ],
      "id": "completed-salad"
    },
    {
      "cell_type": "code",
      "metadata": {
        "id": "changing-executive",
        "outputId": "dbc1b64b-8968-41f9-f849-956c04e734ea",
        "colab": {
          "base_uri": "https://localhost:8080/"
        }
      },
      "source": [
        "grid_search_scenario_1.cv_results_"
      ],
      "id": "changing-executive",
      "execution_count": 19,
      "outputs": [
        {
          "output_type": "execute_result",
          "data": {
            "text/plain": [
              "{'mean_fit_time': array([0.01678843, 0.01044078, 0.0127943 , 0.0104919 , 0.0126204 ,\n",
              "        0.00973482, 0.01363478, 0.01085777, 0.02443895, 0.0128087 ,\n",
              "        0.04534049, 0.01797562, 0.05908718, 0.01521049, 0.06308928,\n",
              "        0.01632195, 0.07479   , 0.01141787, 0.06801867, 0.0129519 ,\n",
              "        0.01350765, 0.01211691, 0.01387358, 0.01262441, 0.01472449,\n",
              "        0.01132426, 0.01499906, 0.01270142, 0.02603531, 0.01610322,\n",
              "        0.03711882, 0.01883607, 0.05475602, 0.01304908, 0.06192322,\n",
              "        0.01758671, 0.07348843, 0.0155283 , 0.07668705, 0.01592422]),\n",
              " 'mean_score_time': array([0.00356965, 0.00530992, 0.00338559, 0.00331206, 0.00353246,\n",
              "        0.00346394, 0.00342002, 0.00445542, 0.00441647, 0.00676432,\n",
              "        0.00803833, 0.00445409, 0.00737448, 0.00371451, 0.0079927 ,\n",
              "        0.00450649, 0.00641246, 0.00341158, 0.00866756, 0.00373812,\n",
              "        0.00384631, 0.00336351, 0.00335131, 0.0033987 , 0.00364351,\n",
              "        0.00463605, 0.00356212, 0.00344033, 0.00509424, 0.00495806,\n",
              "        0.00705009, 0.0077724 , 0.00632439, 0.0050334 , 0.01172471,\n",
              "        0.00442796, 0.00702519, 0.00433111, 0.00714259, 0.00636549]),\n",
              " 'mean_test_score': array([-5.13961493e+09, -5.13756785e+09, -5.13961493e+09, -5.13756785e+09,\n",
              "        -5.10604015e+09, -5.13756785e+09, -5.10604015e+09, -5.13756785e+09,\n",
              "        -5.08350602e+09, -5.13756785e+09, -5.08350602e+09, -5.13756785e+09,\n",
              "        -5.27877273e+09, -5.13756785e+09, -5.27869748e+09, -5.13756785e+09,\n",
              "        -6.41709467e+09, -5.13756785e+09, -5.97271540e+09, -5.13756785e+09,\n",
              "        -5.13961493e+09, -5.13756785e+09, -5.13961493e+09, -5.13756785e+09,\n",
              "        -5.10604015e+09, -5.13756785e+09, -5.10604015e+09, -5.13756785e+09,\n",
              "        -5.08350602e+09, -5.13756785e+09, -5.08350602e+09, -5.13756785e+09,\n",
              "        -5.27877273e+09, -5.13756785e+09, -5.27869748e+09, -5.13756785e+09,\n",
              "        -6.41709467e+09, -5.13756785e+09, -5.97271540e+09, -5.13756785e+09]),\n",
              " 'mean_train_score': array([-5.13616088e+09, -5.13643651e+09, -5.13616088e+09, -5.13643651e+09,\n",
              "        -5.10085783e+09, -5.13643651e+09, -5.10085783e+09, -5.13643651e+09,\n",
              "        -5.07157986e+09, -5.13643651e+09, -5.07157986e+09, -5.13643651e+09,\n",
              "        -5.06841876e+09, -5.13643651e+09, -5.06841871e+09, -5.13643651e+09,\n",
              "        -5.06853848e+09, -5.13643651e+09, -5.06853202e+09, -5.13643651e+09,\n",
              "        -5.13616088e+09, -5.13643651e+09, -5.13616088e+09, -5.13643651e+09,\n",
              "        -5.10085783e+09, -5.13643651e+09, -5.10085783e+09, -5.13643651e+09,\n",
              "        -5.07157986e+09, -5.13643651e+09, -5.07157986e+09, -5.13643651e+09,\n",
              "        -5.06841876e+09, -5.13643651e+09, -5.06841871e+09, -5.13643651e+09,\n",
              "        -5.06853848e+09, -5.13643651e+09, -5.06853202e+09, -5.13643651e+09]),\n",
              " 'param_preprocessing__numerical__imputer__strategy': masked_array(data=['mean', 'mean', 'mean', 'mean', 'mean', 'mean', 'mean',\n",
              "                    'mean', 'mean', 'mean', 'mean', 'mean', 'mean', 'mean',\n",
              "                    'mean', 'mean', 'mean', 'mean', 'mean', 'mean',\n",
              "                    'median', 'median', 'median', 'median', 'median',\n",
              "                    'median', 'median', 'median', 'median', 'median',\n",
              "                    'median', 'median', 'median', 'median', 'median',\n",
              "                    'median', 'median', 'median', 'median', 'median'],\n",
              "              mask=[False, False, False, False, False, False, False, False,\n",
              "                    False, False, False, False, False, False, False, False,\n",
              "                    False, False, False, False, False, False, False, False,\n",
              "                    False, False, False, False, False, False, False, False,\n",
              "                    False, False, False, False, False, False, False, False],\n",
              "        fill_value='?',\n",
              "             dtype=object),\n",
              " 'param_preprocessing__numerical__poly__degree': masked_array(data=[2, 2, 2, 2, 3, 3, 3, 3, 10, 10, 10, 10, 20, 20, 20, 20,\n",
              "                    30, 30, 30, 30, 2, 2, 2, 2, 3, 3, 3, 3, 10, 10, 10, 10,\n",
              "                    20, 20, 20, 20, 30, 30, 30, 30],\n",
              "              mask=[False, False, False, False, False, False, False, False,\n",
              "                    False, False, False, False, False, False, False, False,\n",
              "                    False, False, False, False, False, False, False, False,\n",
              "                    False, False, False, False, False, False, False, False,\n",
              "                    False, False, False, False, False, False, False, False],\n",
              "        fill_value='?',\n",
              "             dtype=object),\n",
              " 'param_preprocessing__numerical__poly__include_bias': masked_array(data=[False, False, True, True, False, False, True, True,\n",
              "                    False, False, True, True, False, False, True, True,\n",
              "                    False, False, True, True, False, False, True, True,\n",
              "                    False, False, True, True, False, False, True, True,\n",
              "                    False, False, True, True, False, False, True, True],\n",
              "              mask=[False, False, False, False, False, False, False, False,\n",
              "                    False, False, False, False, False, False, False, False,\n",
              "                    False, False, False, False, False, False, False, False,\n",
              "                    False, False, False, False, False, False, False, False,\n",
              "                    False, False, False, False, False, False, False, False],\n",
              "        fill_value='?',\n",
              "             dtype=object),\n",
              " 'param_preprocessing__numerical__poly__interaction_only': masked_array(data=[False, True, False, True, False, True, False, True,\n",
              "                    False, True, False, True, False, True, False, True,\n",
              "                    False, True, False, True, False, True, False, True,\n",
              "                    False, True, False, True, False, True, False, True,\n",
              "                    False, True, False, True, False, True, False, True],\n",
              "              mask=[False, False, False, False, False, False, False, False,\n",
              "                    False, False, False, False, False, False, False, False,\n",
              "                    False, False, False, False, False, False, False, False,\n",
              "                    False, False, False, False, False, False, False, False,\n",
              "                    False, False, False, False, False, False, False, False],\n",
              "        fill_value='?',\n",
              "             dtype=object),\n",
              " 'params': [{'preprocessing__numerical__imputer__strategy': 'mean',\n",
              "   'preprocessing__numerical__poly__degree': 2,\n",
              "   'preprocessing__numerical__poly__include_bias': False,\n",
              "   'preprocessing__numerical__poly__interaction_only': False},\n",
              "  {'preprocessing__numerical__imputer__strategy': 'mean',\n",
              "   'preprocessing__numerical__poly__degree': 2,\n",
              "   'preprocessing__numerical__poly__include_bias': False,\n",
              "   'preprocessing__numerical__poly__interaction_only': True},\n",
              "  {'preprocessing__numerical__imputer__strategy': 'mean',\n",
              "   'preprocessing__numerical__poly__degree': 2,\n",
              "   'preprocessing__numerical__poly__include_bias': True,\n",
              "   'preprocessing__numerical__poly__interaction_only': False},\n",
              "  {'preprocessing__numerical__imputer__strategy': 'mean',\n",
              "   'preprocessing__numerical__poly__degree': 2,\n",
              "   'preprocessing__numerical__poly__include_bias': True,\n",
              "   'preprocessing__numerical__poly__interaction_only': True},\n",
              "  {'preprocessing__numerical__imputer__strategy': 'mean',\n",
              "   'preprocessing__numerical__poly__degree': 3,\n",
              "   'preprocessing__numerical__poly__include_bias': False,\n",
              "   'preprocessing__numerical__poly__interaction_only': False},\n",
              "  {'preprocessing__numerical__imputer__strategy': 'mean',\n",
              "   'preprocessing__numerical__poly__degree': 3,\n",
              "   'preprocessing__numerical__poly__include_bias': False,\n",
              "   'preprocessing__numerical__poly__interaction_only': True},\n",
              "  {'preprocessing__numerical__imputer__strategy': 'mean',\n",
              "   'preprocessing__numerical__poly__degree': 3,\n",
              "   'preprocessing__numerical__poly__include_bias': True,\n",
              "   'preprocessing__numerical__poly__interaction_only': False},\n",
              "  {'preprocessing__numerical__imputer__strategy': 'mean',\n",
              "   'preprocessing__numerical__poly__degree': 3,\n",
              "   'preprocessing__numerical__poly__include_bias': True,\n",
              "   'preprocessing__numerical__poly__interaction_only': True},\n",
              "  {'preprocessing__numerical__imputer__strategy': 'mean',\n",
              "   'preprocessing__numerical__poly__degree': 10,\n",
              "   'preprocessing__numerical__poly__include_bias': False,\n",
              "   'preprocessing__numerical__poly__interaction_only': False},\n",
              "  {'preprocessing__numerical__imputer__strategy': 'mean',\n",
              "   'preprocessing__numerical__poly__degree': 10,\n",
              "   'preprocessing__numerical__poly__include_bias': False,\n",
              "   'preprocessing__numerical__poly__interaction_only': True},\n",
              "  {'preprocessing__numerical__imputer__strategy': 'mean',\n",
              "   'preprocessing__numerical__poly__degree': 10,\n",
              "   'preprocessing__numerical__poly__include_bias': True,\n",
              "   'preprocessing__numerical__poly__interaction_only': False},\n",
              "  {'preprocessing__numerical__imputer__strategy': 'mean',\n",
              "   'preprocessing__numerical__poly__degree': 10,\n",
              "   'preprocessing__numerical__poly__include_bias': True,\n",
              "   'preprocessing__numerical__poly__interaction_only': True},\n",
              "  {'preprocessing__numerical__imputer__strategy': 'mean',\n",
              "   'preprocessing__numerical__poly__degree': 20,\n",
              "   'preprocessing__numerical__poly__include_bias': False,\n",
              "   'preprocessing__numerical__poly__interaction_only': False},\n",
              "  {'preprocessing__numerical__imputer__strategy': 'mean',\n",
              "   'preprocessing__numerical__poly__degree': 20,\n",
              "   'preprocessing__numerical__poly__include_bias': False,\n",
              "   'preprocessing__numerical__poly__interaction_only': True},\n",
              "  {'preprocessing__numerical__imputer__strategy': 'mean',\n",
              "   'preprocessing__numerical__poly__degree': 20,\n",
              "   'preprocessing__numerical__poly__include_bias': True,\n",
              "   'preprocessing__numerical__poly__interaction_only': False},\n",
              "  {'preprocessing__numerical__imputer__strategy': 'mean',\n",
              "   'preprocessing__numerical__poly__degree': 20,\n",
              "   'preprocessing__numerical__poly__include_bias': True,\n",
              "   'preprocessing__numerical__poly__interaction_only': True},\n",
              "  {'preprocessing__numerical__imputer__strategy': 'mean',\n",
              "   'preprocessing__numerical__poly__degree': 30,\n",
              "   'preprocessing__numerical__poly__include_bias': False,\n",
              "   'preprocessing__numerical__poly__interaction_only': False},\n",
              "  {'preprocessing__numerical__imputer__strategy': 'mean',\n",
              "   'preprocessing__numerical__poly__degree': 30,\n",
              "   'preprocessing__numerical__poly__include_bias': False,\n",
              "   'preprocessing__numerical__poly__interaction_only': True},\n",
              "  {'preprocessing__numerical__imputer__strategy': 'mean',\n",
              "   'preprocessing__numerical__poly__degree': 30,\n",
              "   'preprocessing__numerical__poly__include_bias': True,\n",
              "   'preprocessing__numerical__poly__interaction_only': False},\n",
              "  {'preprocessing__numerical__imputer__strategy': 'mean',\n",
              "   'preprocessing__numerical__poly__degree': 30,\n",
              "   'preprocessing__numerical__poly__include_bias': True,\n",
              "   'preprocessing__numerical__poly__interaction_only': True},\n",
              "  {'preprocessing__numerical__imputer__strategy': 'median',\n",
              "   'preprocessing__numerical__poly__degree': 2,\n",
              "   'preprocessing__numerical__poly__include_bias': False,\n",
              "   'preprocessing__numerical__poly__interaction_only': False},\n",
              "  {'preprocessing__numerical__imputer__strategy': 'median',\n",
              "   'preprocessing__numerical__poly__degree': 2,\n",
              "   'preprocessing__numerical__poly__include_bias': False,\n",
              "   'preprocessing__numerical__poly__interaction_only': True},\n",
              "  {'preprocessing__numerical__imputer__strategy': 'median',\n",
              "   'preprocessing__numerical__poly__degree': 2,\n",
              "   'preprocessing__numerical__poly__include_bias': True,\n",
              "   'preprocessing__numerical__poly__interaction_only': False},\n",
              "  {'preprocessing__numerical__imputer__strategy': 'median',\n",
              "   'preprocessing__numerical__poly__degree': 2,\n",
              "   'preprocessing__numerical__poly__include_bias': True,\n",
              "   'preprocessing__numerical__poly__interaction_only': True},\n",
              "  {'preprocessing__numerical__imputer__strategy': 'median',\n",
              "   'preprocessing__numerical__poly__degree': 3,\n",
              "   'preprocessing__numerical__poly__include_bias': False,\n",
              "   'preprocessing__numerical__poly__interaction_only': False},\n",
              "  {'preprocessing__numerical__imputer__strategy': 'median',\n",
              "   'preprocessing__numerical__poly__degree': 3,\n",
              "   'preprocessing__numerical__poly__include_bias': False,\n",
              "   'preprocessing__numerical__poly__interaction_only': True},\n",
              "  {'preprocessing__numerical__imputer__strategy': 'median',\n",
              "   'preprocessing__numerical__poly__degree': 3,\n",
              "   'preprocessing__numerical__poly__include_bias': True,\n",
              "   'preprocessing__numerical__poly__interaction_only': False},\n",
              "  {'preprocessing__numerical__imputer__strategy': 'median',\n",
              "   'preprocessing__numerical__poly__degree': 3,\n",
              "   'preprocessing__numerical__poly__include_bias': True,\n",
              "   'preprocessing__numerical__poly__interaction_only': True},\n",
              "  {'preprocessing__numerical__imputer__strategy': 'median',\n",
              "   'preprocessing__numerical__poly__degree': 10,\n",
              "   'preprocessing__numerical__poly__include_bias': False,\n",
              "   'preprocessing__numerical__poly__interaction_only': False},\n",
              "  {'preprocessing__numerical__imputer__strategy': 'median',\n",
              "   'preprocessing__numerical__poly__degree': 10,\n",
              "   'preprocessing__numerical__poly__include_bias': False,\n",
              "   'preprocessing__numerical__poly__interaction_only': True},\n",
              "  {'preprocessing__numerical__imputer__strategy': 'median',\n",
              "   'preprocessing__numerical__poly__degree': 10,\n",
              "   'preprocessing__numerical__poly__include_bias': True,\n",
              "   'preprocessing__numerical__poly__interaction_only': False},\n",
              "  {'preprocessing__numerical__imputer__strategy': 'median',\n",
              "   'preprocessing__numerical__poly__degree': 10,\n",
              "   'preprocessing__numerical__poly__include_bias': True,\n",
              "   'preprocessing__numerical__poly__interaction_only': True},\n",
              "  {'preprocessing__numerical__imputer__strategy': 'median',\n",
              "   'preprocessing__numerical__poly__degree': 20,\n",
              "   'preprocessing__numerical__poly__include_bias': False,\n",
              "   'preprocessing__numerical__poly__interaction_only': False},\n",
              "  {'preprocessing__numerical__imputer__strategy': 'median',\n",
              "   'preprocessing__numerical__poly__degree': 20,\n",
              "   'preprocessing__numerical__poly__include_bias': False,\n",
              "   'preprocessing__numerical__poly__interaction_only': True},\n",
              "  {'preprocessing__numerical__imputer__strategy': 'median',\n",
              "   'preprocessing__numerical__poly__degree': 20,\n",
              "   'preprocessing__numerical__poly__include_bias': True,\n",
              "   'preprocessing__numerical__poly__interaction_only': False},\n",
              "  {'preprocessing__numerical__imputer__strategy': 'median',\n",
              "   'preprocessing__numerical__poly__degree': 20,\n",
              "   'preprocessing__numerical__poly__include_bias': True,\n",
              "   'preprocessing__numerical__poly__interaction_only': True},\n",
              "  {'preprocessing__numerical__imputer__strategy': 'median',\n",
              "   'preprocessing__numerical__poly__degree': 30,\n",
              "   'preprocessing__numerical__poly__include_bias': False,\n",
              "   'preprocessing__numerical__poly__interaction_only': False},\n",
              "  {'preprocessing__numerical__imputer__strategy': 'median',\n",
              "   'preprocessing__numerical__poly__degree': 30,\n",
              "   'preprocessing__numerical__poly__include_bias': False,\n",
              "   'preprocessing__numerical__poly__interaction_only': True},\n",
              "  {'preprocessing__numerical__imputer__strategy': 'median',\n",
              "   'preprocessing__numerical__poly__degree': 30,\n",
              "   'preprocessing__numerical__poly__include_bias': True,\n",
              "   'preprocessing__numerical__poly__interaction_only': False},\n",
              "  {'preprocessing__numerical__imputer__strategy': 'median',\n",
              "   'preprocessing__numerical__poly__degree': 30,\n",
              "   'preprocessing__numerical__poly__include_bias': True,\n",
              "   'preprocessing__numerical__poly__interaction_only': True}],\n",
              " 'rank_test_score': array([29,  9, 29,  9,  5,  9,  5,  9,  3,  9,  1,  9, 35,  9, 33,  9, 39,\n",
              "         9, 37,  9, 29,  9, 29,  9,  5,  9,  5,  9,  3,  9,  1,  9, 35,  9,\n",
              "        33,  9, 39,  9, 37,  9], dtype=int32),\n",
              " 'split0_test_score': array([-4.96125244e+09, -4.96091202e+09, -4.96125244e+09, -4.96091202e+09,\n",
              "        -4.96550851e+09, -4.96091202e+09, -4.96550851e+09, -4.96091202e+09,\n",
              "        -4.96231631e+09, -4.96091202e+09, -4.96231631e+09, -4.96091202e+09,\n",
              "        -4.96279368e+09, -4.96091202e+09, -4.96279419e+09, -4.96091202e+09,\n",
              "        -4.96354479e+09, -4.96091202e+09, -4.96325511e+09, -4.96091202e+09,\n",
              "        -4.96125244e+09, -4.96091202e+09, -4.96125244e+09, -4.96091202e+09,\n",
              "        -4.96550851e+09, -4.96091202e+09, -4.96550851e+09, -4.96091202e+09,\n",
              "        -4.96231631e+09, -4.96091202e+09, -4.96231631e+09, -4.96091202e+09,\n",
              "        -4.96279368e+09, -4.96091202e+09, -4.96279419e+09, -4.96091202e+09,\n",
              "        -4.96354479e+09, -4.96091202e+09, -4.96325511e+09, -4.96091202e+09]),\n",
              " 'split0_train_score': array([-5.18045396e+09, -5.18046632e+09, -5.18045396e+09, -5.18046632e+09,\n",
              "        -5.13566790e+09, -5.18046632e+09, -5.13566790e+09, -5.18046632e+09,\n",
              "        -5.10144975e+09, -5.18046632e+09, -5.10144975e+09, -5.18046632e+09,\n",
              "        -5.09984879e+09, -5.18046632e+09, -5.09984871e+09, -5.18046632e+09,\n",
              "        -5.09885747e+09, -5.18046632e+09, -5.09884618e+09, -5.18046632e+09,\n",
              "        -5.18045396e+09, -5.18046632e+09, -5.18045396e+09, -5.18046632e+09,\n",
              "        -5.13566790e+09, -5.18046632e+09, -5.13566790e+09, -5.18046632e+09,\n",
              "        -5.10144975e+09, -5.18046632e+09, -5.10144975e+09, -5.18046632e+09,\n",
              "        -5.09984879e+09, -5.18046632e+09, -5.09984871e+09, -5.18046632e+09,\n",
              "        -5.09885747e+09, -5.18046632e+09, -5.09884618e+09, -5.18046632e+09]),\n",
              " 'split1_test_score': array([-5.00585958e+09, -5.00500511e+09, -5.00585958e+09, -5.00500511e+09,\n",
              "        -4.97023989e+09, -5.00500511e+09, -4.97023989e+09, -5.00500511e+09,\n",
              "        -4.93217821e+09, -5.00500511e+09, -4.93217821e+09, -5.00500511e+09,\n",
              "        -5.14304049e+09, -5.00500511e+09, -5.14298655e+09, -5.00500511e+09,\n",
              "        -1.14108302e+10, -5.00500511e+09, -8.94930713e+09, -5.00500511e+09,\n",
              "        -5.00585958e+09, -5.00500511e+09, -5.00585958e+09, -5.00500511e+09,\n",
              "        -4.97023989e+09, -5.00500511e+09, -4.97023989e+09, -5.00500511e+09,\n",
              "        -4.93217821e+09, -5.00500511e+09, -4.93217821e+09, -5.00500511e+09,\n",
              "        -5.14304049e+09, -5.00500511e+09, -5.14298655e+09, -5.00500511e+09,\n",
              "        -1.14108302e+10, -5.00500511e+09, -8.94930713e+09, -5.00500511e+09]),\n",
              " 'split1_train_score': array([-5.16967994e+09, -5.16972599e+09, -5.16967994e+09, -5.16972599e+09,\n",
              "        -5.13458433e+09, -5.16972599e+09, -5.13458433e+09, -5.16972599e+09,\n",
              "        -5.10919466e+09, -5.16972599e+09, -5.10919466e+09, -5.16972599e+09,\n",
              "        -5.10636152e+09, -5.16972599e+09, -5.10636143e+09, -5.16972599e+09,\n",
              "        -5.10700907e+09, -5.16972599e+09, -5.10701146e+09, -5.16972599e+09,\n",
              "        -5.16967994e+09, -5.16972599e+09, -5.16967994e+09, -5.16972599e+09,\n",
              "        -5.13458433e+09, -5.16972599e+09, -5.13458433e+09, -5.16972599e+09,\n",
              "        -5.10919466e+09, -5.16972599e+09, -5.10919466e+09, -5.16972599e+09,\n",
              "        -5.10636152e+09, -5.16972599e+09, -5.10636143e+09, -5.16972599e+09,\n",
              "        -5.10700907e+09, -5.16972599e+09, -5.10701146e+09, -5.16972599e+09]),\n",
              " 'split2_test_score': array([-5.32941281e+09, -5.32020194e+09, -5.32941281e+09, -5.32020194e+09,\n",
              "        -5.26311520e+09, -5.32020194e+09, -5.26311520e+09, -5.32020194e+09,\n",
              "        -5.24247810e+09, -5.32020194e+09, -5.24247810e+09, -5.32020194e+09,\n",
              "        -5.26576287e+09, -5.32020194e+09, -5.26573735e+09, -5.32020194e+09,\n",
              "        -5.30013368e+09, -5.32020194e+09, -5.30125658e+09, -5.32020194e+09,\n",
              "        -5.32941281e+09, -5.32020194e+09, -5.32941281e+09, -5.32020194e+09,\n",
              "        -5.26311520e+09, -5.32020194e+09, -5.26311520e+09, -5.32020194e+09,\n",
              "        -5.24247810e+09, -5.32020194e+09, -5.24247810e+09, -5.32020194e+09,\n",
              "        -5.26576287e+09, -5.32020194e+09, -5.26573735e+09, -5.32020194e+09,\n",
              "        -5.30013368e+09, -5.32020194e+09, -5.30125658e+09, -5.32020194e+09]),\n",
              " 'split2_train_score': array([-5.08959723e+09, -5.09087507e+09, -5.08959723e+09, -5.09087507e+09,\n",
              "        -5.06278543e+09, -5.09087507e+09, -5.06278543e+09, -5.09087507e+09,\n",
              "        -5.03259707e+09, -5.09087507e+09, -5.03259707e+09, -5.09087507e+09,\n",
              "        -5.03131323e+09, -5.09087507e+09, -5.03131323e+09, -5.09087507e+09,\n",
              "        -5.03076833e+09, -5.09087507e+09, -5.03075799e+09, -5.09087507e+09,\n",
              "        -5.08959723e+09, -5.09087507e+09, -5.08959723e+09, -5.09087507e+09,\n",
              "        -5.06278543e+09, -5.09087507e+09, -5.06278543e+09, -5.09087507e+09,\n",
              "        -5.03259707e+09, -5.09087507e+09, -5.03259707e+09, -5.09087507e+09,\n",
              "        -5.03131323e+09, -5.09087507e+09, -5.03131323e+09, -5.09087507e+09,\n",
              "        -5.03076833e+09, -5.09087507e+09, -5.03075799e+09, -5.09087507e+09]),\n",
              " 'split3_test_score': array([-5.12176521e+09, -5.12183260e+09, -5.12176521e+09, -5.12183260e+09,\n",
              "        -5.10500860e+09, -5.12183260e+09, -5.10500860e+09, -5.12183260e+09,\n",
              "        -5.09089509e+09, -5.12183260e+09, -5.09089509e+09, -5.12183260e+09,\n",
              "        -5.11181236e+09, -5.12183260e+09, -5.11179980e+09, -5.12183260e+09,\n",
              "        -5.16385965e+09, -5.12183260e+09, -5.15619184e+09, -5.12183260e+09,\n",
              "        -5.12176521e+09, -5.12183260e+09, -5.12176521e+09, -5.12183260e+09,\n",
              "        -5.10500860e+09, -5.12183260e+09, -5.10500860e+09, -5.12183260e+09,\n",
              "        -5.09089509e+09, -5.12183260e+09, -5.09089509e+09, -5.12183260e+09,\n",
              "        -5.11181236e+09, -5.12183260e+09, -5.11179980e+09, -5.12183260e+09,\n",
              "        -5.16385965e+09, -5.12183260e+09, -5.15619184e+09, -5.12183260e+09]),\n",
              " 'split3_train_score': array([-5.14035021e+09, -5.14038752e+09, -5.14035021e+09, -5.14038752e+09,\n",
              "        -5.10073968e+09, -5.14038752e+09, -5.10073968e+09, -5.14038752e+09,\n",
              "        -5.07006291e+09, -5.14038752e+09, -5.07006291e+09, -5.14038752e+09,\n",
              "        -5.06587961e+09, -5.14038752e+09, -5.06587954e+09, -5.14038752e+09,\n",
              "        -5.06778889e+09, -5.14038752e+09, -5.06780110e+09, -5.14038752e+09,\n",
              "        -5.14035021e+09, -5.14038752e+09, -5.14035021e+09, -5.14038752e+09,\n",
              "        -5.10073968e+09, -5.14038752e+09, -5.10073968e+09, -5.14038752e+09,\n",
              "        -5.07006291e+09, -5.14038752e+09, -5.07006291e+09, -5.14038752e+09,\n",
              "        -5.06587961e+09, -5.14038752e+09, -5.06587954e+09, -5.14038752e+09,\n",
              "        -5.06778889e+09, -5.14038752e+09, -5.06780110e+09, -5.14038752e+09]),\n",
              " 'split4_test_score': array([-5.27978460e+09, -5.27988755e+09, -5.27978460e+09, -5.27988755e+09,\n",
              "        -5.22632855e+09, -5.27988755e+09, -5.22632855e+09, -5.27988755e+09,\n",
              "        -5.18966240e+09, -5.27988755e+09, -5.18966240e+09, -5.27988755e+09,\n",
              "        -5.91045425e+09, -5.27988755e+09, -5.91016952e+09, -5.27988755e+09,\n",
              "        -5.24710504e+09, -5.27988755e+09, -5.49356634e+09, -5.27988755e+09,\n",
              "        -5.27978460e+09, -5.27988755e+09, -5.27978460e+09, -5.27988755e+09,\n",
              "        -5.22632855e+09, -5.27988755e+09, -5.22632855e+09, -5.27988755e+09,\n",
              "        -5.18966240e+09, -5.27988755e+09, -5.18966240e+09, -5.27988755e+09,\n",
              "        -5.91045425e+09, -5.27988755e+09, -5.91016952e+09, -5.27988755e+09,\n",
              "        -5.24710504e+09, -5.27988755e+09, -5.49356634e+09, -5.27988755e+09]),\n",
              " 'split4_train_score': array([-5.10072307e+09, -5.10072766e+09, -5.10072307e+09, -5.10072766e+09,\n",
              "        -5.07051181e+09, -5.10072766e+09, -5.07051181e+09, -5.10072766e+09,\n",
              "        -5.04459491e+09, -5.10072766e+09, -5.04459491e+09, -5.10072766e+09,\n",
              "        -5.03869065e+09, -5.10072766e+09, -5.03869064e+09, -5.10072766e+09,\n",
              "        -5.03826865e+09, -5.10072766e+09, -5.03824337e+09, -5.10072766e+09,\n",
              "        -5.10072307e+09, -5.10072766e+09, -5.10072307e+09, -5.10072766e+09,\n",
              "        -5.07051181e+09, -5.10072766e+09, -5.07051181e+09, -5.10072766e+09,\n",
              "        -5.04459491e+09, -5.10072766e+09, -5.04459491e+09, -5.10072766e+09,\n",
              "        -5.03869065e+09, -5.10072766e+09, -5.03869064e+09, -5.10072766e+09,\n",
              "        -5.03826865e+09, -5.10072766e+09, -5.03824337e+09, -5.10072766e+09]),\n",
              " 'std_fit_time': array([0.01005661, 0.00162678, 0.00139653, 0.00012568, 0.00013527,\n",
              "        0.00069766, 0.00080588, 0.00026652, 0.00046796, 0.00582227,\n",
              "        0.01391437, 0.00926668, 0.01768477, 0.00689789, 0.02236842,\n",
              "        0.00542185, 0.01166973, 0.00397344, 0.02392769, 0.0026365 ,\n",
              "        0.00022939, 0.00171235, 0.0004615 , 0.00016779, 0.00040961,\n",
              "        0.00036131, 0.00189499, 0.00032578, 0.00093038, 0.00828222,\n",
              "        0.01486455, 0.00729273, 0.01547521, 0.0045045 , 0.02382144,\n",
              "        0.0063066 , 0.01976096, 0.00697594, 0.0267675 , 0.00534043]),\n",
              " 'std_score_time': array([2.24544101e-04, 3.54811851e-03, 4.41230731e-04, 5.59568761e-05,\n",
              "        1.84059291e-04, 1.49445010e-04, 3.55045263e-04, 1.86916985e-03,\n",
              "        1.49723755e-04, 3.91016002e-03, 1.65220476e-03, 1.95474992e-03,\n",
              "        2.96027736e-03, 1.44453504e-03, 2.57645138e-03, 1.94767496e-03,\n",
              "        1.80227913e-03, 9.25178865e-05, 5.90649687e-03, 1.46145525e-04,\n",
              "        3.85281255e-04, 4.90643424e-05, 3.98170637e-04, 6.88625171e-05,\n",
              "        1.32121931e-04, 2.19900358e-03, 4.49676872e-04, 7.50151997e-05,\n",
              "        1.35468946e-03, 2.81503508e-03, 2.37219319e-03, 3.79695532e-03,\n",
              "        1.68271689e-03, 2.37778752e-03, 4.98976035e-03, 1.79559715e-03,\n",
              "        3.02726714e-03, 2.06971018e-03, 2.92241435e-03, 5.58085055e-03]),\n",
              " 'std_test_score': array([1.45391234e+08, 1.43274471e+08, 1.45391234e+08, 1.43274471e+08,\n",
              "        1.24365420e+08, 1.43274471e+08, 1.24365420e+08, 1.43274471e+08,\n",
              "        1.21805542e+08, 1.43274471e+08, 1.21805542e+08, 1.43274471e+08,\n",
              "        3.30252196e+08, 1.43274471e+08, 3.30149081e+08, 1.43274471e+08,\n",
              "        2.49949104e+09, 1.43274471e+08, 1.49841649e+09, 1.43274471e+08,\n",
              "        1.45391234e+08, 1.43274471e+08, 1.45391234e+08, 1.43274471e+08,\n",
              "        1.24365420e+08, 1.43274471e+08, 1.24365420e+08, 1.43274471e+08,\n",
              "        1.21805542e+08, 1.43274471e+08, 1.21805542e+08, 1.43274471e+08,\n",
              "        3.30252196e+08, 1.43274471e+08, 3.30149081e+08, 1.43274471e+08,\n",
              "        2.49949104e+09, 1.43274471e+08, 1.49841649e+09, 1.43274471e+08]),\n",
              " 'std_train_score': array([36130228.2319528 , 35814497.64286604, 36130228.2319528 ,\n",
              "        35814497.6428658 , 30723347.81786095, 35814497.64286604,\n",
              "        30723347.81786074, 35814497.6428658 , 30190163.17325696,\n",
              "        35814497.64286604, 30190163.173284  , 35814497.6428658 ,\n",
              "        30641566.06208852, 35814497.64286604, 30641531.12980252,\n",
              "        35814497.6428658 , 30798169.8422619 , 35814497.64286604,\n",
              "        30803990.46850482, 35814497.6428658 , 36130228.2319528 ,\n",
              "        35814497.64286604, 36130228.2319528 , 35814497.6428658 ,\n",
              "        30723347.81786095, 35814497.64286604, 30723347.81786074,\n",
              "        35814497.6428658 , 30190163.17325696, 35814497.64286604,\n",
              "        30190163.173284  , 35814497.6428658 , 30641566.06208852,\n",
              "        35814497.64286604, 30641531.12980252, 35814497.6428658 ,\n",
              "        30798169.8422619 , 35814497.64286604, 30803990.46850482,\n",
              "        35814497.6428658 ])}"
            ]
          },
          "metadata": {},
          "execution_count": 19
        }
      ]
    },
    {
      "cell_type": "code",
      "metadata": {
        "id": "literary-cleanup",
        "outputId": "877e9aee-9c01-4707-834d-ec7b3ba99eff",
        "colab": {
          "base_uri": "https://localhost:8080/"
        }
      },
      "source": [
        "n_folds = 5\n",
        "split_keys = [f'split{i}_test_score' for i in range(n_folds)]\n",
        "best_index = grid_search_scenario_1.best_index_\n",
        "\n",
        "rmse_scores = []\n",
        "\n",
        "for key in split_keys:\n",
        "    neg_mse_score = grid_search_scenario_1.cv_results_[key][best_index]\n",
        "    rmse_scores.append(np.sqrt(-neg_mse_score))\n",
        "\n",
        "best_rmse = np.mean(rmse_scores)\n",
        "best_rmse_std = np.std(rmse_scores)\n",
        "\n",
        "\n",
        "print(f'Best RMSE score: {best_rmse} +- {best_rmse_std}')"
      ],
      "id": "literary-cleanup",
      "execution_count": 20,
      "outputs": [
        {
          "output_type": "stream",
          "name": "stdout",
          "text": [
            "Best RMSE score: 71293.5915409548 +- 854.2988116963052\n"
          ]
        }
      ]
    },
    {
      "cell_type": "markdown",
      "metadata": {
        "id": "elect-season"
      },
      "source": [
        "By doing it in the _mathematically correct way_, we see that the **true mean RMSE** (\\\\$71,293.59) is very close from the approximated one (\\\\$71,298.70). <br/>\n",
        "However, the **true standard deviation for RMSE** (\\$854.29) is _considerably smaller_ than the approximated one (\\\\$11,036.55)."
      ],
      "id": "elect-season"
    },
    {
      "cell_type": "markdown",
      "metadata": {
        "id": "material-vision"
      },
      "source": [
        "### **Scenario 2**"
      ],
      "id": "material-vision"
    },
    {
      "cell_type": "code",
      "metadata": {
        "id": "distributed-jurisdiction",
        "outputId": "17a74ce0-76d6-4eb8-845e-1a921ebe8eae",
        "colab": {
          "base_uri": "https://localhost:8080/"
        }
      },
      "source": [
        "full_pipeline_scenario_2.get_params()"
      ],
      "id": "distributed-jurisdiction",
      "execution_count": 21,
      "outputs": [
        {
          "output_type": "execute_result",
          "data": {
            "text/plain": [
              "{'lin_regression': LinearRegression(copy_X=True, fit_intercept=True, n_jobs=None, normalize=False),\n",
              " 'lin_regression__copy_X': True,\n",
              " 'lin_regression__fit_intercept': True,\n",
              " 'lin_regression__n_jobs': None,\n",
              " 'lin_regression__normalize': False,\n",
              " 'memory': None,\n",
              " 'preprocessing': ColumnTransformer(n_jobs=None, remainder='drop', sparse_threshold=0.3,\n",
              "                   transformer_weights=None,\n",
              "                   transformers=[('numerical',\n",
              "                                  Pipeline(memory=None,\n",
              "                                           steps=[('imputer',\n",
              "                                                   SimpleImputer(add_indicator=False,\n",
              "                                                                 copy=True,\n",
              "                                                                 fill_value=None,\n",
              "                                                                 missing_values=nan,\n",
              "                                                                 strategy='mean',\n",
              "                                                                 verbose=0)),\n",
              "                                                  ('feat_engineering',\n",
              "                                                   HousingFeatEngineering()),\n",
              "                                                  ('drop_features',\n",
              "                                                   DropFeatures(verbose=...\n",
              "                                                   PolynomialFeatures(degree=2,\n",
              "                                                                      include_bias=True,\n",
              "                                                                      interaction_only=False,\n",
              "                                                                      order='C')),\n",
              "                                                  ('scaler',\n",
              "                                                   RobustScaler(copy=True,\n",
              "                                                                quantile_range=(25.0,\n",
              "                                                                                75.0),\n",
              "                                                                with_centering=True,\n",
              "                                                                with_scaling=True))],\n",
              "                                           verbose=False),\n",
              "                                  Index(['longitude', 'latitude', 'housing_median_age', 'total_rooms',\n",
              "        'total_bedrooms', 'population', 'households', 'median_income'],\n",
              "       dtype='object'))],\n",
              "                   verbose=False),\n",
              " 'preprocessing__n_jobs': None,\n",
              " 'preprocessing__numerical': Pipeline(memory=None,\n",
              "          steps=[('imputer',\n",
              "                  SimpleImputer(add_indicator=False, copy=True, fill_value=None,\n",
              "                                missing_values=nan, strategy='mean',\n",
              "                                verbose=0)),\n",
              "                 ('feat_engineering', HousingFeatEngineering()),\n",
              "                 ('drop_features', DropFeatures(verbose=False)),\n",
              "                 ('poly',\n",
              "                  PolynomialFeatures(degree=2, include_bias=True,\n",
              "                                     interaction_only=False, order='C')),\n",
              "                 ('scaler',\n",
              "                  RobustScaler(copy=True, quantile_range=(25.0, 75.0),\n",
              "                               with_centering=True, with_scaling=True))],\n",
              "          verbose=False),\n",
              " 'preprocessing__numerical__drop_features': DropFeatures(verbose=False),\n",
              " 'preprocessing__numerical__drop_features__verbose': False,\n",
              " 'preprocessing__numerical__feat_engineering': HousingFeatEngineering(),\n",
              " 'preprocessing__numerical__imputer': SimpleImputer(add_indicator=False, copy=True, fill_value=None,\n",
              "               missing_values=nan, strategy='mean', verbose=0),\n",
              " 'preprocessing__numerical__imputer__add_indicator': False,\n",
              " 'preprocessing__numerical__imputer__copy': True,\n",
              " 'preprocessing__numerical__imputer__fill_value': None,\n",
              " 'preprocessing__numerical__imputer__missing_values': nan,\n",
              " 'preprocessing__numerical__imputer__strategy': 'mean',\n",
              " 'preprocessing__numerical__imputer__verbose': 0,\n",
              " 'preprocessing__numerical__memory': None,\n",
              " 'preprocessing__numerical__poly': PolynomialFeatures(degree=2, include_bias=True, interaction_only=False,\n",
              "                    order='C'),\n",
              " 'preprocessing__numerical__poly__degree': 2,\n",
              " 'preprocessing__numerical__poly__include_bias': True,\n",
              " 'preprocessing__numerical__poly__interaction_only': False,\n",
              " 'preprocessing__numerical__poly__order': 'C',\n",
              " 'preprocessing__numerical__scaler': RobustScaler(copy=True, quantile_range=(25.0, 75.0), with_centering=True,\n",
              "              with_scaling=True),\n",
              " 'preprocessing__numerical__scaler__copy': True,\n",
              " 'preprocessing__numerical__scaler__quantile_range': (25.0, 75.0),\n",
              " 'preprocessing__numerical__scaler__with_centering': True,\n",
              " 'preprocessing__numerical__scaler__with_scaling': True,\n",
              " 'preprocessing__numerical__steps': [('imputer',\n",
              "   SimpleImputer(add_indicator=False, copy=True, fill_value=None,\n",
              "                 missing_values=nan, strategy='mean', verbose=0)),\n",
              "  ('feat_engineering', HousingFeatEngineering()),\n",
              "  ('drop_features', DropFeatures(verbose=False)),\n",
              "  ('poly',\n",
              "   PolynomialFeatures(degree=2, include_bias=True, interaction_only=False,\n",
              "                      order='C')),\n",
              "  ('scaler',\n",
              "   RobustScaler(copy=True, quantile_range=(25.0, 75.0), with_centering=True,\n",
              "                with_scaling=True))],\n",
              " 'preprocessing__numerical__verbose': False,\n",
              " 'preprocessing__remainder': 'drop',\n",
              " 'preprocessing__sparse_threshold': 0.3,\n",
              " 'preprocessing__transformer_weights': None,\n",
              " 'preprocessing__transformers': [('numerical', Pipeline(memory=None,\n",
              "            steps=[('imputer',\n",
              "                    SimpleImputer(add_indicator=False, copy=True, fill_value=None,\n",
              "                                  missing_values=nan, strategy='mean',\n",
              "                                  verbose=0)),\n",
              "                   ('feat_engineering', HousingFeatEngineering()),\n",
              "                   ('drop_features', DropFeatures(verbose=False)),\n",
              "                   ('poly',\n",
              "                    PolynomialFeatures(degree=2, include_bias=True,\n",
              "                                       interaction_only=False, order='C')),\n",
              "                   ('scaler',\n",
              "                    RobustScaler(copy=True, quantile_range=(25.0, 75.0),\n",
              "                                 with_centering=True, with_scaling=True))],\n",
              "            verbose=False), Index(['longitude', 'latitude', 'housing_median_age', 'total_rooms',\n",
              "          'total_bedrooms', 'population', 'households', 'median_income'],\n",
              "         dtype='object'))],\n",
              " 'preprocessing__verbose': False,\n",
              " 'steps': [('preprocessing',\n",
              "   ColumnTransformer(n_jobs=None, remainder='drop', sparse_threshold=0.3,\n",
              "                     transformer_weights=None,\n",
              "                     transformers=[('numerical',\n",
              "                                    Pipeline(memory=None,\n",
              "                                             steps=[('imputer',\n",
              "                                                     SimpleImputer(add_indicator=False,\n",
              "                                                                   copy=True,\n",
              "                                                                   fill_value=None,\n",
              "                                                                   missing_values=nan,\n",
              "                                                                   strategy='mean',\n",
              "                                                                   verbose=0)),\n",
              "                                                    ('feat_engineering',\n",
              "                                                     HousingFeatEngineering()),\n",
              "                                                    ('drop_features',\n",
              "                                                     DropFeatures(verbose=...\n",
              "                                                     PolynomialFeatures(degree=2,\n",
              "                                                                        include_bias=True,\n",
              "                                                                        interaction_only=False,\n",
              "                                                                        order='C')),\n",
              "                                                    ('scaler',\n",
              "                                                     RobustScaler(copy=True,\n",
              "                                                                  quantile_range=(25.0,\n",
              "                                                                                  75.0),\n",
              "                                                                  with_centering=True,\n",
              "                                                                  with_scaling=True))],\n",
              "                                             verbose=False),\n",
              "                                    Index(['longitude', 'latitude', 'housing_median_age', 'total_rooms',\n",
              "          'total_bedrooms', 'population', 'households', 'median_income'],\n",
              "         dtype='object'))],\n",
              "                     verbose=False)),\n",
              "  ('lin_regression',\n",
              "   LinearRegression(copy_X=True, fit_intercept=True, n_jobs=None, normalize=False))],\n",
              " 'verbose': False}"
            ]
          },
          "metadata": {},
          "execution_count": 21
        }
      ]
    },
    {
      "cell_type": "markdown",
      "metadata": {
        "id": "smaller-profit"
      },
      "source": [
        "Since our feature matrix has a considerable number of features, for computation time reasons, we decided to:\n",
        "- Consider a small number of hyperparameter combinations (small search space)\n",
        "- Low polynomial degrees"
      ],
      "id": "smaller-profit"
    },
    {
      "cell_type": "code",
      "metadata": {
        "id": "computational-strip",
        "outputId": "a6857b90-403a-4768-e822-d8b5fa18fd4f",
        "colab": {
          "base_uri": "https://localhost:8080/"
        }
      },
      "source": [
        "from sklearn.model_selection import GridSearchCV\n",
        "\n",
        "param_grid_scenario_2 = [\n",
        "    {\n",
        "     'preprocessing__numerical__imputer__strategy': ['mean', 'median'],\n",
        "     'preprocessing__numerical__poly__degree': [2, 3, 4, 5],\n",
        "     'preprocessing__numerical__poly__include_bias': [False, True],\n",
        "     'preprocessing__numerical__poly__interaction_only': [False]\n",
        "    }\n",
        "]\n",
        "\n",
        "grid_search_scenario_2 = GridSearchCV(full_pipeline_scenario_2, param_grid_scenario_2, cv=5, scoring='neg_mean_squared_error', return_train_score=True, verbose=1)\n",
        "grid_search_scenario_2.fit(housing_train, y_train)"
      ],
      "id": "computational-strip",
      "execution_count": 22,
      "outputs": [
        {
          "output_type": "stream",
          "name": "stdout",
          "text": [
            "Fitting 5 folds for each of 16 candidates, totalling 80 fits\n"
          ]
        },
        {
          "output_type": "stream",
          "name": "stderr",
          "text": [
            "[Parallel(n_jobs=1)]: Using backend SequentialBackend with 1 concurrent workers.\n",
            "[Parallel(n_jobs=1)]: Done  80 out of  80 | elapsed:  1.1min finished\n"
          ]
        },
        {
          "output_type": "execute_result",
          "data": {
            "text/plain": [
              "GridSearchCV(cv=5, error_score=nan,\n",
              "             estimator=Pipeline(memory=None,\n",
              "                                steps=[('preprocessing',\n",
              "                                        ColumnTransformer(n_jobs=None,\n",
              "                                                          remainder='drop',\n",
              "                                                          sparse_threshold=0.3,\n",
              "                                                          transformer_weights=None,\n",
              "                                                          transformers=[('numerical',\n",
              "                                                                         Pipeline(memory=None,\n",
              "                                                                                  steps=[('imputer',\n",
              "                                                                                          SimpleImputer(add_indicator=False,\n",
              "                                                                                                        copy=True,\n",
              "                                                                                                        fill_value=None,\n",
              "                                                                                                        missing_values=nan,\n",
              "                                                                                                        strategy='mean',\n",
              "                                                                                                        verbose...\n",
              "             param_grid=[{'preprocessing__numerical__imputer__strategy': ['mean',\n",
              "                                                                          'median'],\n",
              "                          'preprocessing__numerical__poly__degree': [2, 3, 4,\n",
              "                                                                     5],\n",
              "                          'preprocessing__numerical__poly__include_bias': [False,\n",
              "                                                                           True],\n",
              "                          'preprocessing__numerical__poly__interaction_only': [False]}],\n",
              "             pre_dispatch='2*n_jobs', refit=True, return_train_score=True,\n",
              "             scoring='neg_mean_squared_error', verbose=1)"
            ]
          },
          "metadata": {},
          "execution_count": 22
        }
      ]
    },
    {
      "cell_type": "code",
      "metadata": {
        "id": "noble-degree",
        "outputId": "d6ac359e-ddbf-4334-920c-5dac49117855",
        "colab": {
          "base_uri": "https://localhost:8080/"
        }
      },
      "source": [
        "cvres = grid_search_scenario_2.cv_results_\n",
        "\n",
        "for mean_score, params in zip(cvres[\"mean_test_score\"], cvres[\"params\"]):\n",
        "    print(np.sqrt(-mean_score), params)"
      ],
      "id": "noble-degree",
      "execution_count": 23,
      "outputs": [
        {
          "output_type": "stream",
          "name": "stdout",
          "text": [
            "626165.2300309275 {'preprocessing__numerical__imputer__strategy': 'mean', 'preprocessing__numerical__poly__degree': 2, 'preprocessing__numerical__poly__include_bias': False, 'preprocessing__numerical__poly__interaction_only': False}\n",
            "626165.2300306327 {'preprocessing__numerical__imputer__strategy': 'mean', 'preprocessing__numerical__poly__degree': 2, 'preprocessing__numerical__poly__include_bias': True, 'preprocessing__numerical__poly__interaction_only': False}\n",
            "206771298.94746405 {'preprocessing__numerical__imputer__strategy': 'mean', 'preprocessing__numerical__poly__degree': 3, 'preprocessing__numerical__poly__include_bias': False, 'preprocessing__numerical__poly__interaction_only': False}\n",
            "206771298.93513462 {'preprocessing__numerical__imputer__strategy': 'mean', 'preprocessing__numerical__poly__degree': 3, 'preprocessing__numerical__poly__include_bias': True, 'preprocessing__numerical__poly__interaction_only': False}\n",
            "94247697670.66211 {'preprocessing__numerical__imputer__strategy': 'mean', 'preprocessing__numerical__poly__degree': 4, 'preprocessing__numerical__poly__include_bias': False, 'preprocessing__numerical__poly__interaction_only': False}\n",
            "94687941827.60674 {'preprocessing__numerical__imputer__strategy': 'mean', 'preprocessing__numerical__poly__degree': 4, 'preprocessing__numerical__poly__include_bias': True, 'preprocessing__numerical__poly__interaction_only': False}\n",
            "10848119958626.979 {'preprocessing__numerical__imputer__strategy': 'mean', 'preprocessing__numerical__poly__degree': 5, 'preprocessing__numerical__poly__include_bias': False, 'preprocessing__numerical__poly__interaction_only': False}\n",
            "18769139443186.11 {'preprocessing__numerical__imputer__strategy': 'mean', 'preprocessing__numerical__poly__degree': 5, 'preprocessing__numerical__poly__include_bias': True, 'preprocessing__numerical__poly__interaction_only': False}\n",
            "646941.3162215867 {'preprocessing__numerical__imputer__strategy': 'median', 'preprocessing__numerical__poly__degree': 2, 'preprocessing__numerical__poly__include_bias': False, 'preprocessing__numerical__poly__interaction_only': False}\n",
            "646941.3162222668 {'preprocessing__numerical__imputer__strategy': 'median', 'preprocessing__numerical__poly__degree': 2, 'preprocessing__numerical__poly__include_bias': True, 'preprocessing__numerical__poly__interaction_only': False}\n",
            "210539327.33721006 {'preprocessing__numerical__imputer__strategy': 'median', 'preprocessing__numerical__poly__degree': 3, 'preprocessing__numerical__poly__include_bias': False, 'preprocessing__numerical__poly__interaction_only': False}\n",
            "210539327.37041143 {'preprocessing__numerical__imputer__strategy': 'median', 'preprocessing__numerical__poly__degree': 3, 'preprocessing__numerical__poly__include_bias': True, 'preprocessing__numerical__poly__interaction_only': False}\n",
            "97565355726.18936 {'preprocessing__numerical__imputer__strategy': 'median', 'preprocessing__numerical__poly__degree': 4, 'preprocessing__numerical__poly__include_bias': False, 'preprocessing__numerical__poly__interaction_only': False}\n",
            "98604896808.51988 {'preprocessing__numerical__imputer__strategy': 'median', 'preprocessing__numerical__poly__degree': 4, 'preprocessing__numerical__poly__include_bias': True, 'preprocessing__numerical__poly__interaction_only': False}\n",
            "23380530217986.105 {'preprocessing__numerical__imputer__strategy': 'median', 'preprocessing__numerical__poly__degree': 5, 'preprocessing__numerical__poly__include_bias': False, 'preprocessing__numerical__poly__interaction_only': False}\n",
            "34740781060757.363 {'preprocessing__numerical__imputer__strategy': 'median', 'preprocessing__numerical__poly__degree': 5, 'preprocessing__numerical__poly__include_bias': True, 'preprocessing__numerical__poly__interaction_only': False}\n"
          ]
        }
      ]
    },
    {
      "cell_type": "code",
      "metadata": {
        "id": "ethical-advance",
        "outputId": "38994df1-4d8d-4467-c458-97fd8864bf4b",
        "colab": {
          "base_uri": "https://localhost:8080/"
        }
      },
      "source": [
        "grid_search_scenario_2.best_params_"
      ],
      "id": "ethical-advance",
      "execution_count": 24,
      "outputs": [
        {
          "output_type": "execute_result",
          "data": {
            "text/plain": [
              "{'preprocessing__numerical__imputer__strategy': 'mean',\n",
              " 'preprocessing__numerical__poly__degree': 2,\n",
              " 'preprocessing__numerical__poly__include_bias': True,\n",
              " 'preprocessing__numerical__poly__interaction_only': False}"
            ]
          },
          "metadata": {},
          "execution_count": 24
        }
      ]
    },
    {
      "cell_type": "code",
      "metadata": {
        "id": "standing-details",
        "outputId": "3c6ab4e0-4746-488f-ce01-0fb359589e6a",
        "colab": {
          "base_uri": "https://localhost:8080/"
        }
      },
      "source": [
        "# if refit=True, it returns a model trained with the full training set with the best hyperparameters\n",
        "best_model = grid_search_scenario_2.best_estimator_\n",
        "best_model"
      ],
      "id": "standing-details",
      "execution_count": 25,
      "outputs": [
        {
          "output_type": "execute_result",
          "data": {
            "text/plain": [
              "Pipeline(memory=None,\n",
              "         steps=[('preprocessing',\n",
              "                 ColumnTransformer(n_jobs=None, remainder='drop',\n",
              "                                   sparse_threshold=0.3,\n",
              "                                   transformer_weights=None,\n",
              "                                   transformers=[('numerical',\n",
              "                                                  Pipeline(memory=None,\n",
              "                                                           steps=[('imputer',\n",
              "                                                                   SimpleImputer(add_indicator=False,\n",
              "                                                                                 copy=True,\n",
              "                                                                                 fill_value=None,\n",
              "                                                                                 missing_values=nan,\n",
              "                                                                                 strategy='mean',\n",
              "                                                                                 verbose=0)),\n",
              "                                                                  ('feat_engineering',\n",
              "                                                                   HousingFeatEngineer...\n",
              "                                                                                quantile_range=(25.0,\n",
              "                                                                                                75.0),\n",
              "                                                                                with_centering=True,\n",
              "                                                                                with_scaling=True))],\n",
              "                                                           verbose=False),\n",
              "                                                  Index(['longitude', 'latitude', 'housing_median_age', 'total_rooms',\n",
              "       'total_bedrooms', 'population', 'households', 'median_income'],\n",
              "      dtype='object'))],\n",
              "                                   verbose=False)),\n",
              "                ('lin_regression',\n",
              "                 LinearRegression(copy_X=True, fit_intercept=True, n_jobs=None,\n",
              "                                  normalize=False))],\n",
              "         verbose=False)"
            ]
          },
          "metadata": {},
          "execution_count": 25
        }
      ]
    },
    {
      "cell_type": "code",
      "metadata": {
        "id": "absolute-court",
        "outputId": "517b9446-3f78-436d-8cdf-d40362ab8e07",
        "colab": {
          "base_uri": "https://localhost:8080/"
        }
      },
      "source": [
        "# best approximated RMSE\n",
        "np.sqrt(-grid_search_scenario_2.best_score_)"
      ],
      "id": "absolute-court",
      "execution_count": 26,
      "outputs": [
        {
          "output_type": "execute_result",
          "data": {
            "text/plain": [
              "626165.2300306327"
            ]
          },
          "metadata": {},
          "execution_count": 26
        }
      ]
    },
    {
      "cell_type": "code",
      "metadata": {
        "id": "august-parking",
        "outputId": "1cfedacb-3529-4d95-8bec-a665dd8da4e3",
        "colab": {
          "base_uri": "https://localhost:8080/"
        }
      },
      "source": [
        "# get the approximated RMSE and its standard deviation\n",
        "best_index = grid_search_scenario_2.best_index_\n",
        "best_score = np.sqrt(-grid_search_scenario_2.cv_results_['mean_test_score'][best_index])\n",
        "best_score_std = np.sqrt(grid_search_scenario_2.cv_results_['std_test_score'][best_index])\n",
        "\n",
        "print(f'Best score: {best_score} +- {best_score_std}')"
      ],
      "id": "august-parking",
      "execution_count": 27,
      "outputs": [
        {
          "output_type": "stream",
          "name": "stdout",
          "text": [
            "Best score: 626165.2300306327 +- 874997.3364990911\n"
          ]
        }
      ]
    },
    {
      "cell_type": "code",
      "metadata": {
        "id": "atmospheric-council",
        "outputId": "3c1f0d6a-dcc6-4e59-b031-18384c7e7df9",
        "colab": {
          "base_uri": "https://localhost:8080/"
        }
      },
      "source": [
        "n_folds = 5\n",
        "split_keys = [f'split{i}_test_score' for i in range(n_folds)]\n",
        "best_index = grid_search_scenario_2.best_index_\n",
        "\n",
        "rmse_scores = []\n",
        "\n",
        "for key in split_keys:\n",
        "    neg_mse_score = grid_search_scenario_2.cv_results_[key][best_index]\n",
        "    rmse_scores.append(np.sqrt(-neg_mse_score))\n",
        "\n",
        "best_rmse = np.mean(rmse_scores)\n",
        "best_rmse_std = np.std(rmse_scores)\n",
        "\n",
        "\n",
        "print(f'Best RMSE score: {best_rmse} +- {best_rmse_std}')"
      ],
      "id": "atmospheric-council",
      "execution_count": 28,
      "outputs": [
        {
          "output_type": "stream",
          "name": "stdout",
          "text": [
            "Best RMSE score: 345172.71675296745 +- 522435.3461517424\n"
          ]
        }
      ]
    },
    {
      "cell_type": "markdown",
      "metadata": {
        "id": "temporal-water"
      },
      "source": [
        "<br/>\n",
        "\n",
        "The large **best true RMSE** (\\\\$345,172.71) -- even larger for the approximated one (\\\\$626,165.23) -- shows that (i) this model is not suitable for the problem, and/or (ii) the considered _search space_ is insufficient to get better models. <br/>\n",
        "\n",
        "We'd better throw this model away."
      ],
      "id": "temporal-water"
    },
    {
      "cell_type": "code",
      "metadata": {
        "id": "approximate-grace"
      },
      "source": [
        ""
      ],
      "id": "approximate-grace",
      "execution_count": null,
      "outputs": []
    }
  ]
}