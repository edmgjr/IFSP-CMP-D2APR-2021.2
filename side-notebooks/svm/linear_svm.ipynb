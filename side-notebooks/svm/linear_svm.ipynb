{
 "cells": [
  {
   "cell_type": "markdown",
   "id": "6a37f8e4-7457-4db2-b356-5cb855e2deb0",
   "metadata": {},
   "source": [
    "### **D2APR: Aprendizado de Máquina e Reconhecimento de Padrões** (IFSP, Campinas) <br/>\n",
    "**Prof**: Samuel Martins (Samuka) <br/>\n",
    "\n",
    "<a rel=\"license\" href=\"http://creativecommons.org/licenses/by-nc-sa/4.0/\"><img alt=\"Creative Commons License\" style=\"border-width:0\" src=\"https://i.creativecommons.org/l/by-nc-sa/4.0/88x31.png\" /></a><br />This work is licensed under a <a rel=\"license\" href=\"http://creativecommons.org/licenses/by-nc-sa/4.0/\">Creative Commons Attribution-NonCommercial-ShareAlike 4.0 International License</a>. <br/><br/>"
   ]
  },
  {
   "cell_type": "code",
   "execution_count": null,
   "id": "0496007e-902b-4c05-b6b0-544a8cef1203",
   "metadata": {},
   "outputs": [],
   "source": [
    "import pandas as pd\n",
    "import seaborn as sns\n",
    "import matplotlib.pyplot as plt\n",
    "import numpy as np"
   ]
  },
  {
   "cell_type": "markdown",
   "id": "91d5d211-7be0-42bb-a21a-abbc6a429dc8",
   "metadata": {},
   "source": [
    "# Support Vector Machines"
   ]
  },
  {
   "cell_type": "markdown",
   "id": "737c8eb4-529e-4c7f-9ce7-a16ed40d5e76",
   "metadata": {},
   "source": [
    "## 1. Getting the data"
   ]
  },
  {
   "cell_type": "code",
   "execution_count": null,
   "id": "bf56ae21-5e44-4742-ab85-f1882c8e34db",
   "metadata": {},
   "outputs": [],
   "source": [
    "# reading data\n",
    "data = pd.read_csv('data.csv')\n",
    "data"
   ]
  },
  {
   "cell_type": "code",
   "execution_count": null,
   "id": "ca4d2fae-cb86-4c83-95d8-3cf3e889ff21",
   "metadata": {},
   "outputs": [],
   "source": [
    "sns.scatterplot(data=data, x='Mean Grade', y='Weekly Study Hours', hue='Approved')"
   ]
  },
  {
   "cell_type": "code",
   "execution_count": null,
   "id": "72a81cf9-a106-41e4-9258-84e3dab2f58d",
   "metadata": {},
   "outputs": [],
   "source": [
    "# Getting the feature matrix and classes\n",
    "y = data['Approved'].values\n",
    "X = data.drop(columns='Approved').values"
   ]
  },
  {
   "cell_type": "code",
   "execution_count": null,
   "id": "270193b0-727c-40dc-8862-dac6f687d8da",
   "metadata": {},
   "outputs": [],
   "source": [
    "# split data into train and test\n",
    "from sklearn.model_selection import train_test_split\n",
    "X_train, X_test, y_train, y_test = train_test_split(X, y, test_size=0.2, random_state=99)"
   ]
  },
  {
   "cell_type": "code",
   "execution_count": null,
   "id": "30bb225c-ca3a-4e52-861f-a92d83e787d2",
   "metadata": {},
   "outputs": [],
   "source": [
    "print(f'Train: X_train.shape = {X_train.shape}, y_train.shape = {y_train.shape}')\n",
    "print(f'Test: X_test.shape = {X_test.shape}, y_test.shape = {y_test.shape}')"
   ]
  },
  {
   "cell_type": "markdown",
   "id": "065b8dcb-28e2-4813-8dde-177609267d5d",
   "metadata": {},
   "source": [
    "## 2. Data Normalization"
   ]
  },
  {
   "cell_type": "code",
   "execution_count": null,
   "id": "d50bbe8d-2d0c-46d8-a96b-51804d0f0b44",
   "metadata": {},
   "outputs": [],
   "source": [
    "from sklearn.preprocessing import StandardScaler\n",
    "\n",
    "scaler = StandardScaler()\n",
    "X_train_norm = scaler.fit_transform(X_train)\n",
    "X_test_norm = scaler.transform(X_test)"
   ]
  },
  {
   "cell_type": "code",
   "execution_count": null,
   "id": "d8438c61-4b26-4834-855e-5304127fb724",
   "metadata": {},
   "outputs": [],
   "source": [
    "df = pd.DataFrame({\n",
    "    'Mean Grade': list(X_train_norm[:,0]) + list(X_test_norm[:,0]),\n",
    "    'Weekly Study Hours': list(X_train_norm[:,1]) + list(X_test_norm[:,1]),\n",
    "    'Approved': list(y_train) + list(y_test),\n",
    "    'Type': ['Train'] * y_train.size + ['Test'] * y_test.size\n",
    "})\n",
    "\n",
    "plt.figure(figsize=(8,8))\n",
    "sns.scatterplot(data=df, x='Mean Grade', y='Weekly Study Hours', hue='Approved', style='Type', s=100)"
   ]
  },
  {
   "cell_type": "markdown",
   "id": "06dc307b-8389-4f85-ba1b-e4e8e6a214be",
   "metadata": {},
   "source": [
    "## 3. Linear SVM"
   ]
  },
  {
   "cell_type": "code",
   "execution_count": null,
   "id": "8e49ecfd-d235-4459-a96b-84c0cabf49b0",
   "metadata": {},
   "outputs": [],
   "source": [
    "from sklearn.svm import SVC\n",
    "from sklearn.svm import LinearSVC\n",
    "from sklearn.linear_model import SGDClassifier"
   ]
  },
  {
   "cell_type": "code",
   "execution_count": null,
   "id": "dd2f61de-1469-4b14-a326-499e587ea265",
   "metadata": {},
   "outputs": [],
   "source": [
    "def plot_svc_decision_boundary(svm_clf, xmin, xmax, ax=None):\n",
    "    w = svm_clf.coef_[0]\n",
    "    b = svm_clf.intercept_[0]\n",
    "\n",
    "    # At the decision boundary, w0*x0 + w1*x1 + b = 0\n",
    "    # => x1 = -w0/w1 * x0 - b/w1\n",
    "    x0 = np.linspace(xmin, xmax, 200)\n",
    "    decision_boundary = -w[0]/w[1] * x0 - b/w[1]\n",
    "\n",
    "    margin = 1/w[1]\n",
    "    gutter_up = decision_boundary + margin\n",
    "    gutter_down = decision_boundary - margin\n",
    "    \n",
    "    if ax:\n",
    "        ax.plot(x0, decision_boundary, \"k-\", linewidth=2)\n",
    "        ax.plot(x0, gutter_up, \"k--\", linewidth=2)\n",
    "        ax.plot(x0, gutter_down, \"k--\", linewidth=2)\n",
    "    else:\n",
    "        plt.plot(x0, decision_boundary, \"k-\", linewidth=2)\n",
    "        plt.plot(x0, gutter_up, \"k--\", linewidth=2)\n",
    "        plt.plot(x0, gutter_down, \"k--\", linewidth=2)"
   ]
  },
  {
   "cell_type": "code",
   "execution_count": null,
   "id": "dbd8ebaf-7e46-488a-9f25-fddbc0e5446a",
   "metadata": {},
   "outputs": [],
   "source": [
    "# plotting\n",
    "\n",
    "C = [1e-3, 1, 1e3, 1e6]  # possible hyperparameter C\n",
    "m = X_train_norm.shape[0]  # number of training samples\n",
    "xmin = X_train_norm[:,0].min()\n",
    "xmax = X_train_norm[:,0].max()\n",
    "\n",
    "fig, axes = plt.subplots(4, 3, sharex=True, figsize=(18, 18))\n",
    "\n",
    "for i in range(4):\n",
    "    # LinearSVC\n",
    "    linear_svc_clf = LinearSVC(C=C[i], loss='hinge')\n",
    "    linear_svc_clf.fit(X_train_norm, y_train)\n",
    "    # sns.scatterplot(x=X_norm[:,0], y=X_norm[:,1], hue=y, ax=axes[i,0])\n",
    "    sns.scatterplot(data=df, x='Mean Grade', y='Weekly Study Hours', hue='Approved', style='Type', s=50, ax=axes[i,0])\n",
    "    plot_svc_decision_boundary(linear_svc_clf, xmin, xmax, ax=axes[i,0])\n",
    "    axes[i,0].set_title(f'Linear SVC', fontsize=20)\n",
    "    axes[i,0].set_ylabel(f'C = {C[i]}', fontsize=20)\n",
    "    \n",
    "    # SVC\n",
    "    svc_clf = SVC(kernel='linear', C=C[i])\n",
    "    svc_clf.fit(X_train_norm, y_train)\n",
    "    # sns.scatterplot(x=X_norm[:,0], y=X_norm[:,1], hue=y, ax=axes[i,1])\n",
    "    sns.scatterplot(data=df, x='Mean Grade', y='Weekly Study Hours', hue='Approved', style='Type', s=50, ax=axes[i,1])\n",
    "    plot_svc_decision_boundary(svc_clf, xmin, xmax, ax=axes[i,1])\n",
    "    axes[i,1].set_title(f\"SVC(kernel='linear')\", fontsize=20)\n",
    "    \n",
    "    # SVC\n",
    "    sgd_clf = SGDClassifier(loss='hinge', alpha= 1/(m * C[i]))\n",
    "    sgd_clf.fit(X_train_norm, y_train)\n",
    "    # sns.scatterplot(x=X_norm[:,0], y=X_norm[:,1], hue=y, ax=axes[i,2])\n",
    "    sns.scatterplot(data=df, x='Mean Grade', y='Weekly Study Hours', hue='Approved', style='Type', s=50, ax=axes[i,2])\n",
    "    plot_svc_decision_boundary(sgd_clf, xmin, xmax, ax=axes[i,2])\n",
    "    axes[i,2].set_title(f\"SGDClassifier\", fontsize=20)\n",
    "    \n",
    "    "
   ]
  },
  {
   "cell_type": "code",
   "execution_count": null,
   "id": "18ec9edf-d61a-4a81-a2ee-d3aac4f29d6d",
   "metadata": {},
   "outputs": [],
   "source": []
  }
 ],
 "metadata": {
  "kernelspec": {
   "display_name": "Python 3",
   "language": "python",
   "name": "python3"
  },
  "language_info": {
   "codemirror_mode": {
    "name": "ipython",
    "version": 3
   },
   "file_extension": ".py",
   "mimetype": "text/x-python",
   "name": "python",
   "nbconvert_exporter": "python",
   "pygments_lexer": "ipython3",
   "version": "3.8.5"
  }
 },
 "nbformat": 4,
 "nbformat_minor": 5
}
