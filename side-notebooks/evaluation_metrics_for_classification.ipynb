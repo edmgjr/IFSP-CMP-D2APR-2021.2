{
 "cells": [
  {
   "cell_type": "markdown",
   "id": "6a37f8e4-7457-4db2-b356-5cb855e2deb0",
   "metadata": {},
   "source": [
    "### **D2APR: Aprendizado de Máquina e Reconhecimento de Padrões** (IFSP, Campinas) <br/>\n",
    "**Prof**: Samuel Martins (Samuka) <br/>\n",
    "\n",
    "<a rel=\"license\" href=\"http://creativecommons.org/licenses/by-nc-sa/4.0/\"><img alt=\"Creative Commons License\" style=\"border-width:0\" src=\"https://i.creativecommons.org/l/by-nc-sa/4.0/88x31.png\" /></a><br />This work is licensed under a <a rel=\"license\" href=\"http://creativecommons.org/licenses/by-nc-sa/4.0/\">Creative Commons Attribution-NonCommercial-ShareAlike 4.0 International License</a>. <br/><br/>"
   ]
  },
  {
   "cell_type": "markdown",
   "id": "91d5d211-7be0-42bb-a21a-abbc6a429dc8",
   "metadata": {},
   "source": [
    "# Evaluation Metrics for Classification"
   ]
  },
  {
   "cell_type": "code",
   "execution_count": 1,
   "id": "5c094d4c-8f1b-4342-a820-ad13b9aff68d",
   "metadata": {},
   "outputs": [],
   "source": [
    "from sklearn.metrics import confusion_matrix\n",
    "from sklearn.metrics import ConfusionMatrixDisplay\n",
    "from sklearn.metrics import recall_score\n",
    "from sklearn.metrics import precision_score\n",
    "from sklearn.metrics import accuracy_score\n",
    "from sklearn.metrics import balanced_accuracy_score\n",
    "from sklearn.metrics import f1_score\n",
    "from sklearn.metrics import classification_report\n",
    "import numpy as np"
   ]
  },
  {
   "cell_type": "markdown",
   "id": "f36e050d-185f-4e17-acdb-9ea7a41722b6",
   "metadata": {},
   "source": [
    "#### Binary Problem"
   ]
  },
  {
   "cell_type": "code",
   "execution_count": 2,
   "id": "1c2e5325-c6b0-4c93-b7c8-8306c9273280",
   "metadata": {},
   "outputs": [],
   "source": [
    "# ground-truth\n",
    "y_true_bin  = ['Cancer'] * 100 + ['Healthy'] * 200"
   ]
  },
  {
   "cell_type": "code",
   "execution_count": 3,
   "id": "425e11b1-47fd-418e-9920-56fca1f342ad",
   "metadata": {},
   "outputs": [],
   "source": [
    "# fictional classifier 1: KNN\n",
    "y_pred_bin_knn  = ['Cancer'] * 80 + ['Healthy'] * 20  # prediction of the true cancer\n",
    "y_pred_bin_knn += ['Cancer'] * 130 + ['Healthy'] * 70  # prediction of the true healthy"
   ]
  },
  {
   "cell_type": "code",
   "execution_count": 4,
   "id": "7d7a7dbc-62f4-4b77-97a3-3fc1109ed5ef",
   "metadata": {},
   "outputs": [],
   "source": [
    "# fictional classifier 2: Logistic Regression\n",
    "y_pred_bin_logreg  = ['Cancer'] * 50 + ['Healthy'] * 50  # prediction of the true cancer\n",
    "y_pred_bin_logreg += ['Cancer'] * 120 + ['Healthy'] * 80  # prediction of the true healthy"
   ]
  },
  {
   "cell_type": "markdown",
   "id": "b322fff0-6612-4f67-a8e3-e50d5b06a6d5",
   "metadata": {},
   "source": [
    "#### Multiclass Problem"
   ]
  },
  {
   "cell_type": "code",
   "execution_count": 5,
   "id": "ca79266e-4d6f-46ff-8821-972a9bddf84c",
   "metadata": {},
   "outputs": [],
   "source": [
    "y_true = ['Dog'] * 50 + ['Cat'] * 20  + ['Wolf'] * 20"
   ]
  },
  {
   "cell_type": "code",
   "execution_count": 6,
   "id": "a623d64d-0408-45d6-85cf-557b1be0b7a3",
   "metadata": {},
   "outputs": [],
   "source": [
    "y_pred =  ['Dog'] * 30 + ['Cat'] * 5 + ['Wolf'] * 15 # predictions for Dog\n",
    "y_pred += ['Dog'] * 8 + ['Cat'] * 10 + ['Wolf'] * 2 # predictions for Cat\n",
    "y_pred += ['Dog'] * 4 + ['Cat'] * 1 + ['Wolf'] * 15 # predictions for Cat"
   ]
  },
  {
   "cell_type": "markdown",
   "id": "71cc25bf-b2a7-42a2-8575-6a8189c53e1c",
   "metadata": {},
   "source": [
    "## 1. Confusion Matrix"
   ]
  },
  {
   "cell_type": "code",
   "execution_count": 7,
   "id": "5c0ac866-3502-4014-8850-2b195e5417d8",
   "metadata": {},
   "outputs": [],
   "source": [
    "y_true_bin_num = [2] * 100 + [1] * 200\n",
    "y_pred_bin_num  = [2] * 80 + [1] * 20  # prediction of the true cancer\n",
    "y_pred_bin_num += [2] * 130 + [1] * 70  # prediction of the true healthy"
   ]
  },
  {
   "cell_type": "markdown",
   "id": "7cf52b32-0ffe-4007-b8f8-6665156ae2bd",
   "metadata": {},
   "source": [
    "#### \"Classifier 1\": KNN"
   ]
  },
  {
   "cell_type": "code",
   "execution_count": 8,
   "id": "c8d3ca18-b7c5-455d-ad3d-9a9e4c2d8994",
   "metadata": {},
   "outputs": [
    {
     "data": {
      "text/plain": [
       "array([[ 70, 130],\n",
       "       [ 20,  80]])"
      ]
     },
     "execution_count": 8,
     "metadata": {},
     "output_type": "execute_result"
    }
   ],
   "source": [
    "cm_knn = confusion_matrix(y_true_bin, y_pred_bin_knn, labels=['Healthy', 'Cancer'])\n",
    "cm_knn"
   ]
  },
  {
   "cell_type": "code",
   "execution_count": 9,
   "id": "1852e6c1-3826-4439-b348-da2c4eb0cd40",
   "metadata": {},
   "outputs": [
    {
     "data": {
      "text/plain": [
       "<sklearn.metrics._plot.confusion_matrix.ConfusionMatrixDisplay at 0x1042a7d60>"
      ]
     },
     "execution_count": 9,
     "metadata": {},
     "output_type": "execute_result"
    },
    {
     "data": {
      "image/png": "[encoded data removed]",
      "text/plain": [
       "<Figure size 432x288 with 2 Axes>"
      ]
     },
     "metadata": {
      "needs_background": "light"
     },
     "output_type": "display_data"
    }
   ],
   "source": [
    "disp = ConfusionMatrixDisplay(confusion_matrix=cm_knn, display_labels=['Healthy', 'Cancer'])\n",
    "disp.plot()"
   ]
  },
  {
   "cell_type": "markdown",
   "id": "fd26ff54-c6cd-4644-befa-acd013c39379",
   "metadata": {},
   "source": [
    "#### \"Classifier 2\": Logistic Regregression"
   ]
  },
  {
   "cell_type": "code",
   "execution_count": 10,
   "id": "fc4ab852-ba08-454f-8753-92174587e215",
   "metadata": {},
   "outputs": [
    {
     "data": {
      "text/plain": [
       "array([[ 80, 120],\n",
       "       [ 50,  50]])"
      ]
     },
     "execution_count": 10,
     "metadata": {},
     "output_type": "execute_result"
    }
   ],
   "source": [
    "cm_log_reg = confusion_matrix(y_true_bin, y_pred_bin_logreg, labels=['Healthy', 'Cancer'])\n",
    "cm_log_reg"
   ]
  },
  {
   "cell_type": "code",
   "execution_count": 11,
   "id": "93da4d05-6e70-4aca-8556-479987ae8ac1",
   "metadata": {},
   "outputs": [
    {
     "data": {
      "text/plain": [
       "<sklearn.metrics._plot.confusion_matrix.ConfusionMatrixDisplay at 0x122d50f70>"
      ]
     },
     "execution_count": 11,
     "metadata": {},
     "output_type": "execute_result"
    },
    {
     "data": {
      "image/png": "[encoded data removed]",
      "text/plain": [
       "<Figure size 432x288 with 2 Axes>"
      ]
     },
     "metadata": {
      "needs_background": "light"
     },
     "output_type": "display_data"
    }
   ],
   "source": [
    "disp = ConfusionMatrixDisplay(confusion_matrix=cm_log_reg, display_labels=['Healthy', 'Cancer'])\n",
    "disp.plot()"
   ]
  },
  {
   "cell_type": "markdown",
   "id": "c84b8f00-d884-46b2-b150-cb7135a93f59",
   "metadata": {},
   "source": [
    "#### Multiclass"
   ]
  },
  {
   "cell_type": "code",
   "execution_count": 12,
   "id": "663d8e1b-9ef6-4b23-9b46-c789b3a0eb61",
   "metadata": {},
   "outputs": [
    {
     "data": {
      "text/plain": [
       "array([[10,  8,  2],\n",
       "       [ 5, 30, 15],\n",
       "       [ 1,  4, 15]])"
      ]
     },
     "execution_count": 12,
     "metadata": {},
     "output_type": "execute_result"
    }
   ],
   "source": [
    "cm = confusion_matrix(y_true, y_pred, labels=['Cat', 'Dog', 'Wolf'])\n",
    "cm"
   ]
  },
  {
   "cell_type": "code",
   "execution_count": 13,
   "id": "44e84197-daec-4bd5-8847-1715e3bc75f1",
   "metadata": {},
   "outputs": [
    {
     "data": {
      "text/plain": [
       "array([[10,  8,  2],\n",
       "       [ 5, 30, 15],\n",
       "       [ 1,  4, 15]])"
      ]
     },
     "execution_count": 13,
     "metadata": {},
     "output_type": "execute_result"
    }
   ],
   "source": [
    "confusion_matrix(y_true, y_pred, labels=['Cat', 'Dog', 'Wolf'])"
   ]
  },
  {
   "cell_type": "code",
   "execution_count": 14,
   "id": "8e559655-5122-453d-82da-b0407e0a2f0b",
   "metadata": {},
   "outputs": [
    {
     "data": {
      "text/plain": [
       "<sklearn.metrics._plot.confusion_matrix.ConfusionMatrixDisplay at 0x122e79280>"
      ]
     },
     "execution_count": 14,
     "metadata": {},
     "output_type": "execute_result"
    },
    {
     "data": {
      "image/png": "[encoded data removed]",
      "text/plain": [
       "<Figure size 432x288 with 2 Axes>"
      ]
     },
     "metadata": {
      "needs_background": "light"
     },
     "output_type": "display_data"
    }
   ],
   "source": [
    "disp = ConfusionMatrixDisplay(confusion_matrix=cm, display_labels=['Cat', 'Dog', 'Wolf'])\n",
    "disp.plot()"
   ]
  },
  {
   "cell_type": "code",
   "execution_count": 15,
   "id": "dc35e09c-7262-460f-9c01-2927871ff786",
   "metadata": {},
   "outputs": [],
   "source": [
    "cm = confusion_matrix(y_true, y_pred,\n",
    "                      labels=['Cat', 'Dog', 'Wolf'])\n",
    "\n",
    "TP = np.diag(cm)\n",
    "FP = cm.sum(axis=0) - TP\n",
    "FN = cm.sum(axis=1) - TP\n",
    "TN = cm.sum() - (TP + FP + FN)"
   ]
  },
  {
   "cell_type": "code",
   "execution_count": 16,
   "id": "85b9aa25-6936-4e29-b09c-7652908a40db",
   "metadata": {},
   "outputs": [
    {
     "name": "stdout",
     "output_type": "stream",
     "text": [
      "TP = [10 30 15]\n",
      "FP = [ 6 12 17]\n",
      "FN = [10 20  5]\n",
      "TN = [64 28 53]\n"
     ]
    }
   ],
   "source": [
    "print(f'TP = {TP}')\n",
    "print(f'FP = {FP}')\n",
    "print(f'FN = {FN}')\n",
    "print(f'TN = {TN}')"
   ]
  },
  {
   "cell_type": "markdown",
   "id": "7f9a0f35-e56a-41bb-b745-62f533bc52e4",
   "metadata": {},
   "source": [
    "## 2. Sensitivity (`recall_score`)"
   ]
  },
  {
   "cell_type": "markdown",
   "id": "bc671609-cae7-45c1-85ae-fee2a9a08a7a",
   "metadata": {},
   "source": [
    "#### \"Classifier 1\": KNN"
   ]
  },
  {
   "cell_type": "code",
   "execution_count": 17,
   "id": "804cd789-2bb1-4e94-9d4d-b1d9ba901098",
   "metadata": {},
   "outputs": [
    {
     "data": {
      "text/plain": [
       "0.8"
      ]
     },
     "execution_count": 17,
     "metadata": {},
     "output_type": "execute_result"
    }
   ],
   "source": [
    "recall_score(y_true_bin, y_pred_bin_knn, pos_label='Cancer')"
   ]
  },
  {
   "cell_type": "markdown",
   "id": "4b91b921-b833-41bf-be3f-cc17ff4ecb07",
   "metadata": {},
   "source": [
    "#### \"Classifier 2\": Logistic Regregression"
   ]
  },
  {
   "cell_type": "code",
   "execution_count": 18,
   "id": "cb8d4bff-cba8-4058-8660-bdc20bec70a8",
   "metadata": {},
   "outputs": [
    {
     "data": {
      "text/plain": [
       "0.5"
      ]
     },
     "execution_count": 18,
     "metadata": {},
     "output_type": "execute_result"
    }
   ],
   "source": [
    "recall_score(y_true_bin, y_pred_bin_logreg, pos_label='Cancer')"
   ]
  },
  {
   "cell_type": "markdown",
   "id": "631fdf8f-7e2e-413c-a391-1371bce4f761",
   "metadata": {},
   "source": [
    "#### Multiclass"
   ]
  },
  {
   "cell_type": "code",
   "execution_count": 19,
   "id": "7ca99440-651c-409d-8233-24f74b87a3ac",
   "metadata": {},
   "outputs": [
    {
     "data": {
      "text/plain": [
       "array([0.5 , 0.6 , 0.75])"
      ]
     },
     "execution_count": 19,
     "metadata": {},
     "output_type": "execute_result"
    }
   ],
   "source": [
    "# outputting a score for each class\n",
    "recall_score(y_true, y_pred, average=None, labels=['Cat', 'Dog', 'Wolf'])"
   ]
  },
  {
   "cell_type": "code",
   "execution_count": 20,
   "id": "e9ac8a0f-b1bd-400e-a23b-f4258ac1ae99",
   "metadata": {},
   "outputs": [
    {
     "data": {
      "text/plain": [
       "0.6166666666666667"
      ]
     },
     "execution_count": 20,
     "metadata": {},
     "output_type": "execute_result"
    }
   ],
   "source": [
    "# averaging the scores by the 'macro' strategy\n",
    "recall_score(y_true, y_pred, average='macro', labels=['Cat', 'Dog', 'Wolf'])"
   ]
  },
  {
   "cell_type": "code",
   "execution_count": 21,
   "id": "36b568f0-2fd0-41f5-8405-c1b254f79a4f",
   "metadata": {},
   "outputs": [
    {
     "data": {
      "text/plain": [
       "0.6111111111111112"
      ]
     },
     "execution_count": 21,
     "metadata": {},
     "output_type": "execute_result"
    }
   ],
   "source": [
    "# averaging the scores by the 'micro' strategy\n",
    "recall_score(y_true, y_pred, average='micro', labels=['Cat', 'Dog', 'Wolf'])"
   ]
  },
  {
   "cell_type": "code",
   "execution_count": 22,
   "id": "41065ef1-1d20-41e5-ad49-2ec4ceafd28b",
   "metadata": {},
   "outputs": [
    {
     "data": {
      "text/plain": [
       "0.6111111111111112"
      ]
     },
     "execution_count": 22,
     "metadata": {},
     "output_type": "execute_result"
    }
   ],
   "source": [
    "# averaging the scores by the 'weighted' strategy\n",
    "recall_score(y_true, y_pred, average='weighted', labels=['Cat', 'Dog', 'Wolf'])"
   ]
  },
  {
   "cell_type": "markdown",
   "id": "1c8f9571-7698-4029-adf7-393c9a7c7e92",
   "metadata": {},
   "source": [
    "## 3. Specifity"
   ]
  },
  {
   "cell_type": "markdown",
   "id": "58503378-d2c4-4dc1-b9ca-84cfdd937a27",
   "metadata": {},
   "source": [
    "For the **binary case**, _**specificity**_ is the **\"sensitivity/recall\"** for the **negative class**."
   ]
  },
  {
   "cell_type": "markdown",
   "id": "88de1154-1f0a-4984-9156-ebd8fb51bb33",
   "metadata": {},
   "source": [
    "#### \"Classifier 1\": KNN"
   ]
  },
  {
   "cell_type": "code",
   "execution_count": 23,
   "id": "7ce185a5-7cf9-4824-8b8f-ad9922419b86",
   "metadata": {},
   "outputs": [
    {
     "name": "stdout",
     "output_type": "stream",
     "text": [
      "specificity_knn = 0.35\n"
     ]
    }
   ],
   "source": [
    "tn, fp, fn, tp = confusion_matrix(y_true_bin, y_pred_bin_knn,\n",
    "                                  labels=['Healthy', 'Cancer']).ravel()\n",
    "\n",
    "specificity_knn = tn / (tn + fp)\n",
    "print(f'specificity_knn = {specificity_knn}')"
   ]
  },
  {
   "cell_type": "code",
   "execution_count": 24,
   "id": "4a47370c-cc63-4230-87ad-b39fb6ed3b5c",
   "metadata": {},
   "outputs": [
    {
     "data": {
      "text/plain": [
       "0.35"
      ]
     },
     "execution_count": 24,
     "metadata": {},
     "output_type": "execute_result"
    }
   ],
   "source": [
    "# for two classes, we can compute sensitivity by assuming the negative class as the positive class in `recall_score`.\n",
    "recall_score(y_true_bin, y_pred_bin_knn, pos_label='Healthy')"
   ]
  },
  {
   "cell_type": "markdown",
   "id": "c16088bd-09e3-433f-91cb-cbdd608172b0",
   "metadata": {},
   "source": [
    "#### \"Classifier 2\": Logistic Regregression"
   ]
  },
  {
   "cell_type": "code",
   "execution_count": 25,
   "id": "aab51f22-393b-4b23-ac16-93640121f652",
   "metadata": {},
   "outputs": [
    {
     "name": "stdout",
     "output_type": "stream",
     "text": [
      "specificity_logreg = 0.4\n"
     ]
    }
   ],
   "source": [
    "tn, fp, fn, tp = confusion_matrix(y_true_bin, y_pred_bin_logreg,\n",
    "                                  labels=['Healthy', 'Cancer']).ravel()\n",
    "\n",
    "specificity_logreg = tn / (tn + fp)\n",
    "print(f'specificity_logreg = {specificity_logreg}')"
   ]
  },
  {
   "cell_type": "code",
   "execution_count": 26,
   "id": "e13afc85-92ca-4aa2-8fe3-3554b224f1b3",
   "metadata": {},
   "outputs": [
    {
     "data": {
      "text/plain": [
       "0.4"
      ]
     },
     "execution_count": 26,
     "metadata": {},
     "output_type": "execute_result"
    }
   ],
   "source": [
    "# for two classes, we can compute sensitivity by assuming the negative class as the positive class in `recall_score`.\n",
    "recall_score(y_true_bin, y_pred_bin_logreg, pos_label='Healthy')"
   ]
  },
  {
   "cell_type": "markdown",
   "id": "aa49e5f5-d3d2-4228-847e-5860366edfee",
   "metadata": {},
   "source": [
    "#### Multiclass"
   ]
  },
  {
   "cell_type": "code",
   "execution_count": 27,
   "id": "cdd19f10-4a08-4527-a928-5bfac63d9546",
   "metadata": {},
   "outputs": [
    {
     "name": "stdout",
     "output_type": "stream",
     "text": [
      "specifity = [0.91428571 0.7        0.75714286]\n",
      "specifity macro = 0.7904761904761904\n",
      "specifity weighted = 0.7603174603174603\n"
     ]
    }
   ],
   "source": [
    "cm = confusion_matrix(y_true, y_pred,\n",
    "                      labels=['Cat', 'Dog', 'Wolf'])\n",
    "\n",
    "# number of true samples of each class\n",
    "class_sizes = cm.sum(axis=1)\n",
    "number_of_samples = cm.sum()\n",
    "weights = class_sizes / number_of_samples\n",
    "\n",
    "TP = np.diag(cm)\n",
    "FP = cm.sum(axis=0) - TP\n",
    "FN = cm.sum(axis=1) - TP\n",
    "TN = cm.sum() - (TP + FP + FN)\n",
    "\n",
    "specifity = TN / (TN + FP)\n",
    "specifity_macro = specifity.mean()\n",
    "specifity_weighted = np.sum(specifity * weights)\n",
    "\n",
    "print(f'specifity = {specifity}')\n",
    "print(f'specifity macro = {specifity_macro}')\n",
    "print(f'specifity weighted = {specifity_weighted}')"
   ]
  },
  {
   "cell_type": "markdown",
   "id": "d63defbf-02fd-40ad-b732-ab9766ee85ea",
   "metadata": {},
   "source": [
    "## 4. Precision"
   ]
  },
  {
   "cell_type": "markdown",
   "id": "e6ce966b-cea3-4c87-87db-c959bc2ee861",
   "metadata": {},
   "source": [
    "#### \"Classifier 1\": KNN"
   ]
  },
  {
   "cell_type": "code",
   "execution_count": 28,
   "id": "4d444ecd-209d-4b19-aad3-9c1477791c38",
   "metadata": {},
   "outputs": [
    {
     "data": {
      "text/plain": [
       "0.38095238095238093"
      ]
     },
     "execution_count": 28,
     "metadata": {},
     "output_type": "execute_result"
    }
   ],
   "source": [
    "precision_score(y_true_bin, y_pred_bin_knn, pos_label='Cancer')"
   ]
  },
  {
   "cell_type": "markdown",
   "id": "b6d74bbd-9fbd-4f3f-b62a-74e643dd1c37",
   "metadata": {},
   "source": [
    "#### \"Classifier 2\": Logistic Regression"
   ]
  },
  {
   "cell_type": "code",
   "execution_count": 29,
   "id": "1cc2739e-f6e7-4ba1-8d5b-67f0aec5dce6",
   "metadata": {},
   "outputs": [
    {
     "data": {
      "text/plain": [
       "0.29411764705882354"
      ]
     },
     "execution_count": 29,
     "metadata": {},
     "output_type": "execute_result"
    }
   ],
   "source": [
    "precision_score(y_true_bin, y_pred_bin_logreg, pos_label='Cancer')"
   ]
  },
  {
   "cell_type": "markdown",
   "id": "05feade1-0b5d-4dd3-9e95-f828037642ae",
   "metadata": {},
   "source": [
    "#### Multiclass"
   ]
  },
  {
   "cell_type": "code",
   "execution_count": 30,
   "id": "41c00369-50f4-453c-a3b4-7a7ea791331c",
   "metadata": {},
   "outputs": [
    {
     "data": {
      "text/plain": [
       "array([0.625     , 0.71428571, 0.46875   ])"
      ]
     },
     "execution_count": 30,
     "metadata": {},
     "output_type": "execute_result"
    }
   ],
   "source": [
    "# outputting a score for each class\n",
    "precision_score(y_true, y_pred, average=None, labels=['Cat', 'Dog', 'Wolf'])"
   ]
  },
  {
   "cell_type": "code",
   "execution_count": 31,
   "id": "c75078e3-c188-4fa0-8c9b-8046f137895a",
   "metadata": {},
   "outputs": [
    {
     "data": {
      "text/plain": [
       "0.6026785714285715"
      ]
     },
     "execution_count": 31,
     "metadata": {},
     "output_type": "execute_result"
    }
   ],
   "source": [
    "# averaging the scores by the 'macro' strategy\n",
    "precision_score(y_true, y_pred, average='macro', labels=['Cat', 'Dog', 'Wolf'])"
   ]
  },
  {
   "cell_type": "code",
   "execution_count": 32,
   "id": "92a98ca7-f678-4356-ae12-91398b3bd1cf",
   "metadata": {},
   "outputs": [
    {
     "data": {
      "text/plain": [
       "0.6111111111111112"
      ]
     },
     "execution_count": 32,
     "metadata": {},
     "output_type": "execute_result"
    }
   ],
   "source": [
    "# averaging the scores by the 'micro' strategy\n",
    "precision_score(y_true, y_pred, average='micro', labels=['Cat', 'Dog', 'Wolf'])"
   ]
  },
  {
   "cell_type": "code",
   "execution_count": 33,
   "id": "df7e0b32-d569-49d3-8f61-2bb668d86084",
   "metadata": {},
   "outputs": [
    {
     "data": {
      "text/plain": [
       "0.6398809523809524"
      ]
     },
     "execution_count": 33,
     "metadata": {},
     "output_type": "execute_result"
    }
   ],
   "source": [
    "# averaging the scores by the 'weighted' strategy\n",
    "precision_score(y_true, y_pred, average='weighted', labels=['Cat', 'Dog', 'Wolf'])"
   ]
  },
  {
   "cell_type": "markdown",
   "id": "6a2b4371-702d-4199-be31-711d43fe28cf",
   "metadata": {},
   "source": [
    "## 5. Accuracy"
   ]
  },
  {
   "cell_type": "markdown",
   "id": "fabfeddb-437b-48ae-a8ae-880c77102659",
   "metadata": {},
   "source": [
    "#### \"Classifier 1\": KNN"
   ]
  },
  {
   "cell_type": "code",
   "execution_count": 34,
   "id": "c5461417-71ce-46e5-b33e-5a43e5a6009e",
   "metadata": {},
   "outputs": [
    {
     "data": {
      "text/plain": [
       "0.5"
      ]
     },
     "execution_count": 34,
     "metadata": {},
     "output_type": "execute_result"
    }
   ],
   "source": [
    "accuracy_score(y_true_bin, y_pred_bin_knn)"
   ]
  },
  {
   "cell_type": "markdown",
   "id": "272aca5b-9d0c-44fe-be49-ccaba2133687",
   "metadata": {},
   "source": [
    "#### \"Classifier 2\": KNN"
   ]
  },
  {
   "cell_type": "code",
   "execution_count": 35,
   "id": "c6558ebe-cb41-4984-a217-659f74600ed0",
   "metadata": {},
   "outputs": [
    {
     "data": {
      "text/plain": [
       "0.43333333333333335"
      ]
     },
     "execution_count": 35,
     "metadata": {},
     "output_type": "execute_result"
    }
   ],
   "source": [
    "accuracy_score(y_true_bin, y_pred_bin_logreg)"
   ]
  },
  {
   "cell_type": "markdown",
   "id": "138e3e2c-2211-4db2-b1ad-5e98ed64d8f6",
   "metadata": {},
   "source": [
    "#### Multiclass"
   ]
  },
  {
   "cell_type": "code",
   "execution_count": 36,
   "id": "8db5e7ac-ee33-4bcb-b8c2-56ace74f277f",
   "metadata": {},
   "outputs": [
    {
     "data": {
      "text/plain": [
       "0.6111111111111112"
      ]
     },
     "execution_count": 36,
     "metadata": {},
     "output_type": "execute_result"
    }
   ],
   "source": [
    "# outputting a score for each class\n",
    "accuracy_score(y_true, y_pred)"
   ]
  },
  {
   "cell_type": "markdown",
   "id": "5fdff4e2-63e3-42c5-8516-d2f25d5ef1f2",
   "metadata": {},
   "source": [
    "## 6. Balanced Accuracy"
   ]
  },
  {
   "cell_type": "markdown",
   "id": "2489d2ef-a276-4e55-aab5-0724a5d38cfd",
   "metadata": {},
   "source": [
    "#### \"Classifier 1\": KNN"
   ]
  },
  {
   "cell_type": "code",
   "execution_count": 37,
   "id": "b8a3d40f-0861-41b9-9ce4-16f4ad2192bd",
   "metadata": {},
   "outputs": [
    {
     "name": "stdout",
     "output_type": "stream",
     "text": [
      "              precision    recall  f1-score   support\n",
      "\n",
      "     Healthy     0.7778    0.3500    0.4828       200\n",
      "      Cancer     0.3810    0.8000    0.5161       100\n",
      "\n",
      "    accuracy                         0.5000       300\n",
      "   macro avg     0.5794    0.5750    0.4994       300\n",
      "weighted avg     0.6455    0.5000    0.4939       300\n",
      "\n"
     ]
    }
   ],
   "source": [
    "print(classification_report(y_true_bin, y_pred_bin_knn, labels=['Healthy', 'Cancer'], digits=4))"
   ]
  },
  {
   "cell_type": "code",
   "execution_count": 38,
   "id": "a29da61f-966e-41ee-9077-956fc5d2e69f",
   "metadata": {},
   "outputs": [
    {
     "data": {
      "text/plain": [
       "0.575"
      ]
     },
     "execution_count": 38,
     "metadata": {},
     "output_type": "execute_result"
    }
   ],
   "source": [
    "from sklearn.metrics import balanced_accuracy_score\n",
    "balanced_accuracy_score(y_true_bin, y_pred_bin_knn, adjusted=False)"
   ]
  },
  {
   "cell_type": "markdown",
   "id": "2b184958-26ab-4739-b85b-e71933df94b6",
   "metadata": {},
   "source": [
    "#### \"Classifier 2\": Logistic Regression"
   ]
  },
  {
   "cell_type": "code",
   "execution_count": 39,
   "id": "0cca89eb-bd30-4164-830b-a30fc68657b2",
   "metadata": {},
   "outputs": [
    {
     "data": {
      "text/plain": [
       "0.45"
      ]
     },
     "execution_count": 39,
     "metadata": {},
     "output_type": "execute_result"
    }
   ],
   "source": [
    "from sklearn.metrics import balanced_accuracy_score\n",
    "balanced_accuracy_score(y_true_bin, y_pred_bin_logreg, adjusted=False)"
   ]
  },
  {
   "cell_type": "markdown",
   "id": "b137bf50-2f06-4cc8-9b20-450fa17d1c79",
   "metadata": {},
   "source": [
    "#### Multiclass"
   ]
  },
  {
   "cell_type": "code",
   "execution_count": 40,
   "id": "b972bc24-5eba-480a-98ca-c353f3e3589f",
   "metadata": {},
   "outputs": [
    {
     "data": {
      "text/plain": [
       "0.6166666666666667"
      ]
     },
     "execution_count": 40,
     "metadata": {},
     "output_type": "execute_result"
    }
   ],
   "source": [
    "from sklearn.metrics import balanced_accuracy_score\n",
    "balanced_accuracy_score(y_true, y_pred, adjusted=False)"
   ]
  },
  {
   "cell_type": "markdown",
   "id": "9cbc25c1-bc58-4d46-b16f-754cf6497b4a",
   "metadata": {},
   "source": [
    "## 7. Class Balanced Accuracy\n",
    "A version proposed by [Mosley et al., “A balanced approach to the multi-class imbalance problem”, IJCV 2010.](https://lib.dr.iastate.edu/etd/13537/) <br/>\n",
    "Section 3.2, Equations 3.1 – 3.4"
   ]
  },
  {
   "cell_type": "code",
   "execution_count": 41,
   "id": "b2623af5-9e1f-4e72-b666-4e6a5e247045",
   "metadata": {},
   "outputs": [],
   "source": [
    "def class_balanced_accuracy(y_true, y_pred):\n",
    "    '''Class Balance Accuracy by Mosley et al.: “A balanced approach to the multi-class imbalance problem”, IJCV 2010.\n",
    "https://lib.dr.iastate.edu/etd/13537 - Section 3.2, Equations 3.1 – 3.4\n",
    "    \n",
    "    Parameters:\n",
    "    -----------\n",
    "        y_true (1d array-like):\n",
    "            Ground truth (correct) target values. \n",
    "        y_pred (1d array-like):\n",
    "            Estimated targets as returned by a classifier.\n",
    "\n",
    "    Returns:\n",
    "    --------\n",
    "        Class Balanced Accuracy.\n",
    "    '''\n",
    "    labels = list(set(y_true))\n",
    "    assert len(labels) != 0\n",
    "\n",
    "    recall = recall_score(y_true, y_pred, average=None, labels=labels)\n",
    "    precision = precision_score(y_true, y_pred, average=None, labels=labels)\n",
    "    \n",
    "    \n",
    "    cba = np.minimum(recall, precision).mean()\n",
    "    \n",
    "    return cba"
   ]
  },
  {
   "cell_type": "markdown",
   "id": "f2b9ddc8-a162-4efe-8563-c65dce995a4e",
   "metadata": {},
   "source": [
    "#### \"Classifier 1\": KNN"
   ]
  },
  {
   "cell_type": "code",
   "execution_count": 42,
   "id": "12135ce5-b1b9-4df5-968d-31ee96f5de48",
   "metadata": {},
   "outputs": [
    {
     "data": {
      "text/plain": [
       "0.36547619047619045"
      ]
     },
     "execution_count": 42,
     "metadata": {},
     "output_type": "execute_result"
    }
   ],
   "source": [
    "class_balanced_accuracy(y_true_bin, y_pred_bin_knn)"
   ]
  },
  {
   "cell_type": "markdown",
   "id": "fb463c17-e2e0-4f44-b356-6bc7e30e6192",
   "metadata": {},
   "source": [
    "#### \"Classifier 2\": Logistic Regression"
   ]
  },
  {
   "cell_type": "code",
   "execution_count": 43,
   "id": "ed8d9d80-f330-404b-8d0d-9241b2f0b179",
   "metadata": {},
   "outputs": [
    {
     "data": {
      "text/plain": [
       "0.34705882352941175"
      ]
     },
     "execution_count": 43,
     "metadata": {},
     "output_type": "execute_result"
    }
   ],
   "source": [
    "class_balanced_accuracy(y_true_bin, y_pred_bin_logreg)"
   ]
  },
  {
   "cell_type": "markdown",
   "id": "36162cc2-1ca9-4653-be76-c1f13366ebe8",
   "metadata": {},
   "source": [
    "#### Multiclass"
   ]
  },
  {
   "cell_type": "code",
   "execution_count": 44,
   "id": "e7bfb2f0-a322-4a77-b553-0eb69b4c8fb8",
   "metadata": {},
   "outputs": [
    {
     "data": {
      "text/plain": [
       "0.5229166666666667"
      ]
     },
     "execution_count": 44,
     "metadata": {},
     "output_type": "execute_result"
    }
   ],
   "source": [
    "class_balanced_accuracy(y_true, y_pred)"
   ]
  },
  {
   "cell_type": "markdown",
   "id": "248b0923-3899-43b8-8e4d-30d42fbe9138",
   "metadata": {},
   "source": [
    "## 8. F1-Score"
   ]
  },
  {
   "cell_type": "markdown",
   "id": "1dd13b48-1e85-4650-b55f-d5d3984fcaf8",
   "metadata": {},
   "source": [
    "#### \"Classifier 1\": KNN"
   ]
  },
  {
   "cell_type": "code",
   "execution_count": 45,
   "id": "30a99d87-ca22-4a3c-af7d-7a8b6f0ccf6e",
   "metadata": {},
   "outputs": [
    {
     "data": {
      "text/plain": [
       "0.5161290322580645"
      ]
     },
     "execution_count": 45,
     "metadata": {},
     "output_type": "execute_result"
    }
   ],
   "source": [
    "from sklearn.metrics import f1_score\n",
    "f1_score(y_true_bin, y_pred_bin_knn, pos_label='Cancer')"
   ]
  },
  {
   "cell_type": "markdown",
   "id": "5f439bb8-2645-4df8-a936-c5eb07bffcf7",
   "metadata": {},
   "source": [
    "#### \"Classifier 2\": Logistic Regression"
   ]
  },
  {
   "cell_type": "code",
   "execution_count": 46,
   "id": "45447306-ea73-4d37-a67d-cb9296e955ca",
   "metadata": {},
   "outputs": [
    {
     "data": {
      "text/plain": [
       "0.37037037037037035"
      ]
     },
     "execution_count": 46,
     "metadata": {},
     "output_type": "execute_result"
    }
   ],
   "source": [
    "f1_score(y_true_bin, y_pred_bin_logreg, pos_label='Cancer')"
   ]
  },
  {
   "cell_type": "markdown",
   "id": "e5b311e4-c8e1-41b1-ba9d-8a24544118fd",
   "metadata": {},
   "source": [
    "#### Multiclass"
   ]
  },
  {
   "cell_type": "code",
   "execution_count": 47,
   "id": "9c8a591c-2127-4005-9adc-93aa9f628b38",
   "metadata": {},
   "outputs": [
    {
     "data": {
      "text/plain": [
       "array([0.55555556, 0.65217391, 0.57692308])"
      ]
     },
     "execution_count": 47,
     "metadata": {},
     "output_type": "execute_result"
    }
   ],
   "source": [
    "from sklearn.metrics import f1_score\n",
    "f1_score(y_true, y_pred, average=None, labels=['Cat', 'Dog', 'Wolf'])"
   ]
  },
  {
   "cell_type": "code",
   "execution_count": 48,
   "id": "49be6de2-2fa0-4c4c-ad49-8a073493822f",
   "metadata": {},
   "outputs": [
    {
     "data": {
      "text/plain": [
       "array([0.55555556, 0.65217391, 0.57692308])"
      ]
     },
     "execution_count": 48,
     "metadata": {},
     "output_type": "execute_result"
    }
   ],
   "source": [
    "# outputting a score for each class\n",
    "f1_score(y_true, y_pred, average=None, labels=['Cat', 'Dog', 'Wolf'])"
   ]
  },
  {
   "cell_type": "code",
   "execution_count": 49,
   "id": "76eebb78-6854-4a16-a556-ba739aa4ed16",
   "metadata": {},
   "outputs": [
    {
     "data": {
      "text/plain": [
       "0.5948841818407036"
      ]
     },
     "execution_count": 49,
     "metadata": {},
     "output_type": "execute_result"
    }
   ],
   "source": [
    "from sklearn.metrics import f1_score\n",
    "f1_score(y_true, y_pred, average='macro',\n",
    "         labels=['Cat', 'Dog', 'Wolf'])"
   ]
  },
  {
   "cell_type": "code",
   "execution_count": 50,
   "id": "ca877e7f-b1d8-430b-9f3a-110ee4f98c0f",
   "metadata": {},
   "outputs": [
    {
     "data": {
      "text/plain": [
       "0.6111111111111112"
      ]
     },
     "execution_count": 50,
     "metadata": {},
     "output_type": "execute_result"
    }
   ],
   "source": [
    "from sklearn.metrics import f1_score\n",
    "f1_score(y_true, y_pred, average='micro',\n",
    "         labels=['Cat', 'Dog', 'Wolf'])"
   ]
  },
  {
   "cell_type": "code",
   "execution_count": 51,
   "id": "a7940821-6934-4cc0-9ca1-4fa97111bccd",
   "metadata": {},
   "outputs": [
    {
     "data": {
      "text/plain": [
       "0.6139807589082951"
      ]
     },
     "execution_count": 51,
     "metadata": {},
     "output_type": "execute_result"
    }
   ],
   "source": [
    "from sklearn.metrics import f1_score\n",
    "f1_score(y_true, y_pred, average='weighted',\n",
    "         labels=['Cat', 'Dog', 'Wolf'])"
   ]
  },
  {
   "cell_type": "markdown",
   "id": "73a048d4-4b41-47d7-9dae-00b2fbc08c47",
   "metadata": {},
   "source": [
    "## 9. Classification Report"
   ]
  },
  {
   "cell_type": "markdown",
   "id": "c0ea58b7-02e7-400d-822d-0835c000cd9e",
   "metadata": {},
   "source": [
    "#### \"Classifier 1\": KNN"
   ]
  },
  {
   "cell_type": "code",
   "execution_count": 52,
   "id": "93ba87a8-63c0-45e1-95ed-c24e45b37dbe",
   "metadata": {},
   "outputs": [
    {
     "name": "stdout",
     "output_type": "stream",
     "text": [
      "              precision    recall  f1-score   support\n",
      "\n",
      "     Healthy     0.7778    0.3500    0.4828       200\n",
      "      Cancer     0.3810    0.8000    0.5161       100\n",
      "\n",
      "    accuracy                         0.5000       300\n",
      "   macro avg     0.5794    0.5750    0.4994       300\n",
      "weighted avg     0.6455    0.5000    0.4939       300\n",
      "\n"
     ]
    }
   ],
   "source": [
    "from sklearn.metrics import classification_report\n",
    "print(classification_report(y_true_bin, y_pred_bin_knn, labels=['Healthy', 'Cancer'], digits=4))"
   ]
  },
  {
   "cell_type": "markdown",
   "id": "631d70e3-50c1-4700-a7fa-5c0be736e27e",
   "metadata": {},
   "source": [
    "#### \"Classifier 2\": Logistic Regression"
   ]
  },
  {
   "cell_type": "code",
   "execution_count": 53,
   "id": "33911003-e9e7-4401-b10e-266520f8c9e4",
   "metadata": {},
   "outputs": [
    {
     "name": "stdout",
     "output_type": "stream",
     "text": [
      "              precision    recall  f1-score   support\n",
      "\n",
      "     Healthy     0.6154    0.4000    0.4848       200\n",
      "      Cancer     0.2941    0.5000    0.3704       100\n",
      "\n",
      "    accuracy                         0.4333       300\n",
      "   macro avg     0.4548    0.4500    0.4276       300\n",
      "weighted avg     0.5083    0.4333    0.4467       300\n",
      "\n"
     ]
    }
   ],
   "source": [
    "from sklearn.metrics import classification_report\n",
    "print(classification_report(y_true_bin, y_pred_bin_logreg, labels=['Healthy', 'Cancer'], digits=4))"
   ]
  },
  {
   "cell_type": "markdown",
   "id": "de43401f-b85d-4825-9ab5-1bfe1a1ad129",
   "metadata": {},
   "source": [
    "#### Multiclass"
   ]
  },
  {
   "cell_type": "code",
   "execution_count": 54,
   "id": "66af0700-ef65-46de-91fa-b1bb40076515",
   "metadata": {},
   "outputs": [
    {
     "name": "stdout",
     "output_type": "stream",
     "text": [
      "              precision    recall  f1-score   support\n",
      "\n",
      "         Cat     0.6250    0.5000    0.5556        20\n",
      "         Dog     0.7143    0.6000    0.6522        50\n",
      "        Wolf     0.4688    0.7500    0.5769        20\n",
      "\n",
      "    accuracy                         0.6111        90\n",
      "   macro avg     0.6027    0.6167    0.5949        90\n",
      "weighted avg     0.6399    0.6111    0.6140        90\n",
      "\n"
     ]
    }
   ],
   "source": [
    "from sklearn.metrics import classification_report\n",
    "print(classification_report(y_true, y_pred, labels=['Cat', 'Dog', 'Wolf'], digits=4))"
   ]
  }
 ],
 "metadata": {
  "kernelspec": {
   "display_name": "Python 3.7.3 64-bit ('yeah': virtualenv)",
   "language": "python",
   "name": "python37364bityeahvirtualenv41b95d149b904b48a1741f344d38907c"
  },
  "language_info": {
   "codemirror_mode": {
    "name": "ipython",
    "version": 3
   },
   "file_extension": ".py",
   "mimetype": "text/x-python",
   "name": "python",
   "nbconvert_exporter": "python",
   "pygments_lexer": "ipython3",
   "version": "3.9.5"
  }
 },
 "nbformat": 4,
 "nbformat_minor": 5
}
